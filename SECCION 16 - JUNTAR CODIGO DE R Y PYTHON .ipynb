{
 "cells": [
  {
   "cell_type": "markdown",
   "metadata": {},
   "source": [
    "# 227. INSTALAR LIBRERÍA RPY2"
   ]
  },
  {
   "cell_type": "code",
   "execution_count": 1,
   "metadata": {},
   "outputs": [],
   "source": [
    "import pandas as pd \n",
    "import numpy as np "
   ]
  },
  {
   "cell_type": "code",
   "execution_count": 2,
   "metadata": {},
   "outputs": [],
   "source": [
    "import matplotlib.pyplot as plt \n",
    "%matplotlib inline "
   ]
  },
  {
   "cell_type": "code",
   "execution_count": 3,
   "metadata": {},
   "outputs": [],
   "source": [
    "import rpy2 #lo podemos intepretar como un traductor entre un idiomas y otro. "
   ]
  },
  {
   "cell_type": "code",
   "execution_count": 6,
   "metadata": {},
   "outputs": [],
   "source": [
    "#sublibrerias para combinar r con python \n",
    "import rpy2.robjects as ro\n",
    "import rpy2.robjects.numpy2ri #numpy2ri convierte objetos numpy a objetos de rpy2, que son objetos de R. "
   ]
  },
  {
   "cell_type": "code",
   "execution_count": 8,
   "metadata": {},
   "outputs": [],
   "source": [
    "rpy2.robjects.numpy2ri.activate()"
   ]
  },
  {
   "cell_type": "markdown",
   "metadata": {},
   "source": [
    "# 229. LLEVANDO OBJETOS DE R A PYTHON "
   ]
  },
  {
   "cell_type": "code",
   "execution_count": 9,
   "metadata": {},
   "outputs": [],
   "source": [
    "codigo_r = \"\"\"\n",
    "saludar <- function(cadena){\n",
    "return(paste(\"Hola, \", cadena))\n",
    "}\n",
    "\n",
    "\"\"\"\n",
    "#esto ya es una funcion de R, que la hemos guardado como si se tratara de un string en python, \n",
    "#pero la ventaja es que ahora podemos llamar ro. "
   ]
  },
  {
   "cell_type": "code",
   "execution_count": 11,
   "metadata": {},
   "outputs": [
    {
     "data": {
      "text/plain": [
       "<rpy2.robjects.functions.SignatureTranslatedFunction object at 0x00000268F9269D00> [RTYPES.CLOSXP]\n",
       "R classes: ('function',)"
      ]
     },
     "execution_count": 11,
     "metadata": {},
     "output_type": "execute_result"
    }
   ],
   "source": [
    "ro.r(codigo_r)\n",
    "#arriba hemos creado una funcion llamada saludar y que ahora esta disponible en el espacio de variables globales de R. \n",
    "#en particular podemos acceder a esa funcion que hemos recompilado en python a traves de R. "
   ]
  },
  {
   "cell_type": "code",
   "execution_count": 12,
   "metadata": {},
   "outputs": [],
   "source": [
    "saludar_py = ro.globalenv[\"saludar\"]"
   ]
  },
  {
   "cell_type": "code",
   "execution_count": 14,
   "metadata": {},
   "outputs": [],
   "source": [
    " res = saludar_py(\"Antonio Banderas\")"
   ]
  },
  {
   "cell_type": "code",
   "execution_count": 15,
   "metadata": {},
   "outputs": [
    {
     "data": {
      "text/plain": [
       "'Hola,  Antonio Banderas'"
      ]
     },
     "execution_count": 15,
     "metadata": {},
     "output_type": "execute_result"
    }
   ],
   "source": [
    "res[0]"
   ]
  },
  {
   "cell_type": "markdown",
   "metadata": {},
   "source": [
    "## ¿COMO PODRIAMOS HACER PARA ALGO QUE CREEMOS EN PYTHON ESTE DISPONIBLE EN R?\n",
    "### USAR R DENTRO DE PYTHON "
   ]
  },
  {
   "cell_type": "code",
   "execution_count": 16,
   "metadata": {},
   "outputs": [],
   "source": [
    "var_from_python = ro.FloatVector(np.arange(1,5,0.1)) #variable que hemos creado desde python "
   ]
  },
  {
   "cell_type": "code",
   "execution_count": 17,
   "metadata": {},
   "outputs": [
    {
     "data": {
      "text/html": [
       "\n",
       "        <span>FloatVector with 40 elements.</span>\n",
       "        <table>\n",
       "        <tbody>\n",
       "          <tr>\n",
       "          \n",
       "            <td>\n",
       "            1.000000\n",
       "            </td>\n",
       "          \n",
       "            <td>\n",
       "            1.100000\n",
       "            </td>\n",
       "          \n",
       "            <td>\n",
       "            1.200000\n",
       "            </td>\n",
       "          \n",
       "            <td>\n",
       "            ...\n",
       "            </td>\n",
       "          \n",
       "            <td>\n",
       "            4.700000\n",
       "            </td>\n",
       "          \n",
       "            <td>\n",
       "            4.800000\n",
       "            </td>\n",
       "          \n",
       "            <td>\n",
       "            4.900000\n",
       "            </td>\n",
       "          \n",
       "          </tr>\n",
       "        </tbody>\n",
       "        </table>\n",
       "        "
      ],
      "text/plain": [
       "<rpy2.robjects.vectors.FloatVector object at 0x00000268F92D1C80> [RTYPES.REALSXP]\n",
       "R classes: ('numeric',)\n",
       "[1.000000, 1.100000, 1.200000, 1.300000, ..., 4.600000, 4.700000, 4.800000, 4.900000]"
      ]
     },
     "execution_count": 17,
     "metadata": {},
     "output_type": "execute_result"
    }
   ],
   "source": [
    "var_from_python"
   ]
  },
  {
   "cell_type": "code",
   "execution_count": 18,
   "metadata": {},
   "outputs": [
    {
     "name": "stdout",
     "output_type": "stream",
     "text": [
      "c(1, 1.1, 1.2, 1.3, 1.4, 1.5, 1.6, 1.7, 1.8, 1.9, 2, 2.1, 2.2, \n",
      "2.3, 2.4, 2.5, 2.6, 2.7, 2.8, 2.9, 3, 3.1, 3.2, 3.3, 3.4, 3.5, \n",
      "3.6, 3.7, 3.8, 3.9, 4, 4.1, 4.2, 4.3, 4.4, 4.5, 4.6, 4.7, 4.8, \n",
      "4.9)\n"
     ]
    }
   ],
   "source": [
    "#para usarlo en R. \n",
    "print(var_from_python.r_repr()) #es la sintaxis en R. "
   ]
  },
  {
   "cell_type": "code",
   "execution_count": 19,
   "metadata": {},
   "outputs": [],
   "source": [
    "ro.globalenv[\"var_to_r\"] = var_from_python\n",
    "#esto lo que dice es que:\n",
    "#añade en R, una variable que se llamara var_to_r, apartir de la variable desde python. "
   ]
  },
  {
   "cell_type": "code",
   "execution_count": 20,
   "metadata": {},
   "outputs": [
    {
     "data": {
      "text/plain": [
       "array([1. , 1.1, 1.2, 1.3, 1.4, 1.5, 1.6, 1.7, 1.8, 1.9, 2. , 2.1, 2.2,\n",
       "       2.3, 2.4, 2.5, 2.6, 2.7, 2.8, 2.9, 3. , 3.1, 3.2, 3.3, 3.4, 3.5,\n",
       "       3.6, 3.7, 3.8, 3.9, 4. , 4.1, 4.2, 4.3, 4.4, 4.5, 4.6, 4.7, 4.8,\n",
       "       4.9])"
      ]
     },
     "execution_count": 20,
     "metadata": {},
     "output_type": "execute_result"
    }
   ],
   "source": [
    "ro.r(\"var_to_r\")"
   ]
  },
  {
   "cell_type": "code",
   "execution_count": 21,
   "metadata": {},
   "outputs": [
    {
     "data": {
      "text/plain": [
       "array([118.])"
      ]
     },
     "execution_count": 21,
     "metadata": {},
     "output_type": "execute_result"
    }
   ],
   "source": [
    "ro.r(\"sum(var_to_r)\")"
   ]
  },
  {
   "cell_type": "code",
   "execution_count": 22,
   "metadata": {},
   "outputs": [
    {
     "data": {
      "text/plain": [
       "array([2.95])"
      ]
     },
     "execution_count": 22,
     "metadata": {},
     "output_type": "execute_result"
    }
   ],
   "source": [
    "ro.r(\"mean(var_to_r)\")"
   ]
  },
  {
   "cell_type": "code",
   "execution_count": 23,
   "metadata": {},
   "outputs": [
    {
     "data": {
      "text/plain": [
       "array([1.16904519])"
      ]
     },
     "execution_count": 23,
     "metadata": {},
     "output_type": "execute_result"
    }
   ],
   "source": [
    "ro.r(\"sd(var_to_r)\")"
   ]
  },
  {
   "cell_type": "code",
   "execution_count": 24,
   "metadata": {},
   "outputs": [
    {
     "data": {
      "text/plain": [
       "118.00000000000007"
      ]
     },
     "execution_count": 24,
     "metadata": {},
     "output_type": "execute_result"
    }
   ],
   "source": [
    "np.sum(var_from_python)"
   ]
  },
  {
   "cell_type": "code",
   "execution_count": 25,
   "metadata": {},
   "outputs": [
    {
     "data": {
      "text/plain": [
       "2.950000000000002"
      ]
     },
     "execution_count": 25,
     "metadata": {},
     "output_type": "execute_result"
    }
   ],
   "source": [
    "np.mean(var_from_python)"
   ]
  },
  {
   "cell_type": "markdown",
   "metadata": {},
   "source": [
    "# 231. COMO INSTALAR Y CARGAR PAQUETES DE R DESDE PYTHON "
   ]
  },
  {
   "cell_type": "markdown",
   "metadata": {},
   "source": [
    "Instalar paquetes de R, trabajar de forma conjunta entre R y Python, R viene instalado con unos paquetes basicos, para ello rpy2 y sus subpaquetes nos van a ayudar a importar la librerua importr, esta nos sirve para importar paquetes. "
   ]
  },
  {
   "cell_type": "code",
   "execution_count": 26,
   "metadata": {},
   "outputs": [],
   "source": [
    "from rpy2.robjects.packages import importr "
   ]
  },
  {
   "cell_type": "code",
   "execution_count": 27,
   "metadata": {},
   "outputs": [
    {
     "name": "stderr",
     "output_type": "stream",
     "text": [
      "R[write to console]: Installing package into 'C:/Users/URIEL/Documents/R/win-library/4.0'\n",
      "(as 'lib' is unspecified)\n",
      "\n"
     ]
    },
    {
     "name": "stdout",
     "output_type": "stream",
     "text": [
      "--- Please select a CRAN mirror for use in this session ---\n"
     ]
    },
    {
     "name": "stderr",
     "output_type": "stream",
     "text": [
      "R[write to console]: also installing the dependencies 'Lmoments', 'distillery'\n",
      "\n",
      "\n",
      "R[write to console]: trying URL 'https://cran.itam.mx/bin/windows/contrib/4.0/Lmoments_1.3-1.zip'\n",
      "\n",
      "R[write to console]: Content type 'application/zip'\n",
      "R[write to console]:  length 846130 bytes (826 KB)\n",
      "\n",
      "R[write to console]: downloaded 826 KB\n",
      "\n",
      "\n",
      "R[write to console]: trying URL 'https://cran.itam.mx/bin/windows/contrib/4.0/distillery_1.2.zip'\n",
      "\n",
      "R[write to console]: Content type 'application/zip'\n",
      "R[write to console]:  length 122109 bytes (119 KB)\n",
      "\n",
      "R[write to console]: downloaded 119 KB\n",
      "\n",
      "\n",
      "R[write to console]: trying URL 'https://cran.itam.mx/bin/windows/contrib/4.0/extRemes_2.1.zip'\n",
      "\n",
      "R[write to console]: Content type 'application/zip'\n",
      "R[write to console]:  length 1222345 bytes (1.2 MB)\n",
      "\n",
      "R[write to console]: downloaded 1.2 MB\n",
      "\n",
      "\n"
     ]
    },
    {
     "name": "stdout",
     "output_type": "stream",
     "text": [
      "package 'Lmoments' successfully unpacked and MD5 sums checked\n",
      "package 'distillery' successfully unpacked and MD5 sums checked\n",
      "package 'extRemes' successfully unpacked and MD5 sums checked\n",
      "\n",
      "The downloaded binary packages are in\n",
      "\tC:\\Users\\URIEL\\AppData\\Local\\Temp\\RtmpOQ9Asd\\downloaded_packages\n"
     ]
    }
   ],
   "source": [
    "#llamado a una funcion de r. \n",
    "ro.r(\"install.packages('extRemes')\")\n",
    "extremes = importr(\"extRemes\") #esto seria el equivalente de library(extRemes)."
   ]
  },
  {
   "cell_type": "code",
   "execution_count": 28,
   "metadata": {},
   "outputs": [],
   "source": [
    "fevd = extremes.fevd"
   ]
  },
  {
   "cell_type": "code",
   "execution_count": 29,
   "metadata": {},
   "outputs": [
    {
     "name": "stdout",
     "output_type": "stream",
     "text": [
      "Wrapper around an R function.\r\n",
      "\r\n",
      "The docstring below is built from the R documentation.\r\n",
      "\r\n",
      "description\r\n",
      "-----------\r\n",
      "\r\n",
      "\n",
      " Fit a univariate extreme value distribution functions (e.g., GEV, GP, PP, Gumbel, or Exponential) to data; possibly with covariates in the parameters.\n",
      " \r\n",
      "\r\n",
      "\r\n",
      "fevd(\r\n",
      "    x,\r\n",
      "    data,\r\n",
      "    threshold = rinterface.NULL,\r\n",
      "    threshold_fun = ~,\r\n",
      "    location_fun = ~,\r\n",
      "    scale_fun = ~,\r\n",
      "    shape_fun = ~,\r\n",
      "    use_phi = False,\r\n",
      "    type = c,\r\n",
      "    method = c,\r\n",
      "    initial = rinterface.NULL,\r\n",
      "    span,\r\n",
      "    units = rinterface.NULL,\r\n",
      "    time_units = days,\r\n",
      "    period_basis = year,\r\n",
      "    na_action = <rpy2.rinterface.ListSexpVector object at 0x00000268F631A0C0> [RTYPES.VECSXP],\r\n",
      "    optim_args = rinterface.NULL,\r\n",
      "    priorFun = rinterface.NULL,\r\n",
      "    priorParams = rinterface.NULL,\r\n",
      "    proposalFun = rinterface.NULL,\r\n",
      "    proposalParams = rinterface.NULL,\r\n",
      "    iter = 9999.0,\r\n",
      "    weights = 1.0,\r\n",
      "    blocks = rinterface.NULL,\r\n",
      "    verbose = False,\r\n",
      ")\r\n",
      "\r\n",
      "Args:\r\n",
      "   x :  'fevd': 'x' can be a numeric vector, the name of a column of\r\n",
      "  'data' or a formula giving the data to which the EVD is to be\r\n",
      "  fit.  In the case of the latter two, the 'data' argument must\r\n",
      "  be specified, and must have appropriately named columns.\r\n",
      "\r\n",
      "   object :  A list object of class \"fevd\" as returned by 'fevd'.\r\n",
      "\r\n",
      "   data :  A data frame object with named columns giving the data to be\r\n",
      "  fit, as well as any data necessary for modeling\r\n",
      "  non-stationarity through the threshold and/or any of the\r\n",
      "  parameters.\r\n",
      "\r\n",
      "   threshold :  numeric (single or vector).  If fitting a peak over\r\n",
      "  threshold (POT) model (i.e., 'type' = \"PP\", \"GP\",\r\n",
      "  \"Exponential\") this is the threshold over which\r\n",
      "  (non-inclusive) data (or excesses) are used to estimate the\r\n",
      "  parameters of the distribution function.  If the length is\r\n",
      "  greater than 1, then the length must be equal to either the\r\n",
      "  length of 'x' (or number of rows of 'data') or to the number\r\n",
      "  of unique arguments in 'threshold.fun'.\r\n",
      "\r\n",
      "   threshold.fun :  formula describing a model for the thresholds using\r\n",
      "  columns from 'data'.  Any valid formula will work.  'data'\r\n",
      "  must be supplied if this argument is anything other than ~ 1.\r\n",
      "  Not for use with 'method' \"Lmoments\".\r\n",
      "\r\n",
      "   use.phi :  logical; should the log of the scale parameter be used in the\r\n",
      "  numerical optimization (for 'method' \"MLE\", \"GMLE\" and\r\n",
      "  \"Bayesian\" only)?  For the ML and GML estimation, this may\r\n",
      "  make things more stable for some data.\r\n",
      "\r\n",
      "   type :  'fevd': character stating which EVD to fit.  Default is to\r\n",
      "  fit the generalized extreme value (GEV) distribution function\r\n",
      "  (df).\r\n",
      "\r\n",
      "   method :  'fevd': character naming which type of estimation method to\r\n",
      "  use.  Default is to use maximum likelihood estimation (MLE).\r\n",
      "\r\n",
      "   initial :  A list object with any named parameter component giving the\r\n",
      "  initial value estimates for starting the numerical\r\n",
      "  optimization (MLE/GMLE) or the MCMC iterations (Bayesian).\r\n",
      "  In the case of MLE/GMLE, it is best to obtain a good intial\r\n",
      "  guess, and in the Bayesian case, it is perhaps better to\r\n",
      "  choose poor initial estimates.  If NULL (default), then\r\n",
      "  L-moments estimates and estimates based on Gumbel moments\r\n",
      "  will be calculated, and whichever yields the lowest negative\r\n",
      "  log-likelihood is used.  In the case of 'type' \"PP\", an\r\n",
      "  additional MLE/GMLE estimate is made for the generalized\r\n",
      "  Pareto (GP) df, and parameters are converted to those of the\r\n",
      "  Poisson Process (PP) model.  Again, the initial estimates\r\n",
      "  yielding the lowest negative log-likelihoo value are used for\r\n",
      "  the initial guess.\r\n",
      "\r\n",
      "   span :  single numeric giving the number of years (or other desired\r\n",
      "  temporal unit) in the data set.  Only used for POT models,\r\n",
      "  and only important in the estimation for the PP model, but\r\n",
      "  important for subsequent estimates of return levels for any\r\n",
      "  POT model.  If missing, it will be calculated using\r\n",
      "  information from 'time.units'.\r\n",
      "\r\n",
      "   units :  (optional) character giving the units of the data, which if\r\n",
      "  given may be used subsequently (e.g., on plot axis labels,\r\n",
      "  etc.).\r\n",
      "\r\n",
      "   time.units :  character string that must be one of \"hours\", \"minutes\",\r\n",
      "  \"seconds\", \"days\", \"months\", \"years\", \"m/hour\", \"m/minute\",\r\n",
      "  \"m/second\", \"m/day\", \"m/month\", or \"m/year\"; where m is a\r\n",
      "  number.  If 'span' is missing, then this argument is used in\r\n",
      "  determining the value of 'span'.  It is also returned with\r\n",
      "  the output and used subsequently for plot labelling, etc.\r\n",
      "\r\n",
      "   period.basis :  character string giving the units for the period.  Used\r\n",
      "  only for plot labelling and naming output vectors from some\r\n",
      "  of the method functions (e.g., for establishing what the\r\n",
      "  period represents for the return period).\r\n",
      "\r\n",
      "   rperiods :  numeric vector giving the return period(s) for which it is\r\n",
      "  desired to calculate the corresponding return levels.\r\n",
      "\r\n",
      "   period :  character string naming the units for the return period.\r\n",
      "\r\n",
      "   burn.in :  The first 'burn.in' values are thrown out before calculating\r\n",
      "  anything from the MCMC sample.\r\n",
      "\r\n",
      "   a :  when plotting empirical probabilies and such, the function\r\n",
      "  'ppoints' is called, which has this argument 'a'.\r\n",
      "\r\n",
      "   d :  numeric determining how to scale the rate parameter for the\r\n",
      "  point process.  If NULL, the function will attempt to scale\r\n",
      "  based on the values of 'period.basis' and 'time.units', the\r\n",
      "  first of which must be \"year\" and the second of which must be\r\n",
      "  one of \"days\", \"months\", \"years\", \"hours\", \"minutes\" or\r\n",
      "  \"seconds\".  If none of these are the case, then 'd' should be\r\n",
      "  specified, otherwise, it is not necessary.\r\n",
      "\r\n",
      "   na.action :  function to be called to handle missing values.  Generally,\r\n",
      "  this should remain at the default (na.fail), and the user\r\n",
      "  should take care to impute missing values in an appropriate\r\n",
      "  manner as it may have serious consequences on the results.\r\n",
      "\r\n",
      "   optim.args :  A list with named components matching exactly any arguments\r\n",
      "  that the user wishes to specify to 'optim', which is used\r\n",
      "  only for MLE and GMLE methods.  By default, the \"BFGS\" method\r\n",
      "  is used along with 'grlevd' for the gradient argument.\r\n",
      "  Generally, the 'grlevd' function is used for the 'gr' option\r\n",
      "  unless the user specifies otherwise, or the optimization\r\n",
      "  method does not take gradient information.\r\n",
      "\r\n",
      "   priorFun :  character naming a prior df to use for methods GMLE and\r\n",
      "  Bayesian.  The default for GMLE (not including Gumbel or\r\n",
      "  Exponential types) is to use the one suggested by Martins and\r\n",
      "  Stedinger (2000, 2001) on the shape parameter; a beta df on\r\n",
      "  -0.5 to 0.5 with parameters 'p' and 'q'.  Must take 'x' as\r\n",
      "  its first argument for 'method' \"GMLE\".  Optional arguments\r\n",
      "  for the default function are 'p' and 'q' (see details\r\n",
      "  section).\r\n",
      "\r\n",
      "   Note :  if this argument is not NULL and 'method' is set to\r\n",
      "  \"MLE\", it will be changed to \"GMLE\".\r\n",
      "\r\n",
      "   priorParams :  named list containing any prior df parameters (where the\r\n",
      "  list names are the same as the function argument names).\r\n",
      "  Default for GMLE (assuming the default function is used) is\r\n",
      "  to use 'q' = 6 and 'p' = 9.  Note that in the Martins and\r\n",
      "  Stedinger (2000, 2001) papers, they use a different EVD\r\n",
      "  parametrization than is used here such that a positive shape\r\n",
      "  parameter gives the upper bounded distribution instead of the\r\n",
      "  heavy-tail one (as emloyed here).  To be consistent with\r\n",
      "  these papers, 'p' and 'q' are reversed inside the code so\r\n",
      "  that they have the same interpretation as in the papers.\r\n",
      "\r\n",
      "   proposalFun :  For Bayesian estimation only, this is a character naming a\r\n",
      "  function used to generate proposal parameters at each\r\n",
      "  iteration of the MCMC.  If NULL (default), a random walk\r\n",
      "  chain is used whereby if theta.i is the current value of the\r\n",
      "  parameter, the proposed new parameter theta.star is given by\r\n",
      "  theta.i + z, where z is drawn at random from a normal df.\r\n",
      "\r\n",
      "   proposalParams :  A named list object describing any optional arguments\r\n",
      "  to the 'proposalFun' function.  All functions must take\r\n",
      "  argument 'p', which must be a vector of the parameters, and\r\n",
      "  'ind', which is used to identify which parameter is to be\r\n",
      "  proposed.  The default 'proposalFun' function takes\r\n",
      "  additional arguments 'mean' and 'sd', which must be vectors\r\n",
      "  of length equal to the number of parameters in the model\r\n",
      "  (default is to use zero for the mean of z for every parameter\r\n",
      "  and 0.1 for its standard deviation).\r\n",
      "\r\n",
      "   iter :  Used only for Bayesian estimation, this is the number of MCMC\r\n",
      "  iterations to do.\r\n",
      "\r\n",
      "   weights :  numeric of length 1 or n giving weights to be applied in the\r\n",
      "  likelihood calculations (e.g., if there are data points to be\r\n",
      "  weighted more/less heavily than others).\r\n",
      "\r\n",
      "   blocks :  An optional list containing information required to fit point\r\n",
      "  process models in a computationally-efficient manner by using\r\n",
      "  only the exceedances and not the observations below the\r\n",
      "  threshold(s). See details for further information.\r\n",
      "\r\n",
      "   FUN :  character string naming a function to use to estimate the\r\n",
      "  parameters from the MCMC sample.  The function is applied to\r\n",
      "  each column of the 'results' component of the returned 'fevd'\r\n",
      "  object.\r\n",
      "\r\n",
      "   verbose :  logical; should progress information be printed to the\r\n",
      "  screen?  If TRUE, for MLE/GMLE, the argument 'trace' will be\r\n",
      "  set to 6 in the call to 'optim'.\r\n",
      "\r\n",
      "   prange :  matrix whose columns are numeric vectors of length two for\r\n",
      "  each parameter in the model giving the parameter range over\r\n",
      "  which trace plots should be made.  Default is to use either\r\n",
      "  +/- 2 * std. err. of the parameter (first choice) or, if the\r\n",
      "  standard error cannot be calculated, then +/- 2 *\r\n",
      "  log2(abs(parameter)).  Typically, these values seem to work\r\n",
      "  very well for these plots.\r\n",
      "\r\n",
      "   ... :  Not used by most functions here.  Optional arguments to\r\n",
      "  'plot' for the various 'plot' method functions.\r\n",
      "\r\n",
      "details\r\n",
      "-------\r\n",
      "\r\n",
      "\n",
      " See text books on extreme value analysis (EVA) for more on univariate EVA (e.g., Coles, 2001 and Reiss and Thomas, 2007 give fairly accessible introductions to the topic for most audiences; and Beirlant et al., 2004, de Haan and Ferreira, 2006, as well as Reiss and Thomas, 2007 give more complete theoretical treatments).  The extreme value distributions (EVDs) have theoretical support for analyzing extreme values of a process.  In particular, the generalized extreme value (GEV) df is appropriate for modeling block maxima (for large blocks, such as annual maxima), the generalized Pareto (GP) df models threshold excesses (i.e., x - u | x > u and u a high threshold).\n",
      " \n",
      " The GEV df is given by\n",
      " \n",
      "     Pr(X <= x) = G(x) = exp[-(1 + shape*(x - location)/scale)^(-1/shape)]\n",
      " \n",
      " for 1 + shape*(x - location) > 0 and scale > 0.  If the shape parameter is zero, then the df is defined by continuity and simplies to\n",
      " \n",
      "     G(x) = exp(-exp((x - location)/scale)).\n",
      " \n",
      " The GEV df is often called a family of distribution functions because it encompasses the three types of EVDs: Gumbel (shape = 0, light tail), Frechet (shape > 0, heavy tail) and the reverse Weibull (shape < 0, bounded upper tail at location - scale/shape).  It was first found by R. von Mises (1936) and also independently noted later by meteorologist A. F. Jenkins (1955).  It enjoys theretical support for modeling maxima taken over large blocks of a series of data.\n",
      " \n",
      " The generalized Pareo df is given by (Pickands, 1975)\n",
      " \n",
      "     Pr(X <= x) = F(x) = 1 - [1 + shape*(x - threshold)/scale]^(-1/shape)\n",
      " \n",
      " where 1 + shape*(x - threshold)/scale > 0, scale > 0, and x > threshold.  If shape = 0, then the GP df is defined by continuity and becomes\n",
      " \n",
      "     F(x) = 1 - exp(-(x - threshold)/scale).\n",
      " \n",
      " There is an approximate relationship between the GEV and GP distribution functions where the GP df is approximately the tail df for the GEV df.  In particular, the scale parameter of the GP is a function of the threshold (denote it scale.u), and is equivalent to scale + shape*(threshold - location) where scale, shape and location are parameters from the  equivalent  GEV df.  Similar to the GEV df, the shape parameter determines the tail behavior, where shape = 0 gives rise to the exponential df (light tail), shape > 0 the Pareto df (heavy tail) and shape < 0 the Beta df (bounded upper tail at location - scale.u/shape).  Theoretical justification supports the use of the GP df family for modeling excesses over a high threshold (i.e., y = x - threshold).  It is assumed here that  x ,  q  describe x (not y = x - threshold).  Similarly, the random draws are y + threshold.\n",
      " \n",
      " If interest is in minima or deficits under a low threshold, all of the above applies to the negative of the data (e.g., - max(-X_1,...,-X_n) = min(X_1, ..., X_n)) and  fevd  can be used so long as the user first negates the data, and subsequently realizes that the return levels (and location parameter) given will be the negative of the desired return levels (and location parameter), etc.\n",
      " \n",
      " The study of extremes often involves a paucity of data, and for small sample sizes, L-moments may give better estimates than competing methods, but penalized MLE (cf. Coles and Dixon, 1999; Martins and Stedinger, 2000; 2001) may give better estimates than the L-moments for such samples.  Martins and Stedinger (2000; 2001) use the terminology generalized MLE, which is also used here.\n",
      " \n",
      " Non-stationary models:\n",
      " \n",
      " The current code does not allow for non-stationary models with L-moments estimation.\n",
      " \n",
      " For MLE/GMLE (see El Adlouni et al 2007 for using GMLE in fitting models whose parameters vary) and Bayesian estimation, linear models for the parameters may be fit using formulas, in which case the  data  argument must be supplied.  Specifically, the models allowed for a set of covariates, y, are:\n",
      " \n",
      "     location(y) = mu0 + mu1 * f1(y) + mu2 * f2(y) + ...\n",
      " \n",
      "     scale(y) = sig0 + sig1 * g1(y) + sig2 * g2(y) + ...\n",
      " \n",
      "     log(scale(y)) = phi(y) = phi0 + phi1 * g1(y) + phi2 * g2(y) + ...\n",
      " \n",
      "     shape(y) = xi0 + xi1 * h1(y) + xi2 * h2(y) + ...\n",
      " \n",
      " For non-stationary fitting it is recommended that the covariates within the generalized linear models are (at least approximately) centered and scaled (see examples below).  It is generally ill-advised to include covariates in the shape parameter, but there are situations where it makes sense.\n",
      " \n",
      " Non-stationary modeling is accomplished with  fevd  by using formulas via the arguments:  threshold.fun ,  location.fun ,  scale.fun  and  shape.fun .  See examples to see how to do this.\n",
      " \n",
      " \n",
      " Initial Value Estimates:\n",
      " \n",
      " In the case of MLE/GMLE, it can be very important to get good initial estimates (e.g., see the examples below).   fevd  attempts to find such estimates, but it is also possible for the user to supply their own initial estimates as a list object using the  initial  argument, whereby the components of the list are named according to which parameter(s) they are associated with.  In particular, if the model is non-stationary, with covariates in the location (e.g., mu(t) = mu0 + mu1 * t), then  initial  may have a component named  location  that may contain either a single number (in which case, by default, the initial value for mu1 will be zero) or a vector of length two giving initial values for mu0 and mu1.\n",
      " \n",
      " For Bayesian estimation, it is good practice to try several starting values at different points to make sure the initial values do not affect the outcome.  However, if initial values are not passed in, the MLEs are used (which probably is not a good thing to do, but is more likely to yield good results).\n",
      " \n",
      " For MLE/GMLE, two (in the case of PP, three) initial estimates are calculated along with their associated likelihood values.  The initial estimates that yield the highest likelihood are used.  These methods are:\n",
      " \n",
      " 1.  L-moment estimates.\n",
      " \n",
      " 2.  Let m = mean(xdat) and s = sqrt(6 * var(xdat)) / pi.  Then, initial values assigend for the lcoation parameter when either  initial  is NULL or the location component of  initial  is NULL, are m - 0.57722 * s.  When  initial  or the scale component of  initial  is NULL, the initial value for the scale parameter is taken to be s, and when  initial  or its shape component is NULL, the initial value for the shape parameter is taken to be 1e-8 (because these initial estimates are moment-based estimates for the Gumbel df, so the initial value is taken to be near zero).\n",
      " \n",
      " 3.  In the case of PP, which is often the most difficult model to fit, MLEs are obtained for a GP model, and the resulting parameter estimates are converted to those of the approximately equivalent PP model.\n",
      " \n",
      " In the case of a non-stationary model, if the default initial estimates are used, then the intercept term for each parameter is given the initial estimate, and all other parameters are set to zero initially.  The exception is in the case of PP model fitting where the MLE from the GP fits are used, in which case, these parameter estimates may be non-zero.\n",
      " \n",
      " \n",
      " The generalized MLE (GMLE) method:\n",
      " \n",
      " This method places a penalty (or prior df) on the shape parameter to help ensure a better fit.  The procedure is nearly identical to MLE, except the likelihood, L, is multiplied by the prior df, p(shape); and because the negative log-likelihood is used, the effect is that of subtracting this term.  Currently, there is no supplied function by this package to calculate the gradient for the GMLE case, so in particular, the trace plot is not the trace of the actual negative log-likelihood (or gradient thereof) used in the estimation.\n",
      " \n",
      " Bayesian Estimation:\n",
      " \n",
      " It is possible to give your own prior and proposal distribution functions using the appropriate arguments listed above in the arguments section.  At each iteration of the chain, the parameters are updated one at a time in random order.  The default method uses a random walk chain for the proposal and normal distributions for the parameters.\n",
      " \n",
      " Plotting output:\n",
      " \n",
      " plot : The  plot  method function will take information from the  fevd  output and make any of various useful plots.  The default, regardless of estimation method, is to produce a 2 by 2 panel of plots giving some common diagnostic plots.  Possible types (determined by the  type  argument) include:\n",
      " \n",
      " 1.  primary  (default): yields the 2 by 2 panel of plots given by 3, 4, 6 and 7 below.\n",
      " \n",
      " 2.  probprob : Model probabilities against empirical probabilities (obtained from the  ppoints  function).  A good fit should yield a straight one-to-one line of points.  In the case of a non-stationary model, the data are first transformed to either the Gumbel (block maxima models) or exponential (POT models) scale, and plotted against probabilities from these standardized distribution functions.  In the case of a PP model, the parameters are first converted to those of the approximately equivalent GP df, and are plotted against the empirical data threshold excesses probabilities.\n",
      " \n",
      " 3.  qq : Empirical quantiles against model quantiles.  Again, a good fit will yield a straight one-to-one line of points.  Generally, the qq-plot is preferred to the probability plot in 1 above.  As in 2, for the non-stationary case, data are first transformed and plotted against quantiles from the standardized distributions.  Also as in 2 above, in the case of the PP model, parameters are converted to those of the GP df and quantiles are from threshold excesses of the data.\n",
      " \n",
      " 4.  qq2 : Similar to 3, first data are simulated from the fitted model, and then the qq-plot between them (using the function  qqplot  from this self-same package) is made between them, which also yields confidence bands.  Note that for a good fitting model, this should again yield a straight one-to-one line of points, but generally, it will not be as  well-behaved  as the plot in 3.  The one-to-one line and a regression line fitting the quantiles is also shown.  In the case of a non-stationary model, simulations are obtained by simulating from an appropriate standardized EVD, re-ordered to follow the same ordering as the data to which the model was fit, and then back transformed using the covariates from  data  and the parameter estimates to put the simulated sample back on the original scale of the data.  The PP model is handled analogously as in 2 and 3 above.\n",
      " \n",
      " 5. and 6.  Zplot : These are for PP model fits only and are based on Smith and Shively (1995).  The Z plot is a diagnostic for determining whether or not the random variable, Zk, defined as the (possibly non-homogeneous) Poisson intensity parameter(s) integrated from exceedance time k - 1 to exceedance time k (beginning the series with k = 1) is independent exponentially distributed with mean 1.\n",
      " \n",
      " For the Z plot, it is necessary to scale the Poisson intensity parameter appropriately.  For example, if the data are given on a daily time scale with an annual period basis, then this parameter should be divided by, for example, 365.25.  From the fitted  fevd  object, the function will try to account for the correct scaling based on the two components  period.basis  and  time.units .  The former currently must be  year  and the latter must be one of  days ,  months ,  years ,  hours ,  minutes  or  seconds .  If none of these are valid for your specific data (e.g., if an annual basis is not desired), then use the  d  argument to explicitly specify the correct scaling.\n",
      " \n",
      " \n",
      " 7.   hist : A histogram of the data is made, and the model density is shown with a blue dashed line.  In the case of non-stationary models, the data are first transformed to an appropriate standardized EVD scale, and the model density line is for the self-same standardized EVD.  Currently, this does not work for non-stationary POT models.\n",
      " \n",
      " 8.  density : Same as 5, but the kernel density (using function  density ) for the data is plotted instead of the histogram. In the case of the PP model, block maxima of the data are calculated and the density of these block maxima are compared to the PP in terms of the equivalent GEV df.  If the model is non-stationary GEV, then the transformed data (to a stationary Gumbel df) are used.  If the model is a non-stationary POT model, then currently this option is not available.\n",
      " \n",
      " 9.  rl : Return level plot.  This is done on the log-scale for the abscissa in order that the type of EVD can be discerned from the shape (i.e., heavy tail distributions are concave, light tailed distributions are straight lines, and bounded upper-tailed distributions are convex, asymptoting at the upper bound).  95 percent CIs are also shown (gray dashed lines).  In the case of non-stationary models, the data are plotted as a line, and the  effective  return levels (by default the 2-period (i.e., the median), 20-period and 100-period are used; period is usually annual) are also shown (see, e.g., Gilleland and Katz, 2011).  In the case of the PP model, the equivalent GEV df (stationary model) is assumed and data points are block maxima, where the blocks are determined from information passed in the call to  fevd .  In particular, the  span  argument (which, if not passed by the user, will have been determined by  fevd  using  time.units  along with the number of points per year (which is estimated from  time.units ) are used to find the blocks over which the maxima are taken.  For the non-stationary case, the equivalent GP df is assumed and parameters are converted.  This helps facilitate a more meaningful plot, e.g., in the presence of a non-constant threshold, but otherwise constant parameters.\n",
      " \n",
      " 10.  trace : In each of cases (b) and (c) below, a 2 by the number of parameters panel of plots are created.\n",
      " \n",
      "     (a) L-moments: Not available for the L-moments estimation.\n",
      " \n",
      "     (b) For MLE/GMLE, the likelihood traces are shown for each parameter of the model, whereby all but one parameter is held fixed at the MLE/GMLE values, and the negative log-likelihood is graphed for varying values of the parameter of interest.  Note that this differs greatly from the profile likelihood (see, e.g.,  profliker ) where the likelihood is maximized over the remaining parameters.  The gradient negative log-likelihoods are also shown for each parameter.  These plots may be useful in diagnosing any fitting problems that might arise in practice.  For ease of interpretation, the gradients are shown directly below the likleihoods for each parameter.\n",
      " \n",
      "     (c) For Bayesian estimation, the usual trace plots are shown with a gray vertical dashed line showing where the  burn.in  value lies; and a gray dashed horizontal line through the posterior mean.  However, the posterior densities are also displayed for each parameter directly above the usual trace plots.  It is not currently planned to allow for adding the prior dnsities to the posterior density graphs, as this can be easily implemented by the user, but is more difficult to do generally.\n",
      " \n",
      " As with  ci  and  distill , only  plot  need be called by the user.  The appropriate choice of the other functions is automatically determined from the  fevd  fitted object.\n",
      " \n",
      " Note that when  blocks  are provided to  fevd , certain plots\n",
      " that require the full set of observations (including non-exceedances)\n",
      " cannot be produced.\n",
      " \n",
      " Summaries and Printing:\n",
      " \n",
      " summary  and  print  method functions are available, and give different information depending on the estimation method used.  However, in each case, the parameter estimates are printed to the screen.   summary  returns some useful output (similar to distill, but in a list format).  The  print  method function need not be called as one can simply type the name of the  fevd  fitted object and return to execute the command (see examples below).  The deviance information criterion (DIC) is calculated for the Bayesian estimation method as DIC = D(mean(theta)) + 2 * pd, where pd = mean(D(theta)) - D(mean(theta)), and D(theta) = -2 * log-likelihood evaluated at the parameter values given by theta.  The means are taken over the posterior MCMC sample.  The default estimation method for the parameter values from the MCMC sample is to take the mean of the sample (after removing the first burn.in samples).  A good alternative is to set the  FUN  argument to  postmode  in order to obtain the posterior mode of the sample.\n",
      " \n",
      " Using Blocks to Reduce Computation in PP Fitting:\n",
      " \n",
      " If  blocks  is supplied, the user should\n",
      " provide only the exceedances and not all of the data values. For\n",
      " stationary models, the list should contain a component called\n",
      " nBlocks  indicating the number of observations within a block, where\n",
      " blocks are defined in a manner analogous to that used in GEV\n",
      " models. For nonstationary models, the list may contain one or more of\n",
      " several components. For nonstationary models with covariates, the list\n",
      " should contain a  data  component analogous to the  data  argument,\n",
      " providing values for the blocks. If the threshold varies, the list\n",
      " should contain a  threshold  component that is analogous to the\n",
      " threshold  argument. If some of the observations within any block are\n",
      " missing (assuming missing at random or missing completely at random),\n",
      " the list should contain a  proportionMissing  component that is a\n",
      " vector with one value per block indicating the proportion of\n",
      " observations missing for the block. To weight the blocks, the list can\n",
      " contain a  weights  component with one value per block. Warning: to\n",
      " properly analyze nonstationary models, any covariates, thresholds, and\n",
      " weights must be constant within each block.\n",
      " \n",
      " \r\n",
      "\r\n",
      "\n"
     ]
    }
   ],
   "source": [
    "print(fevd.__doc__)"
   ]
  },
  {
   "cell_type": "code",
   "execution_count": 52,
   "metadata": {},
   "outputs": [],
   "source": [
    "data = pd.read_csv(\"C:/Users/URIEL/Downloads/python-ml-course-master (2)/datasets/time/time_series.txt\", sep = \"\\s+\",\n",
    "                   skiprows = 1, parse_dates = [[0,1]], \n",
    "                   names = [\"date\", \"time\", \"wind_speed\"], \n",
    "                  index_col = 0)"
   ]
  },
  {
   "cell_type": "code",
   "execution_count": 53,
   "metadata": {},
   "outputs": [
    {
     "data": {
      "text/html": [
       "<div>\n",
       "<style scoped>\n",
       "    .dataframe tbody tr th:only-of-type {\n",
       "        vertical-align: middle;\n",
       "    }\n",
       "\n",
       "    .dataframe tbody tr th {\n",
       "        vertical-align: top;\n",
       "    }\n",
       "\n",
       "    .dataframe thead th {\n",
       "        text-align: right;\n",
       "    }\n",
       "</style>\n",
       "<table border=\"1\" class=\"dataframe\">\n",
       "  <thead>\n",
       "    <tr style=\"text-align: right;\">\n",
       "      <th></th>\n",
       "      <th>wind_speed</th>\n",
       "    </tr>\n",
       "    <tr>\n",
       "      <th>date_time</th>\n",
       "      <th></th>\n",
       "    </tr>\n",
       "  </thead>\n",
       "  <tbody>\n",
       "    <tr>\n",
       "      <th>1983-01-01 00:00:00</th>\n",
       "      <td>7.9</td>\n",
       "    </tr>\n",
       "    <tr>\n",
       "      <th>1983-01-01 01:00:00</th>\n",
       "      <td>8.2</td>\n",
       "    </tr>\n",
       "    <tr>\n",
       "      <th>1983-01-01 02:00:00</th>\n",
       "      <td>8.5</td>\n",
       "    </tr>\n",
       "    <tr>\n",
       "      <th>1983-01-01 03:00:00</th>\n",
       "      <td>9.0</td>\n",
       "    </tr>\n",
       "    <tr>\n",
       "      <th>1983-01-01 04:00:00</th>\n",
       "      <td>9.9</td>\n",
       "    </tr>\n",
       "  </tbody>\n",
       "</table>\n",
       "</div>"
      ],
      "text/plain": [
       "                     wind_speed\n",
       "date_time                      \n",
       "1983-01-01 00:00:00         7.9\n",
       "1983-01-01 01:00:00         8.2\n",
       "1983-01-01 02:00:00         8.5\n",
       "1983-01-01 03:00:00         9.0\n",
       "1983-01-01 04:00:00         9.9"
      ]
     },
     "execution_count": 53,
     "metadata": {},
     "output_type": "execute_result"
    }
   ],
   "source": [
    "data.head(5)"
   ]
  },
  {
   "cell_type": "code",
   "execution_count": 54,
   "metadata": {},
   "outputs": [
    {
     "data": {
      "text/plain": [
       "(275352, 1)"
      ]
     },
     "execution_count": 54,
     "metadata": {},
     "output_type": "execute_result"
    }
   ],
   "source": [
    "data.shape"
   ]
  },
  {
   "cell_type": "code",
   "execution_count": 56,
   "metadata": {},
   "outputs": [],
   "source": [
    "max_ws = data.wind_speed.groupby(pd.Grouper(freq = \"A\")).max()\n",
    "#lo que hacemos aqui es que la columna wind speed de los datos, la agrupo por año y despues de eso, nos quedamos con el maximo\n",
    "#valor de cada uno de ellos. "
   ]
  },
  {
   "cell_type": "code",
   "execution_count": 57,
   "metadata": {},
   "outputs": [
    {
     "data": {
      "text/plain": [
       "date_time\n",
       "1983-12-31    22.2\n",
       "1984-12-31    25.5\n",
       "1985-12-31    21.5\n",
       "1986-12-31    22.5\n",
       "1987-12-31    23.7\n",
       "1988-12-31    22.5\n",
       "1989-12-31    21.7\n",
       "1990-12-31    29.7\n",
       "1991-12-31    24.2\n",
       "1992-12-31    23.8\n",
       "1993-12-31    28.1\n",
       "1994-12-31    23.4\n",
       "1995-12-31    23.7\n",
       "1996-12-31    25.6\n",
       "1997-12-31    23.2\n",
       "1998-12-31    24.9\n",
       "1999-12-31    22.8\n",
       "2000-12-31    24.6\n",
       "2001-12-31    22.3\n",
       "2002-12-31    25.5\n",
       "2003-12-31    22.6\n",
       "2004-12-31    24.0\n",
       "2005-12-31    20.8\n",
       "2006-12-31    23.5\n",
       "2007-12-31    24.4\n",
       "2008-12-31    24.1\n",
       "2009-12-31    25.1\n",
       "2010-12-31    19.4\n",
       "2011-12-31    22.8\n",
       "2012-12-31    24.2\n",
       "2013-12-31    25.0\n",
       "2014-12-31    25.3\n",
       "Freq: A-DEC, Name: wind_speed, dtype: float64"
      ]
     },
     "execution_count": 57,
     "metadata": {},
     "output_type": "execute_result"
    }
   ],
   "source": [
    "max_ws #la fecha maxima de cada uno de las velocidades del viento, asi solo tendriamos que dibujar los \n",
    "#valores maximos anuales. "
   ]
  },
  {
   "cell_type": "code",
   "execution_count": 59,
   "metadata": {},
   "outputs": [
    {
     "data": {
      "text/plain": [
       "<matplotlib.axes._subplots.AxesSubplot at 0x268fd450dc0>"
      ]
     },
     "execution_count": 59,
     "metadata": {},
     "output_type": "execute_result"
    },
    {
     "data": {
      "image/png": "[encoded data removed]",
      "text/plain": [
       "<Figure size 1368x648 with 1 Axes>"
      ]
     },
     "metadata": {
      "needs_background": "light"
     },
     "output_type": "display_data"
    }
   ],
   "source": [
    "max_ws.plot(kind =\"bar\", figsize = (19,9))"
   ]
  },
  {
   "cell_type": "markdown",
   "metadata": {},
   "source": [
    "Recodermos que tenemos la funcion fevd; distribucion para ajustar el valor maximo, del paquete extreme de R, para usarla directamente con los maximos que hemos obtenido con pandas desde python. Calcularemos los parametros, guardandolo en python, siendo libreria de R. "
   ]
  },
  {
   "cell_type": "code",
   "execution_count": 60,
   "metadata": {},
   "outputs": [],
   "source": [
    "#llamamos a la funcion \n",
    "result = fevd(max_ws.values, type = \"GEV\", method = \"GMLE\")\n",
    "#esta funcion es de R. "
   ]
  },
  {
   "cell_type": "code",
   "execution_count": 61,
   "metadata": {},
   "outputs": [
    {
     "name": "stdout",
     "output_type": "stream",
     "text": [
      "<class 'rpy2.robjects.vectors.ListVector'>\n"
     ]
    }
   ],
   "source": [
    "print(type(result)) #vector formado por listas. "
   ]
  },
  {
   "cell_type": "code",
   "execution_count": 62,
   "metadata": {},
   "outputs": [
    {
     "data": {
      "text/plain": [
       "<bound method RObjectMixin.r_repr of <rpy2.robjects.vectors.ListVector object at 0x00000268883AC600> [RTYPES.VECSXP]\n",
       "R classes: ('fevd',)\n",
       "[LangSexpV..., StrSexpVe..., FloatSexp..., BoolSexpV..., ..., StrSexpVe..., StrSexpVe..., ListSexpV..., ListSexpV...]\n",
       "  call: <class 'rpy2.robjects.language.LangVector'>\n",
       "  Rlang( (function (x, data, threshold = NULL, threshold.fun = ~1, location.fun = ~1,  )\n",
       "  data.name: <class 'rpy2.robjects.vectors.StrVector'>\n",
       "  <rpy2.robjects.vectors.StrVector object at 0x0000026888CDD340> [RTYPES.STRSXP]\n",
       "R classes: ('character',)\n",
       "['struct..., '23.8, ..., '22.6, ..., '25.3),..., '']\n",
       "  weights: <class 'numpy.ndarray'>\n",
       "  array([1.])\n",
       "  missing.values: <class 'rpy2.robjects.vectors.BoolArray'>\n",
       "  <rpy2.robjects.vectors.BoolArray object at 0x000002688891B500> [RTYPES.LGLSXP]\n",
       "R classes: ('array',)\n",
       "[       0,        0,        0,        0, ...,        0,        0,        0,        0]\n",
       "...\n",
       "  x: <class 'rpy2.robjects.vectors.StrVector'>\n",
       "  <rpy2.robjects.vectors.StrVector object at 0x0000026888CD4DC0> [RTYPES.STRSXP]\n",
       "R classes: ('character',)\n",
       "['na.fail']\n",
       "  priorFun: <class 'rpy2.robjects.vectors.StrVector'>\n",
       "  <rpy2.robjects.vectors.StrVector object at 0x0000026888CD4B80> [RTYPES.STRSXP]\n",
       "R classes: ('character',)\n",
       "['location', 'scale', 'shape']\n",
       "<rpy2.robjects.vectors.ListVector object at 0x00000268883AC600> [RTYPES.VECSXP]\n",
       "R classes: ('fevd',)\n",
       "[LangSexpV..., StrSexpVe..., FloatSexp..., BoolSexpV..., ..., StrSexpVe..., StrSexpVe..., ListSexpV..., ListSexpV...]\n",
       "<rpy2.robjects.vectors.ListVector object at 0x00000268883AC600> [RTYPES.VECSXP]\n",
       "R classes: ('fevd',)\n",
       "[LangSexpV..., StrSexpVe..., FloatSexp..., BoolSexpV..., ..., StrSexpVe..., StrSexpVe..., ListSexpV..., ListSexpV...]>"
      ]
     },
     "execution_count": 62,
     "metadata": {},
     "output_type": "execute_result"
    }
   ],
   "source": [
    "result.r_repr #tenemos el propio objeto de R que ha creado la libreria. "
   ]
  },
  {
   "cell_type": "code",
   "execution_count": 64,
   "metadata": {},
   "outputs": [
    {
     "name": "stdout",
     "output_type": "stream",
     "text": [
      " [1] \"call\"            \"data.name\"       \"weights\"         \"missing.values\" \n",
      " [5] \"in.data\"         \"x\"               \"priorFun\"        \"priorParams\"    \n",
      " [9] \"method\"          \"type\"            \"period.basis\"    \"par.models\"     \n",
      "[13] \"const.loc\"       \"const.scale\"     \"const.shape\"     \"n\"              \n",
      "[17] \"na.action\"       \"parnames\"        \"results\"         \"initial.results\"\n",
      "\n"
     ]
    }
   ],
   "source": [
    "print(result.names) #tiene 20 variables"
   ]
  },
  {
   "cell_type": "code",
   "execution_count": 65,
   "metadata": {},
   "outputs": [],
   "source": [
    "res = result.rx(\"results\")"
   ]
  },
  {
   "cell_type": "code",
   "execution_count": 69,
   "metadata": {},
   "outputs": [
    {
     "name": "stdout",
     "output_type": "stream",
     "text": [
      "$par\n",
      "  location      scale      shape \n",
      "23.0639415  1.7576913 -0.1628816 \n",
      "\n",
      "$value\n",
      "[1] 1e+16\n",
      "\n",
      "$counts\n",
      "function gradient \n",
      "       1        1 \n",
      "\n",
      "$convergence\n",
      "[1] 0\n",
      "\n",
      "$message\n",
      "NULL\n",
      "\n",
      "$hessian\n",
      "         location scale shape\n",
      "location        0     0     0\n",
      "scale           0     0     0\n",
      "shape           0     0     0\n",
      "\n",
      "$num.pars\n",
      "$num.pars$location\n",
      "[1] 1\n",
      "\n",
      "$num.pars$scale\n",
      "[1] 1\n",
      "\n",
      "$num.pars$shape\n",
      "[1] 1\n",
      "\n",
      "\n",
      "\n"
     ]
    }
   ],
   "source": [
    "print(res[0])"
   ]
  }
 ],
 "metadata": {
  "kernelspec": {
   "display_name": "Python 3",
   "language": "python",
   "name": "python3"
  },
  "language_info": {
   "codemirror_mode": {
    "name": "ipython",
    "version": 3
   },
   "file_extension": ".py",
   "mimetype": "text/x-python",
   "name": "python",
   "nbconvert_exporter": "python",
   "pygments_lexer": "ipython3",
   "version": "3.8.3"
  }
 },
 "nbformat": 4,
 "nbformat_minor": 4
}
