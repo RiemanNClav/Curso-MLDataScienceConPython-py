{
 "cells": [
  {
   "cell_type": "markdown",
   "metadata": {},
   "source": [
    "# Regresión logística para predicciones bancarias"
   ]
  },
  {
   "cell_type": "code",
   "execution_count": 1,
   "metadata": {},
   "outputs": [],
   "source": [
    "import pandas as pd\n",
    "import numpy as np\n",
    "import matplotlib.pyplot as plt"
   ]
  },
  {
   "cell_type": "code",
   "execution_count": 10,
   "metadata": {},
   "outputs": [],
   "source": [
    "data = pd.read_csv(\"C:/Users/URIEL/Downloads/python-ml-course-master (2)/datasets/bank/bank.csv\", sep=\";\")"
   ]
  },
  {
   "cell_type": "code",
   "execution_count": 11,
   "metadata": {},
   "outputs": [
    {
     "data": {
      "text/html": [
       "<div>\n",
       "<style scoped>\n",
       "    .dataframe tbody tr th:only-of-type {\n",
       "        vertical-align: middle;\n",
       "    }\n",
       "\n",
       "    .dataframe tbody tr th {\n",
       "        vertical-align: top;\n",
       "    }\n",
       "\n",
       "    .dataframe thead th {\n",
       "        text-align: right;\n",
       "    }\n",
       "</style>\n",
       "<table border=\"1\" class=\"dataframe\">\n",
       "  <thead>\n",
       "    <tr style=\"text-align: right;\">\n",
       "      <th></th>\n",
       "      <th>age</th>\n",
       "      <th>job</th>\n",
       "      <th>marital</th>\n",
       "      <th>education</th>\n",
       "      <th>default</th>\n",
       "      <th>housing</th>\n",
       "      <th>loan</th>\n",
       "      <th>contact</th>\n",
       "      <th>month</th>\n",
       "      <th>day_of_week</th>\n",
       "      <th>...</th>\n",
       "      <th>campaign</th>\n",
       "      <th>pdays</th>\n",
       "      <th>previous</th>\n",
       "      <th>poutcome</th>\n",
       "      <th>emp.var.rate</th>\n",
       "      <th>cons.price.idx</th>\n",
       "      <th>cons.conf.idx</th>\n",
       "      <th>euribor3m</th>\n",
       "      <th>nr.employed</th>\n",
       "      <th>y</th>\n",
       "    </tr>\n",
       "  </thead>\n",
       "  <tbody>\n",
       "    <tr>\n",
       "      <th>0</th>\n",
       "      <td>30</td>\n",
       "      <td>blue-collar</td>\n",
       "      <td>married</td>\n",
       "      <td>basic.9y</td>\n",
       "      <td>no</td>\n",
       "      <td>yes</td>\n",
       "      <td>no</td>\n",
       "      <td>cellular</td>\n",
       "      <td>may</td>\n",
       "      <td>fri</td>\n",
       "      <td>...</td>\n",
       "      <td>2</td>\n",
       "      <td>999</td>\n",
       "      <td>0</td>\n",
       "      <td>nonexistent</td>\n",
       "      <td>-1.8</td>\n",
       "      <td>92.893</td>\n",
       "      <td>-46.2</td>\n",
       "      <td>1.313</td>\n",
       "      <td>5099.1</td>\n",
       "      <td>no</td>\n",
       "    </tr>\n",
       "    <tr>\n",
       "      <th>1</th>\n",
       "      <td>39</td>\n",
       "      <td>services</td>\n",
       "      <td>single</td>\n",
       "      <td>high.school</td>\n",
       "      <td>no</td>\n",
       "      <td>no</td>\n",
       "      <td>no</td>\n",
       "      <td>telephone</td>\n",
       "      <td>may</td>\n",
       "      <td>fri</td>\n",
       "      <td>...</td>\n",
       "      <td>4</td>\n",
       "      <td>999</td>\n",
       "      <td>0</td>\n",
       "      <td>nonexistent</td>\n",
       "      <td>1.1</td>\n",
       "      <td>93.994</td>\n",
       "      <td>-36.4</td>\n",
       "      <td>4.855</td>\n",
       "      <td>5191.0</td>\n",
       "      <td>no</td>\n",
       "    </tr>\n",
       "    <tr>\n",
       "      <th>2</th>\n",
       "      <td>25</td>\n",
       "      <td>services</td>\n",
       "      <td>married</td>\n",
       "      <td>high.school</td>\n",
       "      <td>no</td>\n",
       "      <td>yes</td>\n",
       "      <td>no</td>\n",
       "      <td>telephone</td>\n",
       "      <td>jun</td>\n",
       "      <td>wed</td>\n",
       "      <td>...</td>\n",
       "      <td>1</td>\n",
       "      <td>999</td>\n",
       "      <td>0</td>\n",
       "      <td>nonexistent</td>\n",
       "      <td>1.4</td>\n",
       "      <td>94.465</td>\n",
       "      <td>-41.8</td>\n",
       "      <td>4.962</td>\n",
       "      <td>5228.1</td>\n",
       "      <td>no</td>\n",
       "    </tr>\n",
       "    <tr>\n",
       "      <th>3</th>\n",
       "      <td>38</td>\n",
       "      <td>services</td>\n",
       "      <td>married</td>\n",
       "      <td>basic.9y</td>\n",
       "      <td>no</td>\n",
       "      <td>unknown</td>\n",
       "      <td>unknown</td>\n",
       "      <td>telephone</td>\n",
       "      <td>jun</td>\n",
       "      <td>fri</td>\n",
       "      <td>...</td>\n",
       "      <td>3</td>\n",
       "      <td>999</td>\n",
       "      <td>0</td>\n",
       "      <td>nonexistent</td>\n",
       "      <td>1.4</td>\n",
       "      <td>94.465</td>\n",
       "      <td>-41.8</td>\n",
       "      <td>4.959</td>\n",
       "      <td>5228.1</td>\n",
       "      <td>no</td>\n",
       "    </tr>\n",
       "    <tr>\n",
       "      <th>4</th>\n",
       "      <td>47</td>\n",
       "      <td>admin.</td>\n",
       "      <td>married</td>\n",
       "      <td>university.degree</td>\n",
       "      <td>no</td>\n",
       "      <td>yes</td>\n",
       "      <td>no</td>\n",
       "      <td>cellular</td>\n",
       "      <td>nov</td>\n",
       "      <td>mon</td>\n",
       "      <td>...</td>\n",
       "      <td>1</td>\n",
       "      <td>999</td>\n",
       "      <td>0</td>\n",
       "      <td>nonexistent</td>\n",
       "      <td>-0.1</td>\n",
       "      <td>93.200</td>\n",
       "      <td>-42.0</td>\n",
       "      <td>4.191</td>\n",
       "      <td>5195.8</td>\n",
       "      <td>no</td>\n",
       "    </tr>\n",
       "  </tbody>\n",
       "</table>\n",
       "<p>5 rows × 21 columns</p>\n",
       "</div>"
      ],
      "text/plain": [
       "   age          job  marital          education default  housing     loan  \\\n",
       "0   30  blue-collar  married           basic.9y      no      yes       no   \n",
       "1   39     services   single        high.school      no       no       no   \n",
       "2   25     services  married        high.school      no      yes       no   \n",
       "3   38     services  married           basic.9y      no  unknown  unknown   \n",
       "4   47       admin.  married  university.degree      no      yes       no   \n",
       "\n",
       "     contact month day_of_week  ...  campaign  pdays  previous     poutcome  \\\n",
       "0   cellular   may         fri  ...         2    999         0  nonexistent   \n",
       "1  telephone   may         fri  ...         4    999         0  nonexistent   \n",
       "2  telephone   jun         wed  ...         1    999         0  nonexistent   \n",
       "3  telephone   jun         fri  ...         3    999         0  nonexistent   \n",
       "4   cellular   nov         mon  ...         1    999         0  nonexistent   \n",
       "\n",
       "  emp.var.rate  cons.price.idx  cons.conf.idx  euribor3m  nr.employed   y  \n",
       "0         -1.8          92.893          -46.2      1.313       5099.1  no  \n",
       "1          1.1          93.994          -36.4      4.855       5191.0  no  \n",
       "2          1.4          94.465          -41.8      4.962       5228.1  no  \n",
       "3          1.4          94.465          -41.8      4.959       5228.1  no  \n",
       "4         -0.1          93.200          -42.0      4.191       5195.8  no  \n",
       "\n",
       "[5 rows x 21 columns]"
      ]
     },
     "execution_count": 11,
     "metadata": {},
     "output_type": "execute_result"
    }
   ],
   "source": [
    "data.head()"
   ]
  },
  {
   "cell_type": "code",
   "execution_count": 12,
   "metadata": {},
   "outputs": [
    {
     "data": {
      "text/plain": [
       "(4119, 21)"
      ]
     },
     "execution_count": 12,
     "metadata": {},
     "output_type": "execute_result"
    }
   ],
   "source": [
    "data.shape"
   ]
  },
  {
   "cell_type": "code",
   "execution_count": 13,
   "metadata": {},
   "outputs": [
    {
     "data": {
      "text/plain": [
       "array(['age', 'job', 'marital', 'education', 'default', 'housing', 'loan',\n",
       "       'contact', 'month', 'day_of_week', 'duration', 'campaign', 'pdays',\n",
       "       'previous', 'poutcome', 'emp.var.rate', 'cons.price.idx',\n",
       "       'cons.conf.idx', 'euribor3m', 'nr.employed', 'y'], dtype=object)"
      ]
     },
     "execution_count": 13,
     "metadata": {},
     "output_type": "execute_result"
    }
   ],
   "source": [
    "data.columns.values"
   ]
  },
  {
   "cell_type": "code",
   "execution_count": 14,
   "metadata": {},
   "outputs": [],
   "source": [
    "data[\"y\"] = (data[\"y\"]==\"yes\").astype(int)"
   ]
  },
  {
   "cell_type": "code",
   "execution_count": 15,
   "metadata": {},
   "outputs": [
    {
     "data": {
      "text/html": [
       "<div>\n",
       "<style scoped>\n",
       "    .dataframe tbody tr th:only-of-type {\n",
       "        vertical-align: middle;\n",
       "    }\n",
       "\n",
       "    .dataframe tbody tr th {\n",
       "        vertical-align: top;\n",
       "    }\n",
       "\n",
       "    .dataframe thead th {\n",
       "        text-align: right;\n",
       "    }\n",
       "</style>\n",
       "<table border=\"1\" class=\"dataframe\">\n",
       "  <thead>\n",
       "    <tr style=\"text-align: right;\">\n",
       "      <th></th>\n",
       "      <th>age</th>\n",
       "      <th>job</th>\n",
       "      <th>marital</th>\n",
       "      <th>education</th>\n",
       "      <th>default</th>\n",
       "      <th>housing</th>\n",
       "      <th>loan</th>\n",
       "      <th>contact</th>\n",
       "      <th>month</th>\n",
       "      <th>day_of_week</th>\n",
       "      <th>...</th>\n",
       "      <th>campaign</th>\n",
       "      <th>pdays</th>\n",
       "      <th>previous</th>\n",
       "      <th>poutcome</th>\n",
       "      <th>emp.var.rate</th>\n",
       "      <th>cons.price.idx</th>\n",
       "      <th>cons.conf.idx</th>\n",
       "      <th>euribor3m</th>\n",
       "      <th>nr.employed</th>\n",
       "      <th>y</th>\n",
       "    </tr>\n",
       "  </thead>\n",
       "  <tbody>\n",
       "    <tr>\n",
       "      <th>4114</th>\n",
       "      <td>30</td>\n",
       "      <td>admin.</td>\n",
       "      <td>married</td>\n",
       "      <td>basic.6y</td>\n",
       "      <td>no</td>\n",
       "      <td>yes</td>\n",
       "      <td>yes</td>\n",
       "      <td>cellular</td>\n",
       "      <td>jul</td>\n",
       "      <td>thu</td>\n",
       "      <td>...</td>\n",
       "      <td>1</td>\n",
       "      <td>999</td>\n",
       "      <td>0</td>\n",
       "      <td>nonexistent</td>\n",
       "      <td>1.4</td>\n",
       "      <td>93.918</td>\n",
       "      <td>-42.7</td>\n",
       "      <td>4.958</td>\n",
       "      <td>5228.1</td>\n",
       "      <td>0</td>\n",
       "    </tr>\n",
       "    <tr>\n",
       "      <th>4115</th>\n",
       "      <td>39</td>\n",
       "      <td>admin.</td>\n",
       "      <td>married</td>\n",
       "      <td>high.school</td>\n",
       "      <td>no</td>\n",
       "      <td>yes</td>\n",
       "      <td>no</td>\n",
       "      <td>telephone</td>\n",
       "      <td>jul</td>\n",
       "      <td>fri</td>\n",
       "      <td>...</td>\n",
       "      <td>1</td>\n",
       "      <td>999</td>\n",
       "      <td>0</td>\n",
       "      <td>nonexistent</td>\n",
       "      <td>1.4</td>\n",
       "      <td>93.918</td>\n",
       "      <td>-42.7</td>\n",
       "      <td>4.959</td>\n",
       "      <td>5228.1</td>\n",
       "      <td>0</td>\n",
       "    </tr>\n",
       "    <tr>\n",
       "      <th>4116</th>\n",
       "      <td>27</td>\n",
       "      <td>student</td>\n",
       "      <td>single</td>\n",
       "      <td>high.school</td>\n",
       "      <td>no</td>\n",
       "      <td>no</td>\n",
       "      <td>no</td>\n",
       "      <td>cellular</td>\n",
       "      <td>may</td>\n",
       "      <td>mon</td>\n",
       "      <td>...</td>\n",
       "      <td>2</td>\n",
       "      <td>999</td>\n",
       "      <td>1</td>\n",
       "      <td>failure</td>\n",
       "      <td>-1.8</td>\n",
       "      <td>92.893</td>\n",
       "      <td>-46.2</td>\n",
       "      <td>1.354</td>\n",
       "      <td>5099.1</td>\n",
       "      <td>0</td>\n",
       "    </tr>\n",
       "    <tr>\n",
       "      <th>4117</th>\n",
       "      <td>58</td>\n",
       "      <td>admin.</td>\n",
       "      <td>married</td>\n",
       "      <td>high.school</td>\n",
       "      <td>no</td>\n",
       "      <td>no</td>\n",
       "      <td>no</td>\n",
       "      <td>cellular</td>\n",
       "      <td>aug</td>\n",
       "      <td>fri</td>\n",
       "      <td>...</td>\n",
       "      <td>1</td>\n",
       "      <td>999</td>\n",
       "      <td>0</td>\n",
       "      <td>nonexistent</td>\n",
       "      <td>1.4</td>\n",
       "      <td>93.444</td>\n",
       "      <td>-36.1</td>\n",
       "      <td>4.966</td>\n",
       "      <td>5228.1</td>\n",
       "      <td>0</td>\n",
       "    </tr>\n",
       "    <tr>\n",
       "      <th>4118</th>\n",
       "      <td>34</td>\n",
       "      <td>management</td>\n",
       "      <td>single</td>\n",
       "      <td>high.school</td>\n",
       "      <td>no</td>\n",
       "      <td>yes</td>\n",
       "      <td>no</td>\n",
       "      <td>cellular</td>\n",
       "      <td>nov</td>\n",
       "      <td>wed</td>\n",
       "      <td>...</td>\n",
       "      <td>1</td>\n",
       "      <td>999</td>\n",
       "      <td>0</td>\n",
       "      <td>nonexistent</td>\n",
       "      <td>-0.1</td>\n",
       "      <td>93.200</td>\n",
       "      <td>-42.0</td>\n",
       "      <td>4.120</td>\n",
       "      <td>5195.8</td>\n",
       "      <td>0</td>\n",
       "    </tr>\n",
       "  </tbody>\n",
       "</table>\n",
       "<p>5 rows × 21 columns</p>\n",
       "</div>"
      ],
      "text/plain": [
       "      age         job  marital    education default housing loan    contact  \\\n",
       "4114   30      admin.  married     basic.6y      no     yes  yes   cellular   \n",
       "4115   39      admin.  married  high.school      no     yes   no  telephone   \n",
       "4116   27     student   single  high.school      no      no   no   cellular   \n",
       "4117   58      admin.  married  high.school      no      no   no   cellular   \n",
       "4118   34  management   single  high.school      no     yes   no   cellular   \n",
       "\n",
       "     month day_of_week  ...  campaign  pdays  previous     poutcome  \\\n",
       "4114   jul         thu  ...         1    999         0  nonexistent   \n",
       "4115   jul         fri  ...         1    999         0  nonexistent   \n",
       "4116   may         mon  ...         2    999         1      failure   \n",
       "4117   aug         fri  ...         1    999         0  nonexistent   \n",
       "4118   nov         wed  ...         1    999         0  nonexistent   \n",
       "\n",
       "     emp.var.rate  cons.price.idx  cons.conf.idx  euribor3m  nr.employed  y  \n",
       "4114          1.4          93.918          -42.7      4.958       5228.1  0  \n",
       "4115          1.4          93.918          -42.7      4.959       5228.1  0  \n",
       "4116         -1.8          92.893          -46.2      1.354       5099.1  0  \n",
       "4117          1.4          93.444          -36.1      4.966       5228.1  0  \n",
       "4118         -0.1          93.200          -42.0      4.120       5195.8  0  \n",
       "\n",
       "[5 rows x 21 columns]"
      ]
     },
     "execution_count": 15,
     "metadata": {},
     "output_type": "execute_result"
    }
   ],
   "source": [
    "data.tail()"
   ]
  },
  {
   "cell_type": "code",
   "execution_count": 16,
   "metadata": {},
   "outputs": [
    {
     "data": {
      "text/plain": [
       "array(['basic.9y', 'high.school', 'university.degree',\n",
       "       'professional.course', 'basic.6y', 'basic.4y', 'unknown',\n",
       "       'illiterate'], dtype=object)"
      ]
     },
     "execution_count": 16,
     "metadata": {},
     "output_type": "execute_result"
    }
   ],
   "source": [
    "data[\"education\"].unique()"
   ]
  },
  {
   "cell_type": "code",
   "execution_count": 17,
   "metadata": {},
   "outputs": [],
   "source": [
    "data[\"education\"] = np.where(data[\"education\"]==\"basic.4y\", \"Basic\", data[\"education\"])\n",
    "data[\"education\"] = np.where(data[\"education\"]==\"basic.6y\", \"Basic\", data[\"education\"])\n",
    "data[\"education\"] = np.where(data[\"education\"]==\"basic.9y\", \"Basic\", data[\"education\"])\n",
    "\n",
    "data[\"education\"] = np.where(data[\"education\"]==\"high.school\", \"High School\", data[\"education\"])\n",
    "data[\"education\"] = np.where(data[\"education\"]==\"professional.course\", \"Professional Course\", data[\"education\"])\n",
    "data[\"education\"] = np.where(data[\"education\"]==\"university.degree\", \"University Degree\", data[\"education\"])\n",
    "\n",
    "data[\"education\"] = np.where(data[\"education\"]==\"illiterate\", \"Illiterate\", data[\"education\"])\n",
    "data[\"education\"] = np.where(data[\"education\"]==\"unknown\", \"Unknown\", data[\"education\"])"
   ]
  },
  {
   "cell_type": "code",
   "execution_count": 18,
   "metadata": {},
   "outputs": [
    {
     "data": {
      "text/plain": [
       "array(['Basic', 'High School', 'University Degree', 'Professional Course',\n",
       "       'Unknown', 'Illiterate'], dtype=object)"
      ]
     },
     "execution_count": 18,
     "metadata": {},
     "output_type": "execute_result"
    }
   ],
   "source": [
    "data[\"education\"].unique()"
   ]
  },
  {
   "cell_type": "code",
   "execution_count": 19,
   "metadata": {},
   "outputs": [
    {
     "data": {
      "text/plain": [
       "0    3668\n",
       "1     451\n",
       "Name: y, dtype: int64"
      ]
     },
     "execution_count": 19,
     "metadata": {},
     "output_type": "execute_result"
    }
   ],
   "source": [
    "data[\"y\"].value_counts()"
   ]
  },
  {
   "cell_type": "code",
   "execution_count": 20,
   "metadata": {},
   "outputs": [
    {
     "data": {
      "text/html": [
       "<div>\n",
       "<style scoped>\n",
       "    .dataframe tbody tr th:only-of-type {\n",
       "        vertical-align: middle;\n",
       "    }\n",
       "\n",
       "    .dataframe tbody tr th {\n",
       "        vertical-align: top;\n",
       "    }\n",
       "\n",
       "    .dataframe thead th {\n",
       "        text-align: right;\n",
       "    }\n",
       "</style>\n",
       "<table border=\"1\" class=\"dataframe\">\n",
       "  <thead>\n",
       "    <tr style=\"text-align: right;\">\n",
       "      <th></th>\n",
       "      <th>age</th>\n",
       "      <th>duration</th>\n",
       "      <th>campaign</th>\n",
       "      <th>pdays</th>\n",
       "      <th>previous</th>\n",
       "      <th>emp.var.rate</th>\n",
       "      <th>cons.price.idx</th>\n",
       "      <th>cons.conf.idx</th>\n",
       "      <th>euribor3m</th>\n",
       "      <th>nr.employed</th>\n",
       "    </tr>\n",
       "    <tr>\n",
       "      <th>y</th>\n",
       "      <th></th>\n",
       "      <th></th>\n",
       "      <th></th>\n",
       "      <th></th>\n",
       "      <th></th>\n",
       "      <th></th>\n",
       "      <th></th>\n",
       "      <th></th>\n",
       "      <th></th>\n",
       "      <th></th>\n",
       "    </tr>\n",
       "  </thead>\n",
       "  <tbody>\n",
       "    <tr>\n",
       "      <th>0</th>\n",
       "      <td>39.895311</td>\n",
       "      <td>219.40976</td>\n",
       "      <td>2.605780</td>\n",
       "      <td>982.763086</td>\n",
       "      <td>0.141767</td>\n",
       "      <td>0.240185</td>\n",
       "      <td>93.599677</td>\n",
       "      <td>-40.586723</td>\n",
       "      <td>3.802826</td>\n",
       "      <td>5175.502072</td>\n",
       "    </tr>\n",
       "    <tr>\n",
       "      <th>1</th>\n",
       "      <td>41.889135</td>\n",
       "      <td>560.78714</td>\n",
       "      <td>1.980044</td>\n",
       "      <td>778.722838</td>\n",
       "      <td>0.585366</td>\n",
       "      <td>-1.177384</td>\n",
       "      <td>93.417268</td>\n",
       "      <td>-39.786475</td>\n",
       "      <td>2.145448</td>\n",
       "      <td>5093.118625</td>\n",
       "    </tr>\n",
       "  </tbody>\n",
       "</table>\n",
       "</div>"
      ],
      "text/plain": [
       "         age   duration  campaign       pdays  previous  emp.var.rate  \\\n",
       "y                                                                       \n",
       "0  39.895311  219.40976  2.605780  982.763086  0.141767      0.240185   \n",
       "1  41.889135  560.78714  1.980044  778.722838  0.585366     -1.177384   \n",
       "\n",
       "   cons.price.idx  cons.conf.idx  euribor3m  nr.employed  \n",
       "y                                                         \n",
       "0       93.599677     -40.586723   3.802826  5175.502072  \n",
       "1       93.417268     -39.786475   2.145448  5093.118625  "
      ]
     },
     "execution_count": 20,
     "metadata": {},
     "output_type": "execute_result"
    }
   ],
   "source": [
    "data.groupby(\"y\").mean()"
   ]
  },
  {
   "cell_type": "code",
   "execution_count": 21,
   "metadata": {},
   "outputs": [
    {
     "data": {
      "text/html": [
       "<div>\n",
       "<style scoped>\n",
       "    .dataframe tbody tr th:only-of-type {\n",
       "        vertical-align: middle;\n",
       "    }\n",
       "\n",
       "    .dataframe tbody tr th {\n",
       "        vertical-align: top;\n",
       "    }\n",
       "\n",
       "    .dataframe thead th {\n",
       "        text-align: right;\n",
       "    }\n",
       "</style>\n",
       "<table border=\"1\" class=\"dataframe\">\n",
       "  <thead>\n",
       "    <tr style=\"text-align: right;\">\n",
       "      <th></th>\n",
       "      <th>age</th>\n",
       "      <th>duration</th>\n",
       "      <th>campaign</th>\n",
       "      <th>pdays</th>\n",
       "      <th>previous</th>\n",
       "      <th>emp.var.rate</th>\n",
       "      <th>cons.price.idx</th>\n",
       "      <th>cons.conf.idx</th>\n",
       "      <th>euribor3m</th>\n",
       "      <th>nr.employed</th>\n",
       "      <th>y</th>\n",
       "    </tr>\n",
       "    <tr>\n",
       "      <th>education</th>\n",
       "      <th></th>\n",
       "      <th></th>\n",
       "      <th></th>\n",
       "      <th></th>\n",
       "      <th></th>\n",
       "      <th></th>\n",
       "      <th></th>\n",
       "      <th></th>\n",
       "      <th></th>\n",
       "      <th></th>\n",
       "      <th></th>\n",
       "    </tr>\n",
       "  </thead>\n",
       "  <tbody>\n",
       "    <tr>\n",
       "      <th>Basic</th>\n",
       "      <td>42.337124</td>\n",
       "      <td>253.898457</td>\n",
       "      <td>2.429732</td>\n",
       "      <td>978.815597</td>\n",
       "      <td>0.149472</td>\n",
       "      <td>0.237368</td>\n",
       "      <td>93.658600</td>\n",
       "      <td>-41.120552</td>\n",
       "      <td>3.775701</td>\n",
       "      <td>5174.133144</td>\n",
       "      <td>0.079610</td>\n",
       "    </tr>\n",
       "    <tr>\n",
       "      <th>High School</th>\n",
       "      <td>38.097720</td>\n",
       "      <td>258.534202</td>\n",
       "      <td>2.630836</td>\n",
       "      <td>958.022801</td>\n",
       "      <td>0.206298</td>\n",
       "      <td>-0.002497</td>\n",
       "      <td>93.564314</td>\n",
       "      <td>-40.995765</td>\n",
       "      <td>3.511732</td>\n",
       "      <td>5163.212595</td>\n",
       "      <td>0.105320</td>\n",
       "    </tr>\n",
       "    <tr>\n",
       "      <th>Illiterate</th>\n",
       "      <td>42.000000</td>\n",
       "      <td>146.000000</td>\n",
       "      <td>4.000000</td>\n",
       "      <td>999.000000</td>\n",
       "      <td>0.000000</td>\n",
       "      <td>-2.900000</td>\n",
       "      <td>92.201000</td>\n",
       "      <td>-31.400000</td>\n",
       "      <td>0.834000</td>\n",
       "      <td>5076.200000</td>\n",
       "      <td>0.000000</td>\n",
       "    </tr>\n",
       "    <tr>\n",
       "      <th>Professional Course</th>\n",
       "      <td>40.207477</td>\n",
       "      <td>278.816822</td>\n",
       "      <td>2.512150</td>\n",
       "      <td>958.211215</td>\n",
       "      <td>0.194393</td>\n",
       "      <td>0.163925</td>\n",
       "      <td>93.599630</td>\n",
       "      <td>-40.127664</td>\n",
       "      <td>3.701426</td>\n",
       "      <td>5167.595140</td>\n",
       "      <td>0.121495</td>\n",
       "    </tr>\n",
       "    <tr>\n",
       "      <th>University Degree</th>\n",
       "      <td>39.017405</td>\n",
       "      <td>247.707278</td>\n",
       "      <td>2.583070</td>\n",
       "      <td>947.900316</td>\n",
       "      <td>0.207278</td>\n",
       "      <td>-0.009731</td>\n",
       "      <td>93.499109</td>\n",
       "      <td>-39.830063</td>\n",
       "      <td>3.547132</td>\n",
       "      <td>5163.023180</td>\n",
       "      <td>0.130538</td>\n",
       "    </tr>\n",
       "    <tr>\n",
       "      <th>Unknown</th>\n",
       "      <td>42.826347</td>\n",
       "      <td>267.281437</td>\n",
       "      <td>2.538922</td>\n",
       "      <td>939.700599</td>\n",
       "      <td>0.263473</td>\n",
       "      <td>-0.074251</td>\n",
       "      <td>93.637455</td>\n",
       "      <td>-39.487425</td>\n",
       "      <td>3.410174</td>\n",
       "      <td>5151.260479</td>\n",
       "      <td>0.155689</td>\n",
       "    </tr>\n",
       "  </tbody>\n",
       "</table>\n",
       "</div>"
      ],
      "text/plain": [
       "                           age    duration  campaign       pdays  previous  \\\n",
       "education                                                                    \n",
       "Basic                42.337124  253.898457  2.429732  978.815597  0.149472   \n",
       "High School          38.097720  258.534202  2.630836  958.022801  0.206298   \n",
       "Illiterate           42.000000  146.000000  4.000000  999.000000  0.000000   \n",
       "Professional Course  40.207477  278.816822  2.512150  958.211215  0.194393   \n",
       "University Degree    39.017405  247.707278  2.583070  947.900316  0.207278   \n",
       "Unknown              42.826347  267.281437  2.538922  939.700599  0.263473   \n",
       "\n",
       "                     emp.var.rate  cons.price.idx  cons.conf.idx  euribor3m  \\\n",
       "education                                                                     \n",
       "Basic                    0.237368       93.658600     -41.120552   3.775701   \n",
       "High School             -0.002497       93.564314     -40.995765   3.511732   \n",
       "Illiterate              -2.900000       92.201000     -31.400000   0.834000   \n",
       "Professional Course      0.163925       93.599630     -40.127664   3.701426   \n",
       "University Degree       -0.009731       93.499109     -39.830063   3.547132   \n",
       "Unknown                 -0.074251       93.637455     -39.487425   3.410174   \n",
       "\n",
       "                     nr.employed         y  \n",
       "education                                   \n",
       "Basic                5174.133144  0.079610  \n",
       "High School          5163.212595  0.105320  \n",
       "Illiterate           5076.200000  0.000000  \n",
       "Professional Course  5167.595140  0.121495  \n",
       "University Degree    5163.023180  0.130538  \n",
       "Unknown              5151.260479  0.155689  "
      ]
     },
     "execution_count": 21,
     "metadata": {},
     "output_type": "execute_result"
    }
   ],
   "source": [
    "data.groupby(\"education\").mean()"
   ]
  },
  {
   "cell_type": "code",
   "execution_count": 22,
   "metadata": {},
   "outputs": [
    {
     "data": {
      "text/plain": [
       "Text(0, 0.5, 'Frecuencia de compra del producto')"
      ]
     },
     "execution_count": 22,
     "metadata": {},
     "output_type": "execute_result"
    },
    {
     "data": {
      "image/png": "[encoded data removed]",
      "text/plain": [
       "<Figure size 432x288 with 1 Axes>"
      ]
     },
     "metadata": {
      "needs_background": "light"
     },
     "output_type": "display_data"
    }
   ],
   "source": [
    "%matplotlib inline\n",
    "pd.crosstab(data.education, data.y).plot(kind=\"bar\")\n",
    "plt.title(\"Frecuencia de compra en función del nivel de educación\")\n",
    "plt.xlabel(\"Nivel de educación\")\n",
    "plt.ylabel(\"Frecuencia de compra del producto\")"
   ]
  },
  {
   "cell_type": "code",
   "execution_count": 23,
   "metadata": {},
   "outputs": [
    {
     "data": {
      "text/plain": [
       "Text(0, 0.5, 'Proporción de clientes')"
      ]
     },
     "execution_count": 23,
     "metadata": {},
     "output_type": "execute_result"
    },
    {
     "data": {
      "image/png": "[encoded data removed]",
      "text/plain": [
       "<Figure size 432x288 with 1 Axes>"
      ]
     },
     "metadata": {
      "needs_background": "light"
     },
     "output_type": "display_data"
    }
   ],
   "source": [
    "table=pd.crosstab(data.marital, data.y)\n",
    "table.div(table.sum(1).astype(float), axis=0).plot(kind=\"bar\", stacked=True)\n",
    "plt.title(\"Diagrama apilado de estado civil contra el nivel de compras\")\n",
    "plt.xlabel(\"Estado civil\")\n",
    "plt.ylabel(\"Proporción de clientes\")"
   ]
  },
  {
   "cell_type": "code",
   "execution_count": 24,
   "metadata": {},
   "outputs": [
    {
     "data": {
      "text/plain": [
       "Text(0, 0.5, 'Frecuencia de compra del producto')"
      ]
     },
     "execution_count": 24,
     "metadata": {},
     "output_type": "execute_result"
    },
    {
     "data": {
      "image/png": "[encoded data removed]",
      "text/plain": [
       "<Figure size 432x288 with 1 Axes>"
      ]
     },
     "metadata": {
      "needs_background": "light"
     },
     "output_type": "display_data"
    }
   ],
   "source": [
    "%matplotlib inline\n",
    "table= pd.crosstab(data.day_of_week, data.y)\n",
    "table.div(table.sum(1).astype(float), axis=0).plot(kind=\"bar\", stacked=True)\n",
    "plt.title(\"Frecuencia de compra en función del día de la semana\")\n",
    "plt.xlabel(\"Día de la semana\")\n",
    "plt.ylabel(\"Frecuencia de compra del producto\")"
   ]
  },
  {
   "cell_type": "code",
   "execution_count": 25,
   "metadata": {},
   "outputs": [
    {
     "data": {
      "text/plain": [
       "Text(0, 0.5, 'Frecuencia de compra del producto')"
      ]
     },
     "execution_count": 25,
     "metadata": {},
     "output_type": "execute_result"
    },
    {
     "data": {
      "image/png": "[encoded data removed]",
      "text/plain": [
       "<Figure size 432x288 with 1 Axes>"
      ]
     },
     "metadata": {
      "needs_background": "light"
     },
     "output_type": "display_data"
    }
   ],
   "source": [
    "%matplotlib inline\n",
    "table= pd.crosstab(data.month, data.y)\n",
    "table.div(table.sum(1).astype(float), axis=0).plot(kind=\"bar\", stacked=True)\n",
    "plt.title(\"Frecuencia de compra en función del mes\")\n",
    "plt.xlabel(\"Mes del año\")\n",
    "plt.ylabel(\"Frecuencia de compra del producto\")"
   ]
  },
  {
   "cell_type": "code",
   "execution_count": 26,
   "metadata": {},
   "outputs": [
    {
     "data": {
      "text/plain": [
       "Text(0, 0.5, 'Frecuencia de compra del producto')"
      ]
     },
     "execution_count": 26,
     "metadata": {},
     "output_type": "execute_result"
    },
    {
     "data": {
      "image/png": "[encoded data removed]",
      "text/plain": [
       "<Figure size 432x288 with 1 Axes>"
      ]
     },
     "metadata": {
      "needs_background": "light"
     },
     "output_type": "display_data"
    }
   ],
   "source": [
    "%matplotlib inline\n",
    "table.plot(kind=\"bar\", stacked=False)\n",
    "plt.title(\"Frecuencia de compra en función del mes\")\n",
    "plt.xlabel(\"Mes del año\")\n",
    "plt.ylabel(\"Frecuencia de compra del producto\")"
   ]
  },
  {
   "cell_type": "code",
   "execution_count": 27,
   "metadata": {},
   "outputs": [
    {
     "data": {
      "text/plain": [
       "Text(0, 0.5, 'Cliente')"
      ]
     },
     "execution_count": 27,
     "metadata": {},
     "output_type": "execute_result"
    },
    {
     "data": {
      "image/png": "[encoded data removed]",
      "text/plain": [
       "<Figure size 432x288 with 1 Axes>"
      ]
     },
     "metadata": {
      "needs_background": "light"
     },
     "output_type": "display_data"
    }
   ],
   "source": [
    "%matplotlib inline\n",
    "data.age.hist()\n",
    "plt.title(\"Histograma de la Edad\")\n",
    "plt.xlabel(\"Edad\")\n",
    "plt.ylabel(\"Cliente\")"
   ]
  },
  {
   "cell_type": "code",
   "execution_count": 28,
   "metadata": {},
   "outputs": [
    {
     "data": {
      "text/plain": [
       "<matplotlib.axes._subplots.AxesSubplot at 0x29e4f0a1d00>"
      ]
     },
     "execution_count": 28,
     "metadata": {},
     "output_type": "execute_result"
    },
    {
     "data": {
      "image/png": "[encoded data removed]",
      "text/plain": [
       "<Figure size 432x288 with 1 Axes>"
      ]
     },
     "metadata": {
      "needs_background": "light"
     },
     "output_type": "display_data"
    }
   ],
   "source": [
    "pd.crosstab(data.age, data.y).plot(kind=\"bar\")"
   ]
  },
  {
   "cell_type": "code",
   "execution_count": 29,
   "metadata": {},
   "outputs": [
    {
     "data": {
      "text/plain": [
       "<matplotlib.axes._subplots.AxesSubplot at 0x29e502bfb50>"
      ]
     },
     "execution_count": 29,
     "metadata": {},
     "output_type": "execute_result"
    },
    {
     "data": {
      "image/png": "[encoded data removed]",
      "text/plain": [
       "<Figure size 432x288 with 1 Axes>"
      ]
     },
     "metadata": {
      "needs_background": "light"
     },
     "output_type": "display_data"
    }
   ],
   "source": [
    "pd.crosstab(data.poutcome, data.y).plot(kind=\"bar\")"
   ]
  },
  {
   "cell_type": "markdown",
   "metadata": {},
   "source": [
    "### Conversión de las variables categóricas a dummies"
   ]
  },
  {
   "cell_type": "code",
   "execution_count": 42,
   "metadata": {},
   "outputs": [
    {
     "name": "stdout",
     "output_type": "stream",
     "text": [
      "      age          job  marital          education default  housing     loan  \\\n",
      "0      30  blue-collar  married              Basic      no      yes       no   \n",
      "1      39     services   single        High School      no       no       no   \n",
      "2      25     services  married        High School      no      yes       no   \n",
      "3      38     services  married              Basic      no  unknown  unknown   \n",
      "4      47       admin.  married  University Degree      no      yes       no   \n",
      "...   ...          ...      ...                ...     ...      ...      ...   \n",
      "4114   30       admin.  married              Basic      no      yes      yes   \n",
      "4115   39       admin.  married        High School      no      yes       no   \n",
      "4116   27      student   single        High School      no       no       no   \n",
      "4117   58       admin.  married        High School      no       no       no   \n",
      "4118   34   management   single        High School      no      yes       no   \n",
      "\n",
      "        contact month day_of_week  ...  month_oct  month_sep  day_of_week_fri  \\\n",
      "0      cellular   may         fri  ...          0          0                1   \n",
      "1     telephone   may         fri  ...          0          0                1   \n",
      "2     telephone   jun         wed  ...          0          0                0   \n",
      "3     telephone   jun         fri  ...          0          0                1   \n",
      "4      cellular   nov         mon  ...          0          0                0   \n",
      "...         ...   ...         ...  ...        ...        ...              ...   \n",
      "4114   cellular   jul         thu  ...          0          0                0   \n",
      "4115  telephone   jul         fri  ...          0          0                1   \n",
      "4116   cellular   may         mon  ...          0          0                0   \n",
      "4117   cellular   aug         fri  ...          0          0                1   \n",
      "4118   cellular   nov         wed  ...          0          0                0   \n",
      "\n",
      "      day_of_week_mon day_of_week_thu  day_of_week_tue  day_of_week_wed  \\\n",
      "0                   0               0                0                0   \n",
      "1                   0               0                0                0   \n",
      "2                   0               0                0                1   \n",
      "3                   0               0                0                0   \n",
      "4                   1               0                0                0   \n",
      "...               ...             ...              ...              ...   \n",
      "4114                0               1                0                0   \n",
      "4115                0               0                0                0   \n",
      "4116                1               0                0                0   \n",
      "4117                0               0                0                0   \n",
      "4118                0               0                0                1   \n",
      "\n",
      "      poutcome_failure  poutcome_nonexistent  poutcome_success  \n",
      "0                    0                     1                 0  \n",
      "1                    0                     1                 0  \n",
      "2                    0                     1                 0  \n",
      "3                    0                     1                 0  \n",
      "4                    0                     1                 0  \n",
      "...                ...                   ...               ...  \n",
      "4114                 0                     1                 0  \n",
      "4115                 0                     1                 0  \n",
      "4116                 1                     0                 0  \n",
      "4117                 0                     1                 0  \n",
      "4118                 0                     1                 0  \n",
      "\n",
      "[4119 rows x 69 columns]\n"
     ]
    },
    {
     "ename": "ValueError",
     "evalue": "columns overlap but no suffix specified: Index(['job_admin.', 'job_blue-collar', 'job_entrepreneur', 'job_housemaid',\n       'job_management', 'job_retired', 'job_self-employed', 'job_services',\n       'job_student', 'job_technician', 'job_unemployed', 'job_unknown'],\n      dtype='object')",
     "output_type": "error",
     "traceback": [
      "\u001b[1;31m---------------------------------------------------------------------------\u001b[0m",
      "\u001b[1;31mValueError\u001b[0m                                Traceback (most recent call last)",
      "\u001b[1;32m<ipython-input-42-7d61172f515b>\u001b[0m in \u001b[0;36m<module>\u001b[1;34m\u001b[0m\n\u001b[0;32m      5\u001b[0m     \u001b[0mcat_list\u001b[0m \u001b[1;33m=\u001b[0m \u001b[1;34m\"cat\"\u001b[0m\u001b[1;33m+\u001b[0m \u001b[1;34m\"_\"\u001b[0m\u001b[1;33m+\u001b[0m\u001b[0mcategory\u001b[0m\u001b[1;33m\u001b[0m\u001b[1;33m\u001b[0m\u001b[0m\n\u001b[0;32m      6\u001b[0m     \u001b[0mcat_dummies\u001b[0m \u001b[1;33m=\u001b[0m \u001b[0mpd\u001b[0m\u001b[1;33m.\u001b[0m\u001b[0mget_dummies\u001b[0m\u001b[1;33m(\u001b[0m\u001b[0mdata\u001b[0m\u001b[1;33m[\u001b[0m\u001b[0mcategory\u001b[0m\u001b[1;33m]\u001b[0m\u001b[1;33m,\u001b[0m \u001b[0mprefix\u001b[0m\u001b[1;33m=\u001b[0m\u001b[0mcategory\u001b[0m\u001b[1;33m)\u001b[0m\u001b[1;33m\u001b[0m\u001b[1;33m\u001b[0m\u001b[0m\n\u001b[1;32m----> 7\u001b[1;33m     \u001b[0mdata_new\u001b[0m \u001b[1;33m=\u001b[0m \u001b[0mdata\u001b[0m\u001b[1;33m.\u001b[0m\u001b[0mjoin\u001b[0m\u001b[1;33m(\u001b[0m\u001b[0mcat_dummies\u001b[0m\u001b[1;33m)\u001b[0m\u001b[1;33m\u001b[0m\u001b[1;33m\u001b[0m\u001b[0m\n\u001b[0m\u001b[0;32m      8\u001b[0m     \u001b[0mdata\u001b[0m \u001b[1;33m=\u001b[0m \u001b[0mdata_new\u001b[0m\u001b[1;33m\u001b[0m\u001b[1;33m\u001b[0m\u001b[0m\n",
      "\u001b[1;32m~\\anaconda3\\lib\\site-packages\\pandas\\core\\frame.py\u001b[0m in \u001b[0;36mjoin\u001b[1;34m(self, other, on, how, lsuffix, rsuffix, sort)\u001b[0m\n\u001b[0;32m   7206\u001b[0m         \u001b[1;36m5\u001b[0m  \u001b[0mK5\u001b[0m  \u001b[0mA5\u001b[0m  \u001b[0mNaN\u001b[0m\u001b[1;33m\u001b[0m\u001b[1;33m\u001b[0m\u001b[0m\n\u001b[0;32m   7207\u001b[0m         \"\"\"\n\u001b[1;32m-> 7208\u001b[1;33m         return self._join_compat(\n\u001b[0m\u001b[0;32m   7209\u001b[0m             \u001b[0mother\u001b[0m\u001b[1;33m,\u001b[0m \u001b[0mon\u001b[0m\u001b[1;33m=\u001b[0m\u001b[0mon\u001b[0m\u001b[1;33m,\u001b[0m \u001b[0mhow\u001b[0m\u001b[1;33m=\u001b[0m\u001b[0mhow\u001b[0m\u001b[1;33m,\u001b[0m \u001b[0mlsuffix\u001b[0m\u001b[1;33m=\u001b[0m\u001b[0mlsuffix\u001b[0m\u001b[1;33m,\u001b[0m \u001b[0mrsuffix\u001b[0m\u001b[1;33m=\u001b[0m\u001b[0mrsuffix\u001b[0m\u001b[1;33m,\u001b[0m \u001b[0msort\u001b[0m\u001b[1;33m=\u001b[0m\u001b[0msort\u001b[0m\u001b[1;33m\u001b[0m\u001b[1;33m\u001b[0m\u001b[0m\n\u001b[0;32m   7210\u001b[0m         )\n",
      "\u001b[1;32m~\\anaconda3\\lib\\site-packages\\pandas\\core\\frame.py\u001b[0m in \u001b[0;36m_join_compat\u001b[1;34m(self, other, on, how, lsuffix, rsuffix, sort)\u001b[0m\n\u001b[0;32m   7222\u001b[0m \u001b[1;33m\u001b[0m\u001b[0m\n\u001b[0;32m   7223\u001b[0m         \u001b[1;32mif\u001b[0m \u001b[0misinstance\u001b[0m\u001b[1;33m(\u001b[0m\u001b[0mother\u001b[0m\u001b[1;33m,\u001b[0m \u001b[0mDataFrame\u001b[0m\u001b[1;33m)\u001b[0m\u001b[1;33m:\u001b[0m\u001b[1;33m\u001b[0m\u001b[1;33m\u001b[0m\u001b[0m\n\u001b[1;32m-> 7224\u001b[1;33m             return merge(\n\u001b[0m\u001b[0;32m   7225\u001b[0m                 \u001b[0mself\u001b[0m\u001b[1;33m,\u001b[0m\u001b[1;33m\u001b[0m\u001b[1;33m\u001b[0m\u001b[0m\n\u001b[0;32m   7226\u001b[0m                 \u001b[0mother\u001b[0m\u001b[1;33m,\u001b[0m\u001b[1;33m\u001b[0m\u001b[1;33m\u001b[0m\u001b[0m\n",
      "\u001b[1;32m~\\anaconda3\\lib\\site-packages\\pandas\\core\\reshape\\merge.py\u001b[0m in \u001b[0;36mmerge\u001b[1;34m(left, right, how, on, left_on, right_on, left_index, right_index, sort, suffixes, copy, indicator, validate)\u001b[0m\n\u001b[0;32m     86\u001b[0m         \u001b[0mvalidate\u001b[0m\u001b[1;33m=\u001b[0m\u001b[0mvalidate\u001b[0m\u001b[1;33m,\u001b[0m\u001b[1;33m\u001b[0m\u001b[1;33m\u001b[0m\u001b[0m\n\u001b[0;32m     87\u001b[0m     )\n\u001b[1;32m---> 88\u001b[1;33m     \u001b[1;32mreturn\u001b[0m \u001b[0mop\u001b[0m\u001b[1;33m.\u001b[0m\u001b[0mget_result\u001b[0m\u001b[1;33m(\u001b[0m\u001b[1;33m)\u001b[0m\u001b[1;33m\u001b[0m\u001b[1;33m\u001b[0m\u001b[0m\n\u001b[0m\u001b[0;32m     89\u001b[0m \u001b[1;33m\u001b[0m\u001b[0m\n\u001b[0;32m     90\u001b[0m \u001b[1;33m\u001b[0m\u001b[0m\n",
      "\u001b[1;32m~\\anaconda3\\lib\\site-packages\\pandas\\core\\reshape\\merge.py\u001b[0m in \u001b[0;36mget_result\u001b[1;34m(self)\u001b[0m\n\u001b[0;32m    646\u001b[0m         \u001b[0mlsuf\u001b[0m\u001b[1;33m,\u001b[0m \u001b[0mrsuf\u001b[0m \u001b[1;33m=\u001b[0m \u001b[0mself\u001b[0m\u001b[1;33m.\u001b[0m\u001b[0msuffixes\u001b[0m\u001b[1;33m\u001b[0m\u001b[1;33m\u001b[0m\u001b[0m\n\u001b[0;32m    647\u001b[0m \u001b[1;33m\u001b[0m\u001b[0m\n\u001b[1;32m--> 648\u001b[1;33m         llabels, rlabels = _items_overlap_with_suffix(\n\u001b[0m\u001b[0;32m    649\u001b[0m             \u001b[0mldata\u001b[0m\u001b[1;33m.\u001b[0m\u001b[0mitems\u001b[0m\u001b[1;33m,\u001b[0m \u001b[0mlsuf\u001b[0m\u001b[1;33m,\u001b[0m \u001b[0mrdata\u001b[0m\u001b[1;33m.\u001b[0m\u001b[0mitems\u001b[0m\u001b[1;33m,\u001b[0m \u001b[0mrsuf\u001b[0m\u001b[1;33m\u001b[0m\u001b[1;33m\u001b[0m\u001b[0m\n\u001b[0;32m    650\u001b[0m         )\n",
      "\u001b[1;32m~\\anaconda3\\lib\\site-packages\\pandas\\core\\reshape\\merge.py\u001b[0m in \u001b[0;36m_items_overlap_with_suffix\u001b[1;34m(left, lsuffix, right, rsuffix)\u001b[0m\n\u001b[0;32m   2022\u001b[0m \u001b[1;33m\u001b[0m\u001b[0m\n\u001b[0;32m   2023\u001b[0m     \u001b[1;32mif\u001b[0m \u001b[1;32mnot\u001b[0m \u001b[0mlsuffix\u001b[0m \u001b[1;32mand\u001b[0m \u001b[1;32mnot\u001b[0m \u001b[0mrsuffix\u001b[0m\u001b[1;33m:\u001b[0m\u001b[1;33m\u001b[0m\u001b[1;33m\u001b[0m\u001b[0m\n\u001b[1;32m-> 2024\u001b[1;33m         raise ValueError(\n\u001b[0m\u001b[0;32m   2025\u001b[0m             \u001b[1;34m\"columns overlap but no suffix specified: \"\u001b[0m\u001b[1;33m\u001b[0m\u001b[1;33m\u001b[0m\u001b[0m\n\u001b[0;32m   2026\u001b[0m             \u001b[1;34m\"{rename}\"\u001b[0m\u001b[1;33m.\u001b[0m\u001b[0mformat\u001b[0m\u001b[1;33m(\u001b[0m\u001b[0mrename\u001b[0m\u001b[1;33m=\u001b[0m\u001b[0mto_rename\u001b[0m\u001b[1;33m)\u001b[0m\u001b[1;33m\u001b[0m\u001b[1;33m\u001b[0m\u001b[0m\n",
      "\u001b[1;31mValueError\u001b[0m: columns overlap but no suffix specified: Index(['job_admin.', 'job_blue-collar', 'job_entrepreneur', 'job_housemaid',\n       'job_management', 'job_retired', 'job_self-employed', 'job_services',\n       'job_student', 'job_technician', 'job_unemployed', 'job_unknown'],\n      dtype='object')"
     ]
    }
   ],
   "source": [
    "categories = [\"job\", \"marital\", \"education\", \"housing\", \"loan\", \"contact\", \n",
    "              \"month\", \"day_of_week\", \"poutcome\"]\n",
    "print(data)\n",
    "for category in categories:\n",
    "    cat_list = \"cat\"+ \"_\"+category\n",
    "    cat_dummies = pd.get_dummies(data[category], prefix=category)\n",
    "    data_new = data.join(cat_dummies)\n",
    "    data = data_new"
   ]
  },
  {
   "cell_type": "code",
   "execution_count": 31,
   "metadata": {},
   "outputs": [],
   "source": [
    "data_vars = data.columns.values.tolist()"
   ]
  },
  {
   "cell_type": "code",
   "execution_count": 43,
   "metadata": {},
   "outputs": [],
   "source": [
    "to_keep = [v for v in data_vars if v not in categories]\n",
    "to_keep = [v for v in to_keep if v not in [\"default\"]]"
   ]
  },
  {
   "cell_type": "code",
   "execution_count": 44,
   "metadata": {},
   "outputs": [
    {
     "data": {
      "text/plain": [
       "array(['age', 'duration', 'campaign', 'pdays', 'previous', 'emp.var.rate',\n",
       "       'cons.price.idx', 'cons.conf.idx', 'euribor3m', 'nr.employed', 'y',\n",
       "       'job_admin.', 'job_blue-collar', 'job_entrepreneur',\n",
       "       'job_housemaid', 'job_management', 'job_retired',\n",
       "       'job_self-employed', 'job_services', 'job_student',\n",
       "       'job_technician', 'job_unemployed', 'job_unknown',\n",
       "       'marital_divorced', 'marital_married', 'marital_single',\n",
       "       'marital_unknown', 'education_Basic', 'education_High School',\n",
       "       'education_Illiterate', 'education_Professional Course',\n",
       "       'education_University Degree', 'education_Unknown', 'housing_no',\n",
       "       'housing_unknown', 'housing_yes', 'loan_no', 'loan_unknown',\n",
       "       'loan_yes', 'contact_cellular', 'contact_telephone', 'month_apr',\n",
       "       'month_aug', 'month_dec', 'month_jul', 'month_jun', 'month_mar',\n",
       "       'month_may', 'month_nov', 'month_oct', 'month_sep',\n",
       "       'day_of_week_fri', 'day_of_week_mon', 'day_of_week_thu',\n",
       "       'day_of_week_tue', 'day_of_week_wed', 'poutcome_failure',\n",
       "       'poutcome_nonexistent', 'poutcome_success'], dtype=object)"
      ]
     },
     "execution_count": 44,
     "metadata": {},
     "output_type": "execute_result"
    }
   ],
   "source": [
    "bank_data = data[to_keep]\n",
    "bank_data.columns.values"
   ]
  },
  {
   "cell_type": "code",
   "execution_count": 34,
   "metadata": {},
   "outputs": [],
   "source": [
    "bank_data_vars = bank_data.columns.values.tolist()\n",
    "Y = ['y']\n",
    "X = [v for v in bank_data_vars if v not in Y]"
   ]
  },
  {
   "cell_type": "markdown",
   "metadata": {},
   "source": [
    "### Selección de rasgos para el modelo"
   ]
  },
  {
   "cell_type": "code",
   "execution_count": 35,
   "metadata": {},
   "outputs": [],
   "source": [
    "n = 12"
   ]
  },
  {
   "cell_type": "code",
   "execution_count": 36,
   "metadata": {},
   "outputs": [],
   "source": [
    "from sklearn import datasets\n",
    "from sklearn.feature_selection import RFE\n",
    "from sklearn.linear_model import LogisticRegression"
   ]
  },
  {
   "cell_type": "code",
   "execution_count": 37,
   "metadata": {},
   "outputs": [],
   "source": [
    "lr = LogisticRegression()"
   ]
  },
  {
   "cell_type": "code",
   "execution_count": 41,
   "metadata": {},
   "outputs": [
    {
     "name": "stderr",
     "output_type": "stream",
     "text": [
      "C:\\Users\\URIEL\\anaconda3\\lib\\site-packages\\sklearn\\linear_model\\_logistic.py:762: ConvergenceWarning: lbfgs failed to converge (status=1):\n",
      "STOP: TOTAL NO. of ITERATIONS REACHED LIMIT.\n",
      "\n",
      "Increase the number of iterations (max_iter) or scale the data as shown in:\n",
      "    https://scikit-learn.org/stable/modules/preprocessing.html\n",
      "Please also refer to the documentation for alternative solver options:\n",
      "    https://scikit-learn.org/stable/modules/linear_model.html#logistic-regression\n",
      "  n_iter_i = _check_optimize_result(\n",
      "C:\\Users\\URIEL\\anaconda3\\lib\\site-packages\\sklearn\\linear_model\\_logistic.py:762: ConvergenceWarning: lbfgs failed to converge (status=1):\n",
      "STOP: TOTAL NO. of ITERATIONS REACHED LIMIT.\n",
      "\n",
      "Increase the number of iterations (max_iter) or scale the data as shown in:\n",
      "    https://scikit-learn.org/stable/modules/preprocessing.html\n",
      "Please also refer to the documentation for alternative solver options:\n",
      "    https://scikit-learn.org/stable/modules/linear_model.html#logistic-regression\n",
      "  n_iter_i = _check_optimize_result(\n",
      "C:\\Users\\URIEL\\anaconda3\\lib\\site-packages\\sklearn\\linear_model\\_logistic.py:762: ConvergenceWarning: lbfgs failed to converge (status=1):\n",
      "STOP: TOTAL NO. of ITERATIONS REACHED LIMIT.\n",
      "\n",
      "Increase the number of iterations (max_iter) or scale the data as shown in:\n",
      "    https://scikit-learn.org/stable/modules/preprocessing.html\n",
      "Please also refer to the documentation for alternative solver options:\n",
      "    https://scikit-learn.org/stable/modules/linear_model.html#logistic-regression\n",
      "  n_iter_i = _check_optimize_result(\n",
      "C:\\Users\\URIEL\\anaconda3\\lib\\site-packages\\sklearn\\linear_model\\_logistic.py:762: ConvergenceWarning: lbfgs failed to converge (status=1):\n",
      "STOP: TOTAL NO. of ITERATIONS REACHED LIMIT.\n",
      "\n",
      "Increase the number of iterations (max_iter) or scale the data as shown in:\n",
      "    https://scikit-learn.org/stable/modules/preprocessing.html\n",
      "Please also refer to the documentation for alternative solver options:\n",
      "    https://scikit-learn.org/stable/modules/linear_model.html#logistic-regression\n",
      "  n_iter_i = _check_optimize_result(\n",
      "C:\\Users\\URIEL\\anaconda3\\lib\\site-packages\\sklearn\\linear_model\\_logistic.py:762: ConvergenceWarning: lbfgs failed to converge (status=1):\n",
      "STOP: TOTAL NO. of ITERATIONS REACHED LIMIT.\n",
      "\n",
      "Increase the number of iterations (max_iter) or scale the data as shown in:\n",
      "    https://scikit-learn.org/stable/modules/preprocessing.html\n",
      "Please also refer to the documentation for alternative solver options:\n",
      "    https://scikit-learn.org/stable/modules/linear_model.html#logistic-regression\n",
      "  n_iter_i = _check_optimize_result(\n",
      "C:\\Users\\URIEL\\anaconda3\\lib\\site-packages\\sklearn\\linear_model\\_logistic.py:762: ConvergenceWarning: lbfgs failed to converge (status=1):\n",
      "STOP: TOTAL NO. of ITERATIONS REACHED LIMIT.\n",
      "\n",
      "Increase the number of iterations (max_iter) or scale the data as shown in:\n",
      "    https://scikit-learn.org/stable/modules/preprocessing.html\n",
      "Please also refer to the documentation for alternative solver options:\n",
      "    https://scikit-learn.org/stable/modules/linear_model.html#logistic-regression\n",
      "  n_iter_i = _check_optimize_result(\n",
      "C:\\Users\\URIEL\\anaconda3\\lib\\site-packages\\sklearn\\linear_model\\_logistic.py:762: ConvergenceWarning: lbfgs failed to converge (status=1):\n",
      "STOP: TOTAL NO. of ITERATIONS REACHED LIMIT.\n",
      "\n",
      "Increase the number of iterations (max_iter) or scale the data as shown in:\n",
      "    https://scikit-learn.org/stable/modules/preprocessing.html\n",
      "Please also refer to the documentation for alternative solver options:\n",
      "    https://scikit-learn.org/stable/modules/linear_model.html#logistic-regression\n",
      "  n_iter_i = _check_optimize_result(\n",
      "C:\\Users\\URIEL\\anaconda3\\lib\\site-packages\\sklearn\\linear_model\\_logistic.py:762: ConvergenceWarning: lbfgs failed to converge (status=1):\n",
      "STOP: TOTAL NO. of ITERATIONS REACHED LIMIT.\n",
      "\n",
      "Increase the number of iterations (max_iter) or scale the data as shown in:\n",
      "    https://scikit-learn.org/stable/modules/preprocessing.html\n",
      "Please also refer to the documentation for alternative solver options:\n",
      "    https://scikit-learn.org/stable/modules/linear_model.html#logistic-regression\n",
      "  n_iter_i = _check_optimize_result(\n",
      "C:\\Users\\URIEL\\anaconda3\\lib\\site-packages\\sklearn\\linear_model\\_logistic.py:762: ConvergenceWarning: lbfgs failed to converge (status=1):\n",
      "STOP: TOTAL NO. of ITERATIONS REACHED LIMIT.\n",
      "\n",
      "Increase the number of iterations (max_iter) or scale the data as shown in:\n",
      "    https://scikit-learn.org/stable/modules/preprocessing.html\n",
      "Please also refer to the documentation for alternative solver options:\n",
      "    https://scikit-learn.org/stable/modules/linear_model.html#logistic-regression\n",
      "  n_iter_i = _check_optimize_result(\n",
      "C:\\Users\\URIEL\\anaconda3\\lib\\site-packages\\sklearn\\linear_model\\_logistic.py:762: ConvergenceWarning: lbfgs failed to converge (status=1):\n",
      "STOP: TOTAL NO. of ITERATIONS REACHED LIMIT.\n",
      "\n",
      "Increase the number of iterations (max_iter) or scale the data as shown in:\n",
      "    https://scikit-learn.org/stable/modules/preprocessing.html\n",
      "Please also refer to the documentation for alternative solver options:\n",
      "    https://scikit-learn.org/stable/modules/linear_model.html#logistic-regression\n",
      "  n_iter_i = _check_optimize_result(\n",
      "C:\\Users\\URIEL\\anaconda3\\lib\\site-packages\\sklearn\\linear_model\\_logistic.py:762: ConvergenceWarning: lbfgs failed to converge (status=1):\n",
      "STOP: TOTAL NO. of ITERATIONS REACHED LIMIT.\n",
      "\n",
      "Increase the number of iterations (max_iter) or scale the data as shown in:\n",
      "    https://scikit-learn.org/stable/modules/preprocessing.html\n",
      "Please also refer to the documentation for alternative solver options:\n",
      "    https://scikit-learn.org/stable/modules/linear_model.html#logistic-regression\n",
      "  n_iter_i = _check_optimize_result(\n",
      "C:\\Users\\URIEL\\anaconda3\\lib\\site-packages\\sklearn\\linear_model\\_logistic.py:762: ConvergenceWarning: lbfgs failed to converge (status=1):\n",
      "STOP: TOTAL NO. of ITERATIONS REACHED LIMIT.\n",
      "\n",
      "Increase the number of iterations (max_iter) or scale the data as shown in:\n",
      "    https://scikit-learn.org/stable/modules/preprocessing.html\n",
      "Please also refer to the documentation for alternative solver options:\n",
      "    https://scikit-learn.org/stable/modules/linear_model.html#logistic-regression\n",
      "  n_iter_i = _check_optimize_result(\n",
      "C:\\Users\\URIEL\\anaconda3\\lib\\site-packages\\sklearn\\linear_model\\_logistic.py:762: ConvergenceWarning: lbfgs failed to converge (status=1):\n",
      "STOP: TOTAL NO. of ITERATIONS REACHED LIMIT.\n",
      "\n",
      "Increase the number of iterations (max_iter) or scale the data as shown in:\n",
      "    https://scikit-learn.org/stable/modules/preprocessing.html\n",
      "Please also refer to the documentation for alternative solver options:\n",
      "    https://scikit-learn.org/stable/modules/linear_model.html#logistic-regression\n",
      "  n_iter_i = _check_optimize_result(\n",
      "C:\\Users\\URIEL\\anaconda3\\lib\\site-packages\\sklearn\\linear_model\\_logistic.py:762: ConvergenceWarning: lbfgs failed to converge (status=1):\n",
      "STOP: TOTAL NO. of ITERATIONS REACHED LIMIT.\n",
      "\n",
      "Increase the number of iterations (max_iter) or scale the data as shown in:\n",
      "    https://scikit-learn.org/stable/modules/preprocessing.html\n",
      "Please also refer to the documentation for alternative solver options:\n",
      "    https://scikit-learn.org/stable/modules/linear_model.html#logistic-regression\n",
      "  n_iter_i = _check_optimize_result(\n",
      "C:\\Users\\URIEL\\anaconda3\\lib\\site-packages\\sklearn\\linear_model\\_logistic.py:762: ConvergenceWarning: lbfgs failed to converge (status=1):\n",
      "STOP: TOTAL NO. of ITERATIONS REACHED LIMIT.\n",
      "\n",
      "Increase the number of iterations (max_iter) or scale the data as shown in:\n",
      "    https://scikit-learn.org/stable/modules/preprocessing.html\n",
      "Please also refer to the documentation for alternative solver options:\n",
      "    https://scikit-learn.org/stable/modules/linear_model.html#logistic-regression\n",
      "  n_iter_i = _check_optimize_result(\n",
      "C:\\Users\\URIEL\\anaconda3\\lib\\site-packages\\sklearn\\linear_model\\_logistic.py:762: ConvergenceWarning: lbfgs failed to converge (status=1):\n",
      "STOP: TOTAL NO. of ITERATIONS REACHED LIMIT.\n",
      "\n",
      "Increase the number of iterations (max_iter) or scale the data as shown in:\n",
      "    https://scikit-learn.org/stable/modules/preprocessing.html\n",
      "Please also refer to the documentation for alternative solver options:\n",
      "    https://scikit-learn.org/stable/modules/linear_model.html#logistic-regression\n",
      "  n_iter_i = _check_optimize_result(\n"
     ]
    },
    {
     "name": "stderr",
     "output_type": "stream",
     "text": [
      "C:\\Users\\URIEL\\anaconda3\\lib\\site-packages\\sklearn\\linear_model\\_logistic.py:762: ConvergenceWarning: lbfgs failed to converge (status=1):\n",
      "STOP: TOTAL NO. of ITERATIONS REACHED LIMIT.\n",
      "\n",
      "Increase the number of iterations (max_iter) or scale the data as shown in:\n",
      "    https://scikit-learn.org/stable/modules/preprocessing.html\n",
      "Please also refer to the documentation for alternative solver options:\n",
      "    https://scikit-learn.org/stable/modules/linear_model.html#logistic-regression\n",
      "  n_iter_i = _check_optimize_result(\n",
      "C:\\Users\\URIEL\\anaconda3\\lib\\site-packages\\sklearn\\linear_model\\_logistic.py:762: ConvergenceWarning: lbfgs failed to converge (status=1):\n",
      "STOP: TOTAL NO. of ITERATIONS REACHED LIMIT.\n",
      "\n",
      "Increase the number of iterations (max_iter) or scale the data as shown in:\n",
      "    https://scikit-learn.org/stable/modules/preprocessing.html\n",
      "Please also refer to the documentation for alternative solver options:\n",
      "    https://scikit-learn.org/stable/modules/linear_model.html#logistic-regression\n",
      "  n_iter_i = _check_optimize_result(\n",
      "C:\\Users\\URIEL\\anaconda3\\lib\\site-packages\\sklearn\\linear_model\\_logistic.py:762: ConvergenceWarning: lbfgs failed to converge (status=1):\n",
      "STOP: TOTAL NO. of ITERATIONS REACHED LIMIT.\n",
      "\n",
      "Increase the number of iterations (max_iter) or scale the data as shown in:\n",
      "    https://scikit-learn.org/stable/modules/preprocessing.html\n",
      "Please also refer to the documentation for alternative solver options:\n",
      "    https://scikit-learn.org/stable/modules/linear_model.html#logistic-regression\n",
      "  n_iter_i = _check_optimize_result(\n",
      "C:\\Users\\URIEL\\anaconda3\\lib\\site-packages\\sklearn\\linear_model\\_logistic.py:762: ConvergenceWarning: lbfgs failed to converge (status=1):\n",
      "STOP: TOTAL NO. of ITERATIONS REACHED LIMIT.\n",
      "\n",
      "Increase the number of iterations (max_iter) or scale the data as shown in:\n",
      "    https://scikit-learn.org/stable/modules/preprocessing.html\n",
      "Please also refer to the documentation for alternative solver options:\n",
      "    https://scikit-learn.org/stable/modules/linear_model.html#logistic-regression\n",
      "  n_iter_i = _check_optimize_result(\n",
      "C:\\Users\\URIEL\\anaconda3\\lib\\site-packages\\sklearn\\linear_model\\_logistic.py:762: ConvergenceWarning: lbfgs failed to converge (status=1):\n",
      "STOP: TOTAL NO. of ITERATIONS REACHED LIMIT.\n",
      "\n",
      "Increase the number of iterations (max_iter) or scale the data as shown in:\n",
      "    https://scikit-learn.org/stable/modules/preprocessing.html\n",
      "Please also refer to the documentation for alternative solver options:\n",
      "    https://scikit-learn.org/stable/modules/linear_model.html#logistic-regression\n",
      "  n_iter_i = _check_optimize_result(\n",
      "C:\\Users\\URIEL\\anaconda3\\lib\\site-packages\\sklearn\\linear_model\\_logistic.py:762: ConvergenceWarning: lbfgs failed to converge (status=1):\n",
      "STOP: TOTAL NO. of ITERATIONS REACHED LIMIT.\n",
      "\n",
      "Increase the number of iterations (max_iter) or scale the data as shown in:\n",
      "    https://scikit-learn.org/stable/modules/preprocessing.html\n",
      "Please also refer to the documentation for alternative solver options:\n",
      "    https://scikit-learn.org/stable/modules/linear_model.html#logistic-regression\n",
      "  n_iter_i = _check_optimize_result(\n",
      "C:\\Users\\URIEL\\anaconda3\\lib\\site-packages\\sklearn\\linear_model\\_logistic.py:762: ConvergenceWarning: lbfgs failed to converge (status=1):\n",
      "STOP: TOTAL NO. of ITERATIONS REACHED LIMIT.\n",
      "\n",
      "Increase the number of iterations (max_iter) or scale the data as shown in:\n",
      "    https://scikit-learn.org/stable/modules/preprocessing.html\n",
      "Please also refer to the documentation for alternative solver options:\n",
      "    https://scikit-learn.org/stable/modules/linear_model.html#logistic-regression\n",
      "  n_iter_i = _check_optimize_result(\n",
      "C:\\Users\\URIEL\\anaconda3\\lib\\site-packages\\sklearn\\linear_model\\_logistic.py:762: ConvergenceWarning: lbfgs failed to converge (status=1):\n",
      "STOP: TOTAL NO. of ITERATIONS REACHED LIMIT.\n",
      "\n",
      "Increase the number of iterations (max_iter) or scale the data as shown in:\n",
      "    https://scikit-learn.org/stable/modules/preprocessing.html\n",
      "Please also refer to the documentation for alternative solver options:\n",
      "    https://scikit-learn.org/stable/modules/linear_model.html#logistic-regression\n",
      "  n_iter_i = _check_optimize_result(\n",
      "C:\\Users\\URIEL\\anaconda3\\lib\\site-packages\\sklearn\\linear_model\\_logistic.py:762: ConvergenceWarning: lbfgs failed to converge (status=1):\n",
      "STOP: TOTAL NO. of ITERATIONS REACHED LIMIT.\n",
      "\n",
      "Increase the number of iterations (max_iter) or scale the data as shown in:\n",
      "    https://scikit-learn.org/stable/modules/preprocessing.html\n",
      "Please also refer to the documentation for alternative solver options:\n",
      "    https://scikit-learn.org/stable/modules/linear_model.html#logistic-regression\n",
      "  n_iter_i = _check_optimize_result(\n",
      "C:\\Users\\URIEL\\anaconda3\\lib\\site-packages\\sklearn\\linear_model\\_logistic.py:762: ConvergenceWarning: lbfgs failed to converge (status=1):\n",
      "STOP: TOTAL NO. of ITERATIONS REACHED LIMIT.\n",
      "\n",
      "Increase the number of iterations (max_iter) or scale the data as shown in:\n",
      "    https://scikit-learn.org/stable/modules/preprocessing.html\n",
      "Please also refer to the documentation for alternative solver options:\n",
      "    https://scikit-learn.org/stable/modules/linear_model.html#logistic-regression\n",
      "  n_iter_i = _check_optimize_result(\n",
      "C:\\Users\\URIEL\\anaconda3\\lib\\site-packages\\sklearn\\linear_model\\_logistic.py:762: ConvergenceWarning: lbfgs failed to converge (status=1):\n",
      "STOP: TOTAL NO. of ITERATIONS REACHED LIMIT.\n",
      "\n",
      "Increase the number of iterations (max_iter) or scale the data as shown in:\n",
      "    https://scikit-learn.org/stable/modules/preprocessing.html\n",
      "Please also refer to the documentation for alternative solver options:\n",
      "    https://scikit-learn.org/stable/modules/linear_model.html#logistic-regression\n",
      "  n_iter_i = _check_optimize_result(\n",
      "C:\\Users\\URIEL\\anaconda3\\lib\\site-packages\\sklearn\\linear_model\\_logistic.py:762: ConvergenceWarning: lbfgs failed to converge (status=1):\n",
      "STOP: TOTAL NO. of ITERATIONS REACHED LIMIT.\n",
      "\n",
      "Increase the number of iterations (max_iter) or scale the data as shown in:\n",
      "    https://scikit-learn.org/stable/modules/preprocessing.html\n",
      "Please also refer to the documentation for alternative solver options:\n",
      "    https://scikit-learn.org/stable/modules/linear_model.html#logistic-regression\n",
      "  n_iter_i = _check_optimize_result(\n"
     ]
    }
   ],
   "source": [
    "rfe = RFE(lr, n_features_to_select=12)\n",
    "rfe = rfe.fit(bank_data[X], bank_data[Y].values.ravel())"
   ]
  },
  {
   "cell_type": "code",
   "execution_count": 39,
   "metadata": {},
   "outputs": [
    {
     "name": "stdout",
     "output_type": "stream",
     "text": [
      "[False False False False  True False False False  True False False False\n",
      " False False False  True False False False  True  True False False False\n",
      " False False False False False False False False False False False False\n",
      " False False False False False False  True  True  True  True  True False\n",
      " False False False False False False False  True False  True]\n"
     ]
    }
   ],
   "source": [
    "print(rfe.support_) #Imprimir el suport, esto se hace para decidir cuales se van a quedar dentro."
   ]
  },
  {
   "cell_type": "code",
   "execution_count": 32,
   "metadata": {},
   "outputs": [
    {
     "name": "stdout",
     "output_type": "stream",
     "text": [
      "[38 37 17 45  1 19 24 22  1 34  2  8  5 39  7  1  6 23 43  1  1 42 16 27\n",
      " 25 47 33 14 46 18 28  4  9 15 44 13 20 26 11  3 36 21  1  1  1  1  1 12\n",
      " 40 41 31 30 29 35 10  1 32  1]\n"
     ]
    }
   ],
   "source": [
    "print(rfe.ranking_) #Ranking de variables, cuales son las mas probables de quedar dentro del modelo. "
   ]
  },
  {
   "cell_type": "code",
   "execution_count": 33,
   "metadata": {},
   "outputs": [],
   "source": [
    "z=zip(bank_data_vars,rfe.support_, rfe.ranking_)"
   ]
  },
  {
   "cell_type": "code",
   "execution_count": 34,
   "metadata": {},
   "outputs": [
    {
     "data": {
      "text/plain": [
       "[('age', False, 38),\n",
       " ('duration', False, 37),\n",
       " ('campaign', False, 17),\n",
       " ('pdays', False, 45),\n",
       " ('previous', True, 1),\n",
       " ('emp.var.rate', False, 19),\n",
       " ('cons.price.idx', False, 24),\n",
       " ('cons.conf.idx', False, 22),\n",
       " ('euribor3m', True, 1),\n",
       " ('nr.employed', False, 34),\n",
       " ('y', False, 2),\n",
       " ('job_admin.', False, 8),\n",
       " ('job_blue-collar', False, 5),\n",
       " ('job_entrepreneur', False, 39),\n",
       " ('job_housemaid', False, 7),\n",
       " ('job_management', True, 1),\n",
       " ('job_retired', False, 6),\n",
       " ('job_self-employed', False, 23),\n",
       " ('job_services', False, 43),\n",
       " ('job_student', True, 1),\n",
       " ('job_technician', True, 1),\n",
       " ('job_unemployed', False, 42),\n",
       " ('job_unknown', False, 16),\n",
       " ('marital_divorced', False, 27),\n",
       " ('marital_married', False, 25),\n",
       " ('marital_single', False, 47),\n",
       " ('marital_unknown', False, 33),\n",
       " ('education_Basic', False, 14),\n",
       " ('education_High School', False, 46),\n",
       " ('education_Illiterate', False, 18),\n",
       " ('education_Professional Course', False, 28),\n",
       " ('education_University Degree', False, 4),\n",
       " ('education_Unknown', False, 9),\n",
       " ('housing_no', False, 15),\n",
       " ('housing_unknown', False, 44),\n",
       " ('housing_yes', False, 13),\n",
       " ('loan_no', False, 20),\n",
       " ('loan_unknown', False, 26),\n",
       " ('loan_yes', False, 11),\n",
       " ('contact_cellular', False, 3),\n",
       " ('contact_telephone', False, 36),\n",
       " ('month_apr', False, 21),\n",
       " ('month_aug', True, 1),\n",
       " ('month_dec', True, 1),\n",
       " ('month_jul', True, 1),\n",
       " ('month_jun', True, 1),\n",
       " ('month_mar', True, 1),\n",
       " ('month_may', False, 12),\n",
       " ('month_nov', False, 40),\n",
       " ('month_oct', False, 41),\n",
       " ('month_sep', False, 31),\n",
       " ('day_of_week_fri', False, 30),\n",
       " ('day_of_week_mon', False, 29),\n",
       " ('day_of_week_thu', False, 35),\n",
       " ('day_of_week_tue', False, 10),\n",
       " ('day_of_week_wed', True, 1),\n",
       " ('poutcome_failure', False, 32),\n",
       " ('poutcome_nonexistent', True, 1)]"
      ]
     },
     "execution_count": 34,
     "metadata": {},
     "output_type": "execute_result"
    }
   ],
   "source": [
    "list(z) #Las variables que influencian al hecho de si compran o no. "
   ]
  },
  {
   "cell_type": "code",
   "execution_count": 48,
   "metadata": {},
   "outputs": [],
   "source": [
    "cols = [\"previous\", \"euribor3m\", \"job_blue-collar\", \"job_retired\", \"month_aug\", \"month_dec\", \n",
    "        \"month_jul\", \"month_jun\", \"month_mar\", \"month_nov\", \"day_of_week_wed\", \"poutcome_nonexistent\"] \n",
    "#Las columnas que nos ayudan, la tendencia de los meses si funciona. "
   ]
  },
  {
   "cell_type": "code",
   "execution_count": 49,
   "metadata": {},
   "outputs": [],
   "source": [
    "X = bank_data[cols]\n",
    "Y = bank_data[\"y\"] #Seleccion de variables, las variable predictoras y la variable a predecir. "
   ]
  },
  {
   "cell_type": "markdown",
   "metadata": {},
   "source": [
    "# 108. IMPLEMENTAR UNA REGRESION LOGISTICA CON PYTHON"
   ]
  },
  {
   "cell_type": "markdown",
   "metadata": {},
   "source": [
    "### Implementación del modelo en Python con statsmodel.api"
   ]
  },
  {
   "cell_type": "code",
   "execution_count": 50,
   "metadata": {},
   "outputs": [],
   "source": [
    "import statsmodels.api as sm"
   ]
  },
  {
   "cell_type": "code",
   "execution_count": 51,
   "metadata": {},
   "outputs": [],
   "source": [
    "logit_model = sm.Logit(Y, X)"
   ]
  },
  {
   "cell_type": "code",
   "execution_count": 52,
   "metadata": {},
   "outputs": [
    {
     "name": "stdout",
     "output_type": "stream",
     "text": [
      "Optimization terminated successfully.\n",
      "         Current function value: 0.291770\n",
      "         Iterations 7\n"
     ]
    }
   ],
   "source": [
    "result = logit_model.fit() #Ejecuta el metodo de newton rapson para obtener el valor final del modelo. "
   ]
  },
  {
   "cell_type": "code",
   "execution_count": 53,
   "metadata": {},
   "outputs": [
    {
     "data": {
      "text/html": [
       "<table class=\"simpletable\">\n",
       "<tr>\n",
       "        <td>Model:</td>              <td>Logit</td>      <td>Pseudo R-squared:</td>    <td>0.155</td>  \n",
       "</tr>\n",
       "<tr>\n",
       "  <td>Dependent Variable:</td>         <td>y</td>              <td>AIC:</td>         <td>2427.6025</td>\n",
       "</tr>\n",
       "<tr>\n",
       "         <td>Date:</td>        <td>2021-04-04 15:35</td>       <td>BIC:</td>         <td>2503.4828</td>\n",
       "</tr>\n",
       "<tr>\n",
       "   <td>No. Observations:</td>        <td>4119</td>        <td>Log-Likelihood:</td>    <td>-1201.8</td> \n",
       "</tr>\n",
       "<tr>\n",
       "       <td>Df Model:</td>             <td>11</td>            <td>LL-Null:</td>        <td>-1422.9</td> \n",
       "</tr>\n",
       "<tr>\n",
       "     <td>Df Residuals:</td>          <td>4107</td>         <td>LLR p-value:</td>    <td>6.4492e-88</td>\n",
       "</tr>\n",
       "<tr>\n",
       "      <td>Converged:</td>           <td>1.0000</td>           <td>Scale:</td>         <td>1.0000</td>  \n",
       "</tr>\n",
       "<tr>\n",
       "    <td>No. Iterations:</td>        <td>7.0000</td>              <td></td>               <td></td>     \n",
       "</tr>\n",
       "</table>\n",
       "<table class=\"simpletable\">\n",
       "<tr>\n",
       "            <td></td>            <th>Coef.</th>  <th>Std.Err.</th>     <th>z</th>     <th>P>|z|</th> <th>[0.025</th>  <th>0.975]</th> \n",
       "</tr>\n",
       "<tr>\n",
       "  <th>previous</th>             <td>-0.1229</td>  <td>0.0700</td>   <td>-1.7545</td> <td>0.0793</td> <td>-0.2601</td> <td>0.0144</td> \n",
       "</tr>\n",
       "<tr>\n",
       "  <th>euribor3m</th>            <td>-0.6049</td>  <td>0.0383</td>  <td>-15.7882</td> <td>0.0000</td> <td>-0.6800</td> <td>-0.5298</td>\n",
       "</tr>\n",
       "<tr>\n",
       "  <th>job_blue-collar</th>      <td>-0.5032</td>  <td>0.1519</td>   <td>-3.3136</td> <td>0.0009</td> <td>-0.8009</td> <td>-0.2056</td>\n",
       "</tr>\n",
       "<tr>\n",
       "  <th>job_retired</th>          <td>0.2235</td>   <td>0.2191</td>   <td>1.0205</td>  <td>0.3075</td> <td>-0.2058</td> <td>0.6529</td> \n",
       "</tr>\n",
       "<tr>\n",
       "  <th>month_aug</th>            <td>0.6048</td>   <td>0.1759</td>   <td>3.4374</td>  <td>0.0006</td> <td>0.2600</td>  <td>0.9497</td> \n",
       "</tr>\n",
       "<tr>\n",
       "  <th>month_dec</th>            <td>1.1358</td>   <td>0.4493</td>   <td>2.5281</td>  <td>0.0115</td> <td>0.2552</td>  <td>2.0163</td> \n",
       "</tr>\n",
       "<tr>\n",
       "  <th>month_jul</th>            <td>1.0327</td>   <td>0.1910</td>   <td>5.4071</td>  <td>0.0000</td> <td>0.6584</td>  <td>1.4070</td> \n",
       "</tr>\n",
       "<tr>\n",
       "  <th>month_jun</th>            <td>1.0775</td>   <td>0.1752</td>   <td>6.1493</td>  <td>0.0000</td> <td>0.7341</td>  <td>1.4210</td> \n",
       "</tr>\n",
       "<tr>\n",
       "  <th>month_mar</th>            <td>1.6448</td>   <td>0.3139</td>   <td>5.2407</td>  <td>0.0000</td> <td>1.0297</td>  <td>2.2600</td> \n",
       "</tr>\n",
       "<tr>\n",
       "  <th>month_nov</th>            <td>0.3828</td>   <td>0.1950</td>   <td>1.9634</td>  <td>0.0496</td> <td>0.0007</td>  <td>0.7649</td> \n",
       "</tr>\n",
       "<tr>\n",
       "  <th>day_of_week_wed</th>      <td>-0.0649</td>  <td>0.1391</td>   <td>-0.4665</td> <td>0.6409</td> <td>-0.3375</td> <td>0.2077</td> \n",
       "</tr>\n",
       "<tr>\n",
       "  <th>poutcome_nonexistent</th> <td>-0.7753</td>  <td>0.1221</td>   <td>-6.3492</td> <td>0.0000</td> <td>-1.0147</td> <td>-0.5360</td>\n",
       "</tr>\n",
       "</table>"
      ],
      "text/plain": [
       "<class 'statsmodels.iolib.summary2.Summary'>\n",
       "\"\"\"\n",
       "                           Results: Logit\n",
       "=====================================================================\n",
       "Model:                Logit             Pseudo R-squared:  0.155     \n",
       "Dependent Variable:   y                 AIC:               2427.6025 \n",
       "Date:                 2021-04-04 15:35  BIC:               2503.4828 \n",
       "No. Observations:     4119              Log-Likelihood:    -1201.8   \n",
       "Df Model:             11                LL-Null:           -1422.9   \n",
       "Df Residuals:         4107              LLR p-value:       6.4492e-88\n",
       "Converged:            1.0000            Scale:             1.0000    \n",
       "No. Iterations:       7.0000                                         \n",
       "---------------------------------------------------------------------\n",
       "                      Coef.  Std.Err.    z     P>|z|   [0.025  0.975]\n",
       "---------------------------------------------------------------------\n",
       "previous             -0.1229   0.0700  -1.7545 0.0793 -0.2601  0.0144\n",
       "euribor3m            -0.6049   0.0383 -15.7882 0.0000 -0.6800 -0.5298\n",
       "job_blue-collar      -0.5032   0.1519  -3.3136 0.0009 -0.8009 -0.2056\n",
       "job_retired           0.2235   0.2191   1.0205 0.3075 -0.2058  0.6529\n",
       "month_aug             0.6048   0.1759   3.4374 0.0006  0.2600  0.9497\n",
       "month_dec             1.1358   0.4493   2.5281 0.0115  0.2552  2.0163\n",
       "month_jul             1.0327   0.1910   5.4071 0.0000  0.6584  1.4070\n",
       "month_jun             1.0775   0.1752   6.1493 0.0000  0.7341  1.4210\n",
       "month_mar             1.6448   0.3139   5.2407 0.0000  1.0297  2.2600\n",
       "month_nov             0.3828   0.1950   1.9634 0.0496  0.0007  0.7649\n",
       "day_of_week_wed      -0.0649   0.1391  -0.4665 0.6409 -0.3375  0.2077\n",
       "poutcome_nonexistent -0.7753   0.1221  -6.3492 0.0000 -1.0147 -0.5360\n",
       "=====================================================================\n",
       "\n",
       "\"\"\""
      ]
     },
     "execution_count": 53,
     "metadata": {},
     "output_type": "execute_result"
    }
   ],
   "source": [
    "result.summary2()\n",
    "#Devuelve toda la info relativa al modelo, el modelo que ha elaborado es logistico \n",
    "#la variable dependiente, que vamos a predecir es la columna \"y\", \n",
    "#Df Model = grados de libertad que tenemos, siempre es uno menos al numero de variables a predecir, \n",
    "#Df Residuals = Numero de observaciones menos los grados de libertad.\n",
    "#Converged = si pone 1 es que ha convergido rapidamente. \n",
    "#lo de interes : \n",
    "# tenemos el resumen parada cada variable, las variables mas significativas aquellas que tienen un P valor muy pequeños.  \n",
    "#"
   ]
  },
  {
   "cell_type": "markdown",
   "metadata": {},
   "source": [
    "### Implementación del modelo en Python con scikit-learn\n",
    "Esto lo haremos para ajustar el modelo y ver exactamente el resultado asi como los estadisticos a los que estamos acostumbrados en los modelos."
   ]
  },
  {
   "cell_type": "code",
   "execution_count": 41,
   "metadata": {},
   "outputs": [],
   "source": [
    "from sklearn import linear_model"
   ]
  },
  {
   "cell_type": "code",
   "execution_count": 42,
   "metadata": {},
   "outputs": [
    {
     "data": {
      "text/plain": [
       "LogisticRegression()"
      ]
     },
     "execution_count": 42,
     "metadata": {},
     "output_type": "execute_result"
    }
   ],
   "source": [
    "logit_model = linear_model.LogisticRegression() #Primero crea el modelo y luego lo ajusta. \n",
    "logit_model.fit(X,Y)"
   ]
  },
  {
   "cell_type": "code",
   "execution_count": 43,
   "metadata": {},
   "outputs": [
    {
     "data": {
      "text/plain": [
       "0.8958485069191552"
      ]
     },
     "execution_count": 43,
     "metadata": {},
     "output_type": "execute_result"
    }
   ],
   "source": [
    "logit_model.score(X,Y) #Factor R2. cuanto mayor es. es mejor nuestra prediccion. \n",
    "#Nos da uno muy elevado, significa que es bastante alto en contraste con cualquier otro modelo que podemos crear. "
   ]
  },
  {
   "cell_type": "code",
   "execution_count": 44,
   "metadata": {},
   "outputs": [
    {
     "data": {
      "text/plain": [
       "0.8905074047098811"
      ]
     },
     "execution_count": 44,
     "metadata": {},
     "output_type": "execute_result"
    }
   ],
   "source": [
    "1-Y.mean() "
   ]
  },
  {
   "cell_type": "code",
   "execution_count": 45,
   "metadata": {},
   "outputs": [
    {
     "data": {
      "text/html": [
       "<div>\n",
       "<style scoped>\n",
       "    .dataframe tbody tr th:only-of-type {\n",
       "        vertical-align: middle;\n",
       "    }\n",
       "\n",
       "    .dataframe tbody tr th {\n",
       "        vertical-align: top;\n",
       "    }\n",
       "\n",
       "    .dataframe thead th {\n",
       "        text-align: right;\n",
       "    }\n",
       "</style>\n",
       "<table border=\"1\" class=\"dataframe\">\n",
       "  <thead>\n",
       "    <tr style=\"text-align: right;\">\n",
       "      <th></th>\n",
       "      <th>0</th>\n",
       "      <th>1</th>\n",
       "    </tr>\n",
       "  </thead>\n",
       "  <tbody>\n",
       "    <tr>\n",
       "      <th>0</th>\n",
       "      <td>previous</td>\n",
       "      <td>[0.5362541179381843]</td>\n",
       "    </tr>\n",
       "    <tr>\n",
       "      <th>1</th>\n",
       "      <td>euribor3m</td>\n",
       "      <td>[-0.5443670397995866]</td>\n",
       "    </tr>\n",
       "    <tr>\n",
       "      <th>2</th>\n",
       "      <td>job_blue-collar</td>\n",
       "      <td>[-0.3533138743513389]</td>\n",
       "    </tr>\n",
       "    <tr>\n",
       "      <th>3</th>\n",
       "      <td>job_retired</td>\n",
       "      <td>[0.36165159081170917]</td>\n",
       "    </tr>\n",
       "    <tr>\n",
       "      <th>4</th>\n",
       "      <td>month_aug</td>\n",
       "      <td>[0.6292588895072758]</td>\n",
       "    </tr>\n",
       "    <tr>\n",
       "      <th>5</th>\n",
       "      <td>month_dec</td>\n",
       "      <td>[1.1943974572117282]</td>\n",
       "    </tr>\n",
       "    <tr>\n",
       "      <th>6</th>\n",
       "      <td>month_jul</td>\n",
       "      <td>[0.9630554140662402]</td>\n",
       "    </tr>\n",
       "    <tr>\n",
       "      <th>7</th>\n",
       "      <td>month_jun</td>\n",
       "      <td>[1.0566897056470022]</td>\n",
       "    </tr>\n",
       "    <tr>\n",
       "      <th>8</th>\n",
       "      <td>month_mar</td>\n",
       "      <td>[1.6386680234582125]</td>\n",
       "    </tr>\n",
       "    <tr>\n",
       "      <th>9</th>\n",
       "      <td>month_nov</td>\n",
       "      <td>[0.4577084191059241]</td>\n",
       "    </tr>\n",
       "    <tr>\n",
       "      <th>10</th>\n",
       "      <td>day_of_week_wed</td>\n",
       "      <td>[0.046113127259597986]</td>\n",
       "    </tr>\n",
       "    <tr>\n",
       "      <th>11</th>\n",
       "      <td>poutcome_nonexistent</td>\n",
       "      <td>[0.35494520625376097]</td>\n",
       "    </tr>\n",
       "  </tbody>\n",
       "</table>\n",
       "</div>"
      ],
      "text/plain": [
       "                       0                       1\n",
       "0               previous    [0.5362541179381843]\n",
       "1              euribor3m   [-0.5443670397995866]\n",
       "2        job_blue-collar   [-0.3533138743513389]\n",
       "3            job_retired   [0.36165159081170917]\n",
       "4              month_aug    [0.6292588895072758]\n",
       "5              month_dec    [1.1943974572117282]\n",
       "6              month_jul    [0.9630554140662402]\n",
       "7              month_jun    [1.0566897056470022]\n",
       "8              month_mar    [1.6386680234582125]\n",
       "9              month_nov    [0.4577084191059241]\n",
       "10       day_of_week_wed  [0.046113127259597986]\n",
       "11  poutcome_nonexistent   [0.35494520625376097]"
      ]
     },
     "execution_count": 45,
     "metadata": {},
     "output_type": "execute_result"
    }
   ],
   "source": [
    "pd.DataFrame(list(zip(X.columns, np.transpose(logit_model.coef_)))) #podemos crear un df apartir de hacer un zip de las columnas de x \n",
    "#con los valores que nos ha devuelto el modelo. \n",
    "#Estos son los valores que acompañan a dichas variables. \n",
    "#dichos valores tambien indican los cambios en escala logaritmica, por cada unidad de cambio de la variable. \n",
    "#ejemplo, si la variable previous aumenta en una unidad, el cociente de probas, el logaritmo del cociente,  se incrementara en medio punto\n",
    "#y por lo tanto la probabilidad de compra incrementara de forma acorde. \n"
   ]
  },
  {
   "cell_type": "markdown",
   "metadata": {},
   "source": [
    "# 109. VALIDACION DEL MODELO Y EVALUACION DEL MISMO "
   ]
  },
  {
   "cell_type": "markdown",
   "metadata": {},
   "source": [
    "El modelo anterior esta hecho con todo el conjunto de datos, lo mas normal es la division en conjunto de validacion y de entrenamiento, para evaluar la calidad del modelo"
   ]
  },
  {
   "cell_type": "markdown",
   "metadata": {},
   "source": [
    "## Validación del modelo logístico"
   ]
  },
  {
   "cell_type": "code",
   "execution_count": 46,
   "metadata": {},
   "outputs": [],
   "source": [
    "from sklearn.model_selection import train_test_split\n",
    "#Metodo muy facil, nosotros le suplementamos la X y Y respectiva y esto lo divide solo, hace una asignacion multiple. "
   ]
  },
  {
   "cell_type": "code",
   "execution_count": 47,
   "metadata": {},
   "outputs": [],
   "source": [
    "X_train, X_test, Y_train, Y_test = train_test_split(X,Y, test_size = 0.3, random_state=0)\n",
    "#Tenemos dos variables para entrenar y dos para validar, "
   ]
  },
  {
   "cell_type": "code",
   "execution_count": 48,
   "metadata": {},
   "outputs": [
    {
     "data": {
      "text/plain": [
       "LogisticRegression()"
      ]
     },
     "execution_count": 48,
     "metadata": {},
     "output_type": "execute_result"
    }
   ],
   "source": [
    "lm = linear_model.LogisticRegression()\n",
    "lm.fit(X_train, Y_train) #Hemos creado el modelo. la ecuacion que sustenta el modelo, lleva acabo las predicciones de las probas."
   ]
  },
  {
   "cell_type": "code",
   "execution_count": 49,
   "metadata": {},
   "outputs": [],
   "source": [
    "from IPython.display import display, Math, Latex"
   ]
  },
  {
   "cell_type": "code",
   "execution_count": 50,
   "metadata": {},
   "outputs": [
    {
     "data": {
      "text/latex": [
       "$\\displaystyle Y_p=\\begin{cases}0& si\\ p\\leq0.5\\\\1&si\\ p >0.5\\end{cases}$"
      ],
      "text/plain": [
       "<IPython.core.display.Math object>"
      ]
     },
     "metadata": {},
     "output_type": "display_data"
    }
   ],
   "source": [
    "display(Math(r'Y_p=\\begin{cases}0& si\\ p\\leq0.5\\\\1&si\\ p >0.5\\end{cases}'))\n",
    "#Si la proba es mas pequeño se considerar como 0, sino como 1. "
   ]
  },
  {
   "cell_type": "code",
   "execution_count": 51,
   "metadata": {},
   "outputs": [],
   "source": [
    "probs = lm.predict_proba(X_test) #Para predecir las probas del conjunto de test. \n",
    "#Nos dara la proba estandar, nos dara la proba de estar seguros tanto de una respuesta positiva como negativa \n",
    "#de un conjunto de datos. "
   ]
  },
  {
   "cell_type": "code",
   "execution_count": 52,
   "metadata": {},
   "outputs": [
    {
     "data": {
      "text/plain": [
       "array([[0.95409621, 0.04590379],\n",
       "       [0.83896646, 0.16103354],\n",
       "       [0.93216535, 0.06783465],\n",
       "       ...,\n",
       "       [0.65098445, 0.34901555],\n",
       "       [0.97381005, 0.02618995],\n",
       "       [0.57635748, 0.42364252]])"
      ]
     },
     "execution_count": 52,
     "metadata": {},
     "output_type": "execute_result"
    }
   ],
   "source": [
    "probs\n",
    "#la primera columna es la proba, como de seguro estoy de lo que digo\n",
    "#la segunda da la proba de el valor de salida, la compra o la no compra. \n",
    "#si esa superior de lado derecho es superior a 0.5 entonces la observacion se catalogica como 1 o de \"compra\"\n",
    "#herramientas fundamentales para poder decidir. \n"
   ]
  },
  {
   "cell_type": "code",
   "execution_count": 53,
   "metadata": {},
   "outputs": [],
   "source": [
    "prediction = lm.predict(X_test)"
   ]
  },
  {
   "cell_type": "code",
   "execution_count": 54,
   "metadata": {},
   "outputs": [
    {
     "data": {
      "text/plain": [
       "array([0, 0, 0, ..., 0, 0, 0])"
      ]
     },
     "execution_count": 54,
     "metadata": {},
     "output_type": "execute_result"
    }
   ],
   "source": [
    "prediction #array que contiene 0 o 1. menor a 0.5 lo toma como 0. "
   ]
  },
  {
   "cell_type": "code",
   "execution_count": 55,
   "metadata": {},
   "outputs": [
    {
     "data": {
      "text/latex": [
       "$\\displaystyle \\varepsilon\\in (0,1), Y_p=\\begin{cases}0& si\\ p\\leq \\varepsilon\\\\1&si\\ p >\\varepsilon\\end{cases}$"
      ],
      "text/plain": [
       "<IPython.core.display.Math object>"
      ]
     },
     "metadata": {},
     "output_type": "display_data"
    }
   ],
   "source": [
    "display(Math(r'\\varepsilon\\in (0,1), Y_p=\\begin{cases}0& si\\ p\\leq \\varepsilon\\\\1&si\\ p >\\varepsilon\\end{cases}'))"
   ]
  },
  {
   "cell_type": "code",
   "execution_count": 56,
   "metadata": {},
   "outputs": [
    {
     "data": {
      "text/html": [
       "<div>\n",
       "<style scoped>\n",
       "    .dataframe tbody tr th:only-of-type {\n",
       "        vertical-align: middle;\n",
       "    }\n",
       "\n",
       "    .dataframe tbody tr th {\n",
       "        vertical-align: top;\n",
       "    }\n",
       "\n",
       "    .dataframe thead th {\n",
       "        text-align: right;\n",
       "    }\n",
       "</style>\n",
       "<table border=\"1\" class=\"dataframe\">\n",
       "  <thead>\n",
       "    <tr style=\"text-align: right;\">\n",
       "      <th></th>\n",
       "      <th>0</th>\n",
       "      <th>prediction</th>\n",
       "    </tr>\n",
       "  </thead>\n",
       "  <tbody>\n",
       "    <tr>\n",
       "      <th>0</th>\n",
       "      <td>0.045904</td>\n",
       "      <td>0</td>\n",
       "    </tr>\n",
       "    <tr>\n",
       "      <th>1</th>\n",
       "      <td>0.161034</td>\n",
       "      <td>1</td>\n",
       "    </tr>\n",
       "    <tr>\n",
       "      <th>2</th>\n",
       "      <td>0.067835</td>\n",
       "      <td>0</td>\n",
       "    </tr>\n",
       "    <tr>\n",
       "      <th>3</th>\n",
       "      <td>0.062222</td>\n",
       "      <td>0</td>\n",
       "    </tr>\n",
       "    <tr>\n",
       "      <th>4</th>\n",
       "      <td>0.042308</td>\n",
       "      <td>0</td>\n",
       "    </tr>\n",
       "  </tbody>\n",
       "</table>\n",
       "</div>"
      ],
      "text/plain": [
       "          0  prediction\n",
       "0  0.045904           0\n",
       "1  0.161034           1\n",
       "2  0.067835           0\n",
       "3  0.062222           0\n",
       "4  0.042308           0"
      ]
     },
     "execution_count": 56,
     "metadata": {},
     "output_type": "execute_result"
    }
   ],
   "source": [
    "prob = probs[:,1]\n",
    "prob_df = pd.DataFrame(prob)\n",
    "threshold = 0.1\n",
    "prob_df[\"prediction\"] = np.where(prob_df[0]>threshold, 1, 0)\n",
    "prob_df.head()"
   ]
  },
  {
   "cell_type": "code",
   "execution_count": 57,
   "metadata": {},
   "outputs": [
    {
     "data": {
      "text/html": [
       "<div>\n",
       "<style scoped>\n",
       "    .dataframe tbody tr th:only-of-type {\n",
       "        vertical-align: middle;\n",
       "    }\n",
       "\n",
       "    .dataframe tbody tr th {\n",
       "        vertical-align: top;\n",
       "    }\n",
       "\n",
       "    .dataframe thead th {\n",
       "        text-align: right;\n",
       "    }\n",
       "</style>\n",
       "<table border=\"1\" class=\"dataframe\">\n",
       "  <thead>\n",
       "    <tr style=\"text-align: right;\">\n",
       "      <th>col_0</th>\n",
       "      <th>count</th>\n",
       "    </tr>\n",
       "    <tr>\n",
       "      <th>prediction</th>\n",
       "      <th></th>\n",
       "    </tr>\n",
       "  </thead>\n",
       "  <tbody>\n",
       "    <tr>\n",
       "      <th>0</th>\n",
       "      <td>846</td>\n",
       "    </tr>\n",
       "    <tr>\n",
       "      <th>1</th>\n",
       "      <td>390</td>\n",
       "    </tr>\n",
       "  </tbody>\n",
       "</table>\n",
       "</div>"
      ],
      "text/plain": [
       "col_0       count\n",
       "prediction       \n",
       "0             846\n",
       "1             390"
      ]
     },
     "execution_count": 57,
     "metadata": {},
     "output_type": "execute_result"
    }
   ],
   "source": [
    "pd.crosstab(prob_df.prediction, columns=\"count\")"
   ]
  },
  {
   "cell_type": "code",
   "execution_count": 58,
   "metadata": {},
   "outputs": [
    {
     "data": {
      "text/plain": [
       "31.55339805825243"
      ]
     },
     "execution_count": 58,
     "metadata": {},
     "output_type": "execute_result"
    }
   ],
   "source": [
    "390/len(prob_df)*100 #Hemos incrementando un poco la compra de compradores. a un 31%"
   ]
  },
  {
   "cell_type": "code",
   "execution_count": 59,
   "metadata": {},
   "outputs": [
    {
     "data": {
      "text/html": [
       "<div>\n",
       "<style scoped>\n",
       "    .dataframe tbody tr th:only-of-type {\n",
       "        vertical-align: middle;\n",
       "    }\n",
       "\n",
       "    .dataframe tbody tr th {\n",
       "        vertical-align: top;\n",
       "    }\n",
       "\n",
       "    .dataframe thead th {\n",
       "        text-align: right;\n",
       "    }\n",
       "</style>\n",
       "<table border=\"1\" class=\"dataframe\">\n",
       "  <thead>\n",
       "    <tr style=\"text-align: right;\">\n",
       "      <th>col_0</th>\n",
       "      <th>count</th>\n",
       "    </tr>\n",
       "    <tr>\n",
       "      <th>prediction</th>\n",
       "      <th></th>\n",
       "    </tr>\n",
       "  </thead>\n",
       "  <tbody>\n",
       "    <tr>\n",
       "      <th>0</th>\n",
       "      <td>915</td>\n",
       "    </tr>\n",
       "    <tr>\n",
       "      <th>1</th>\n",
       "      <td>321</td>\n",
       "    </tr>\n",
       "  </tbody>\n",
       "</table>\n",
       "</div>"
      ],
      "text/plain": [
       "col_0       count\n",
       "prediction       \n",
       "0             915\n",
       "1             321"
      ]
     },
     "execution_count": 59,
     "metadata": {},
     "output_type": "execute_result"
    }
   ],
   "source": [
    "threshold = 0.15\n",
    "prob_df[\"prediction\"] = np.where(prob_df[0]>threshold, 1, 0)\n",
    "pd.crosstab(prob_df.prediction, columns=\"count\")"
   ]
  },
  {
   "cell_type": "code",
   "execution_count": 60,
   "metadata": {},
   "outputs": [
    {
     "data": {
      "text/plain": [
       "26.779935275080906"
      ]
     },
     "execution_count": 60,
     "metadata": {},
     "output_type": "execute_result"
    }
   ],
   "source": [
    "331/len(prob_df)*100"
   ]
  },
  {
   "cell_type": "code",
   "execution_count": 61,
   "metadata": {},
   "outputs": [
    {
     "data": {
      "text/html": [
       "<div>\n",
       "<style scoped>\n",
       "    .dataframe tbody tr th:only-of-type {\n",
       "        vertical-align: middle;\n",
       "    }\n",
       "\n",
       "    .dataframe tbody tr th {\n",
       "        vertical-align: top;\n",
       "    }\n",
       "\n",
       "    .dataframe thead th {\n",
       "        text-align: right;\n",
       "    }\n",
       "</style>\n",
       "<table border=\"1\" class=\"dataframe\">\n",
       "  <thead>\n",
       "    <tr style=\"text-align: right;\">\n",
       "      <th>col_0</th>\n",
       "      <th>count</th>\n",
       "    </tr>\n",
       "    <tr>\n",
       "      <th>prediction</th>\n",
       "      <th></th>\n",
       "    </tr>\n",
       "  </thead>\n",
       "  <tbody>\n",
       "    <tr>\n",
       "      <th>0</th>\n",
       "      <td>504</td>\n",
       "    </tr>\n",
       "    <tr>\n",
       "      <th>1</th>\n",
       "      <td>732</td>\n",
       "    </tr>\n",
       "  </tbody>\n",
       "</table>\n",
       "</div>"
      ],
      "text/plain": [
       "col_0       count\n",
       "prediction       \n",
       "0             504\n",
       "1             732"
      ]
     },
     "execution_count": 61,
     "metadata": {},
     "output_type": "execute_result"
    }
   ],
   "source": [
    "threshold = 0.05\n",
    "prob_df[\"prediction\"] = np.where(prob_df[0]>threshold, 1, 0)\n",
    "pd.crosstab(prob_df.prediction, columns=\"count\")"
   ]
  },
  {
   "cell_type": "code",
   "execution_count": 62,
   "metadata": {},
   "outputs": [
    {
     "data": {
      "text/plain": [
       "59.22330097087378"
      ]
     },
     "execution_count": 62,
     "metadata": {},
     "output_type": "execute_result"
    }
   ],
   "source": [
    "732/len(prob_df)*100"
   ]
  },
  {
   "cell_type": "code",
   "execution_count": 63,
   "metadata": {},
   "outputs": [],
   "source": [
    "from sklearn import metrics"
   ]
  },
  {
   "cell_type": "code",
   "execution_count": 64,
   "metadata": {},
   "outputs": [
    {
     "data": {
      "text/plain": [
       "0.901294498381877"
      ]
     },
     "execution_count": 64,
     "metadata": {},
     "output_type": "execute_result"
    }
   ],
   "source": [
    "metrics.accuracy_score(Y_test, prediction) #en el 90% de los casos coincide, en cuantos casos acertamos. "
   ]
  },
  {
   "cell_type": "markdown",
   "metadata": {},
   "source": [
    "# 110. LA VALIDACION CRUZADA"
   ]
  },
  {
   "cell_type": "markdown",
   "metadata": {},
   "source": [
    "## Validación cruzada\n",
    "Tecnica muy utilizada para evaluar los resultados del analisis estadistico y garantizar que son independientes de la particion que se ha hecho entre el conjunto de entrenamiento y los datos de prueba. Podria ser que la particion estuviera mal hecha y no fuera adecuada, la validacion cruzada consiste en repetir el experimento varias veces, partiendo los datos las veces que tengan que ser necesarias y calcular la media aritmetica obtenida de las medias de evaluacion sobre distintas particiones llevadas acabo. Se utiliza en entornos donde el objetivo principal es predecir los datos, pero tambien se puede usar en el caso de clasificadores. En general, lo que se quiere estimar es la presicion del modelo que se llevara acabo a la practica, tecnica muy utilizada en proyectos de inteligencia artificial, para validar que modelos que se ha creado es correcto. "
   ]
  },
  {
   "cell_type": "markdown",
   "metadata": {},
   "source": [
    "### VALIDACION CRUZADA DE K ITERACIONES \n",
    "Los datos de muestran se dividen en k subconjuntos de forma que uno de ellos, se utiliza como los datos de prueba y el resto k-1 como datos de entrenamiento. En el proceso de validacion cruzada una vez que se ha llevado acabo se vuelve a repetir pero intercambiando los papeles y asi sucesivamente hasta llevar acabo un total de k iteraciones. De modo que cada uno de los posibles subconjuntos de datos de prueba acabo actuando como tal en algun momento de la iteracion. Despues de todo ellos, se relaiza la media aritmetica de cada iteracion para obtener asi un unico resultado final. Metodo muy preciso. Tiene una desventaja, es mas lento desde el punto de vista computacional. \n",
    "### VALIDACION CRUZADA ALEATORIA \n",
    "Metodo que consiste en dividir aleatoriamente el conjunto de datos de entrenamiento y de prueba, en este caso no sigue ningun patron, sino que para cada division la funcion de aproximacion se ajusta apartir de los datos de entrenamiento que se han elegido y se calculas los valores de salida para el conjunto de datos de prueba final. La ventaja es que la disivion no depende del numero de iteraciones que se lleven acabo. Aqui se escogen las muestras al azar durante k iteraciones de modo que al llevar acabo el calculo del error tenemos que volver a llevar acabo la media aritmetica de los k errores obtenidos segun la forma del metodo anteior. \n",
    "### VALIDACION CRUZADA DEJANDO UNO AFUERA \n",
    "Esta implica separar los datos de forma que para cada iteracion tengamos una sola muestra para los datos de prueba y todo el resto sea el conjunto de entrenamiento, la evaluacion viene dada por el error, en este tipo de validacion se tiende a tender un error muy bajo, a nivel computacional es muy dificil. por el numero que se deben hacer de iteraciones. "
   ]
  },
  {
   "cell_type": "markdown",
   "metadata": {},
   "source": [
    "La tecnica de validacion cruzada se lleva acabo en el dataset cuando intentamos hacer una prediccion para comprobar lo bien que el modelo es capaz de generalizar los resultados de modo que sea independiente del data set utilizado. la validacion cruzada se requiere en muchos casos para hacer que el modelo predictivo no sufra de problemas de overfitting. Todos los modelos se desarrollan basandose de un subconjunto de datos. "
   ]
  },
  {
   "cell_type": "markdown",
   "metadata": {},
   "source": [
    "Existe una tecnica que generaliza la division de un dataset en datos de entrenamiento y de testing, osea que generaliza la validacion cruzada, (pensando que la division de un data set es la forma mas primitiva de validacion cruzada) \"validacion cruzada de k elementos\", lo que se hace, es que el conjunto de datos original se divide en k particiones. De esas k, una siempre sera el conjunto de testing, las otras son el conjunto de entrenamiento, dicho proceso se repetira k veces. \n",
    "Para cada una de las iteraciones se medira la eficacia del modelo y al final, despues de k iteraciones, podremos promediar la eficacia del modelo. Si el promedio general es casi similar al de cada iteracion independiente, se puede concluir que el modelo hace una buena generalizacion y no lleva ningun problema. \n",
    "La ventaja de este metodo es que cada observacion acaba siendo parte del conjunto de testing y de entrenamiento por lo menos una vez. ¿Cual es una buena k?.  Nosotros podemos elegir la k que mejor se ajuste. \n"
   ]
  },
  {
   "cell_type": "code",
   "execution_count": 65,
   "metadata": {},
   "outputs": [],
   "source": [
    "from sklearn.model_selection import cross_val_score #Validacion cruzada"
   ]
  },
  {
   "cell_type": "code",
   "execution_count": 66,
   "metadata": {},
   "outputs": [],
   "source": [
    "scores = cross_val_score(linear_model.LogisticRegression(), X, Y, scoring=\"accuracy\", cv=10)"
   ]
  },
  {
   "cell_type": "code",
   "execution_count": 67,
   "metadata": {},
   "outputs": [
    {
     "data": {
      "text/plain": [
       "array([0.90533981, 0.88834951, 0.90533981, 0.89563107, 0.90048544,\n",
       "       0.8907767 , 0.88349515, 0.89320388, 0.89320388, 0.88807786])"
      ]
     },
     "execution_count": 67,
     "metadata": {},
     "output_type": "execute_result"
    }
   ],
   "source": [
    "scores #Cada una de las presiciones, pero lo mas normal es pedirle el promedio. "
   ]
  },
  {
   "cell_type": "code",
   "execution_count": 68,
   "metadata": {},
   "outputs": [
    {
     "data": {
      "text/plain": [
       "0.8943903101599225"
      ]
     },
     "execution_count": 68,
     "metadata": {},
     "output_type": "execute_result"
    }
   ],
   "source": [
    "scores.mean() #89% de eficacia. es un metodo bastante bueno, podemos decir que el modelo generaliza bastante bien la informacion. \n",
    "#suministrada para ser entrenado. \n",
    "#Con esto hemos podido contrastar que el 90% de arriba no es en vano, por regla general con 10 particiones que hemos hecho del conjunto \n",
    "#de datos hemos conseguido una eficacia del 89%. "
   ]
  },
  {
   "cell_type": "markdown",
   "metadata": {},
   "source": [
    "## Matrices de Confusión y curvas ROC"
   ]
  },
  {
   "cell_type": "markdown",
   "metadata": {},
   "source": [
    "Una vez que hemos creado el modelo y lo hemos evaluado, la siguiente etapa es validar que el modelo es correcto, en muchos casos la regresion logistica o en general en cuaquier modelo de clasificacion, queremos validar que el modelo es correcto comparando el resultado real con el resultado que ha elaborado la prediccion del mismo, existen varias formas de hacerlo, pero el mas famoso, son las curvas ROC. una curva ROC es una herramienta grafica que nos sirve para entender el funcionamiento y la eficacia de  clasificacion que tiene un modelo, para el caso de la regresion logistica, pues basicamente una prediccion puede ser buena o mala, positiva o negativa, la prediccion puede ser correcta o incorrecta. "
   ]
  },
  {
   "cell_type": "code",
   "execution_count": 69,
   "metadata": {},
   "outputs": [],
   "source": [
    "X_train, X_test, Y_train, Y_test = train_test_split(X,Y,test_size=0.3, random_state=0)"
   ]
  },
  {
   "cell_type": "code",
   "execution_count": 70,
   "metadata": {},
   "outputs": [
    {
     "data": {
      "text/plain": [
       "LogisticRegression()"
      ]
     },
     "execution_count": 70,
     "metadata": {},
     "output_type": "execute_result"
    }
   ],
   "source": [
    "lm = linear_model.LogisticRegression()\n",
    "lm.fit(X_train, Y_train)"
   ]
  },
  {
   "cell_type": "code",
   "execution_count": 71,
   "metadata": {},
   "outputs": [],
   "source": [
    "probs = lm.predict_proba(X_test)"
   ]
  },
  {
   "cell_type": "code",
   "execution_count": 72,
   "metadata": {},
   "outputs": [
    {
     "data": {
      "text/html": [
       "<div>\n",
       "<style scoped>\n",
       "    .dataframe tbody tr th:only-of-type {\n",
       "        vertical-align: middle;\n",
       "    }\n",
       "\n",
       "    .dataframe tbody tr th {\n",
       "        vertical-align: top;\n",
       "    }\n",
       "\n",
       "    .dataframe thead th {\n",
       "        text-align: right;\n",
       "    }\n",
       "</style>\n",
       "<table border=\"1\" class=\"dataframe\">\n",
       "  <thead>\n",
       "    <tr style=\"text-align: right;\">\n",
       "      <th></th>\n",
       "      <th>0</th>\n",
       "      <th>prediction</th>\n",
       "      <th>actual</th>\n",
       "    </tr>\n",
       "  </thead>\n",
       "  <tbody>\n",
       "    <tr>\n",
       "      <th>0</th>\n",
       "      <td>0.045904</td>\n",
       "      <td>0</td>\n",
       "      <td>0</td>\n",
       "    </tr>\n",
       "    <tr>\n",
       "      <th>1</th>\n",
       "      <td>0.161034</td>\n",
       "      <td>1</td>\n",
       "      <td>0</td>\n",
       "    </tr>\n",
       "    <tr>\n",
       "      <th>2</th>\n",
       "      <td>0.067835</td>\n",
       "      <td>0</td>\n",
       "      <td>0</td>\n",
       "    </tr>\n",
       "    <tr>\n",
       "      <th>3</th>\n",
       "      <td>0.062222</td>\n",
       "      <td>0</td>\n",
       "      <td>0</td>\n",
       "    </tr>\n",
       "    <tr>\n",
       "      <th>4</th>\n",
       "      <td>0.042308</td>\n",
       "      <td>0</td>\n",
       "      <td>0</td>\n",
       "    </tr>\n",
       "  </tbody>\n",
       "</table>\n",
       "</div>"
      ],
      "text/plain": [
       "          0  prediction  actual\n",
       "0  0.045904           0       0\n",
       "1  0.161034           1       0\n",
       "2  0.067835           0       0\n",
       "3  0.062222           0       0\n",
       "4  0.042308           0       0"
      ]
     },
     "execution_count": 72,
     "metadata": {},
     "output_type": "execute_result"
    }
   ],
   "source": [
    "prob=probs[:,1]\n",
    "prob_df = pd.DataFrame(prob)\n",
    "threshold = 0.1\n",
    "prob_df[\"prediction\"] = np.where(prob_df[0]>=threshold, 1, 0)\n",
    "prob_df[\"actual\"] = list(Y_test)\n",
    "prob_df.head()"
   ]
  },
  {
   "cell_type": "code",
   "execution_count": 73,
   "metadata": {},
   "outputs": [],
   "source": [
    "confusion_matrix = pd.crosstab(prob_df.prediction, prob_df.actual)"
   ]
  },
  {
   "cell_type": "code",
   "execution_count": 74,
   "metadata": {},
   "outputs": [],
   "source": [
    "TN=confusion_matrix[0][0]\n",
    "TP=confusion_matrix[1][1]\n",
    "FN=confusion_matrix[0][1]\n",
    "FP=confusion_matrix[1][0]"
   ]
  },
  {
   "cell_type": "code",
   "execution_count": 75,
   "metadata": {},
   "outputs": [
    {
     "data": {
      "text/plain": [
       "0.21025641025641026"
      ]
     },
     "execution_count": 75,
     "metadata": {},
     "output_type": "execute_result"
    }
   ],
   "source": [
    "sens = TP/(TP+FN)\n",
    "sens"
   ]
  },
  {
   "cell_type": "code",
   "execution_count": 76,
   "metadata": {},
   "outputs": [
    {
     "data": {
      "text/plain": [
       "0.047281323877068515"
      ]
     },
     "execution_count": 76,
     "metadata": {},
     "output_type": "execute_result"
    }
   ],
   "source": [
    "espc_1 = 1-TN/(TN+FP)\n",
    "espc_1"
   ]
  },
  {
   "cell_type": "code",
   "execution_count": 77,
   "metadata": {},
   "outputs": [],
   "source": [
    "thresholds = [0.04, 0.05, 0.07, 0.10, 0.12, 0.15, 0.18, 0.20, 0.25, 0.3, 0.4, 0.5]\n",
    "sensitivities = [1]\n",
    "especifities_1 = [1]\n",
    "\n",
    "for t in thresholds:\n",
    "    prob_df[\"prediction\"] = np.where(prob_df[0]>=t, 1, 0)\n",
    "    prob_df[\"actual\"] = list(Y_test)\n",
    "    prob_df.head()\n",
    "\n",
    "    confusion_matrix = pd.crosstab(prob_df.prediction, prob_df.actual)\n",
    "    TN=confusion_matrix[0][0]\n",
    "    TP=confusion_matrix[1][1]\n",
    "    FP=confusion_matrix[0][1]\n",
    "    FN=confusion_matrix[1][0]\n",
    "    \n",
    "    sens = TP/(TP+FN)\n",
    "    sensitivities.append(sens)\n",
    "    espc_1 = 1-TN/(TN+FP)\n",
    "    especifities_1.append(espc_1)\n",
    "\n",
    "sensitivities.append(0)\n",
    "especifities_1.append(0)"
   ]
  },
  {
   "cell_type": "code",
   "execution_count": 78,
   "metadata": {},
   "outputs": [
    {
     "data": {
      "text/plain": [
       "[1,\n",
       " 0.9344262295081968,\n",
       " 0.8442622950819673,\n",
       " 0.680327868852459,\n",
       " 0.6721311475409836,\n",
       " 0.6639344262295082,\n",
       " 0.6229508196721312,\n",
       " 0.5163934426229508,\n",
       " 0.45081967213114754,\n",
       " 0.4016393442622951,\n",
       " 0.36065573770491804,\n",
       " 0.1721311475409836,\n",
       " 0.12295081967213115,\n",
       " 0]"
      ]
     },
     "execution_count": 78,
     "metadata": {},
     "output_type": "execute_result"
    }
   ],
   "source": [
    "sensitivities"
   ]
  },
  {
   "cell_type": "code",
   "execution_count": 79,
   "metadata": {},
   "outputs": [
    {
     "data": {
      "text/plain": [
       "[1,\n",
       " 0.7800718132854578,\n",
       " 0.5646319569120287,\n",
       " 0.2989228007181328,\n",
       " 0.2764811490125674,\n",
       " 0.24596050269299818,\n",
       " 0.21992818671454217,\n",
       " 0.12387791741472176,\n",
       " 0.08617594254937166,\n",
       " 0.07181328545780974,\n",
       " 0.06463195691202872,\n",
       " 0.022441651705565557,\n",
       " 0.013464991023339312,\n",
       " 0]"
      ]
     },
     "execution_count": 79,
     "metadata": {},
     "output_type": "execute_result"
    }
   ],
   "source": [
    "especifities_1"
   ]
  },
  {
   "cell_type": "code",
   "execution_count": 80,
   "metadata": {},
   "outputs": [],
   "source": [
    "import matplotlib.pyplot as plt"
   ]
  },
  {
   "cell_type": "code",
   "execution_count": 81,
   "metadata": {},
   "outputs": [
    {
     "data": {
      "text/plain": [
       "Text(0.5, 1.0, 'Curva ROC')"
      ]
     },
     "execution_count": 81,
     "metadata": {},
     "output_type": "execute_result"
    },
    {
     "data": {
      "image/png": "[encoded data removed]",
      "text/plain": [
       "<Figure size 432x288 with 1 Axes>"
      ]
     },
     "metadata": {
      "needs_background": "light"
     },
     "output_type": "display_data"
    }
   ],
   "source": [
    "%matplotlib inline\n",
    "plt.plot(especifities_1, sensitivities, marker=\"o\", linestyle=\"--\", color=\"r\")\n",
    "x=[i*0.01 for i in range(100)]\n",
    "y=[i*0.01 for i in range(100)]\n",
    "plt.plot(x,y)\n",
    "plt.xlabel(\"1-Especifidad\")\n",
    "plt.ylabel(\"Sensibilidad\")\n",
    "plt.title(\"Curva ROC\")"
   ]
  },
  {
   "cell_type": "code",
   "execution_count": 88,
   "metadata": {},
   "outputs": [],
   "source": [
    "#HAY QUE ESPERAR QUE ACTUALICE GGPLOT LAS LIBRERIAS, SINO HAY QUE MODIFICAR ARCHIVOS INTERNOS"
   ]
  },
  {
   "cell_type": "code",
   "execution_count": 82,
   "metadata": {},
   "outputs": [
    {
     "ename": "AttributeError",
     "evalue": "module 'pandas' has no attribute 'tslib'",
     "output_type": "error",
     "traceback": [
      "\u001b[0;31m---------------------------------------------------------------------------\u001b[0m",
      "\u001b[0;31mAttributeError\u001b[0m                            Traceback (most recent call last)",
      "\u001b[0;32m<ipython-input-82-20fefc971645>\u001b[0m in \u001b[0;36m<module>\u001b[0;34m\u001b[0m\n\u001b[1;32m      1\u001b[0m \u001b[0;32mfrom\u001b[0m \u001b[0msklearn\u001b[0m \u001b[0;32mimport\u001b[0m \u001b[0mmetrics\u001b[0m\u001b[0;34m\u001b[0m\u001b[0;34m\u001b[0m\u001b[0m\n\u001b[1;32m      2\u001b[0m \u001b[0;32mfrom\u001b[0m \u001b[0mpandas\u001b[0m \u001b[0;32mimport\u001b[0m \u001b[0mTimestamp\u001b[0m\u001b[0;34m\u001b[0m\u001b[0;34m\u001b[0m\u001b[0m\n\u001b[0;32m----> 3\u001b[0;31m \u001b[0;32mfrom\u001b[0m \u001b[0mggplot\u001b[0m \u001b[0;32mimport\u001b[0m \u001b[0;34m*\u001b[0m\u001b[0;34m\u001b[0m\u001b[0;34m\u001b[0m\u001b[0m\n\u001b[0m",
      "\u001b[0;32m~/opt/anaconda3/lib/python3.8/site-packages/ggplot/__init__.py\u001b[0m in \u001b[0;36m<module>\u001b[0;34m\u001b[0m\n\u001b[1;32m     17\u001b[0m \u001b[0;34m\u001b[0m\u001b[0m\n\u001b[1;32m     18\u001b[0m \u001b[0;34m\u001b[0m\u001b[0m\n\u001b[0;32m---> 19\u001b[0;31m \u001b[0;32mfrom\u001b[0m \u001b[0;34m.\u001b[0m\u001b[0mgeoms\u001b[0m \u001b[0;32mimport\u001b[0m \u001b[0mgeom_area\u001b[0m\u001b[0;34m,\u001b[0m \u001b[0mgeom_blank\u001b[0m\u001b[0;34m,\u001b[0m \u001b[0mgeom_boxplot\u001b[0m\u001b[0;34m,\u001b[0m \u001b[0mgeom_line\u001b[0m\u001b[0;34m,\u001b[0m \u001b[0mgeom_point\u001b[0m\u001b[0;34m,\u001b[0m \u001b[0mgeom_jitter\u001b[0m\u001b[0;34m,\u001b[0m \u001b[0mgeom_histogram\u001b[0m\u001b[0;34m,\u001b[0m \u001b[0mgeom_density\u001b[0m\u001b[0;34m,\u001b[0m \u001b[0mgeom_hline\u001b[0m\u001b[0;34m,\u001b[0m \u001b[0mgeom_vline\u001b[0m\u001b[0;34m,\u001b[0m \u001b[0mgeom_bar\u001b[0m\u001b[0;34m,\u001b[0m \u001b[0mgeom_abline\u001b[0m\u001b[0;34m,\u001b[0m \u001b[0mgeom_tile\u001b[0m\u001b[0;34m,\u001b[0m \u001b[0mgeom_rect\u001b[0m\u001b[0;34m,\u001b[0m \u001b[0mgeom_bin2d\u001b[0m\u001b[0;34m,\u001b[0m \u001b[0mgeom_step\u001b[0m\u001b[0;34m,\u001b[0m \u001b[0mgeom_text\u001b[0m\u001b[0;34m,\u001b[0m \u001b[0mgeom_path\u001b[0m\u001b[0;34m,\u001b[0m \u001b[0mgeom_ribbon\u001b[0m\u001b[0;34m,\u001b[0m \u001b[0mgeom_now_its_art\u001b[0m\u001b[0;34m,\u001b[0m \u001b[0mgeom_violin\u001b[0m\u001b[0;34m,\u001b[0m \u001b[0mgeom_errorbar\u001b[0m\u001b[0;34m,\u001b[0m \u001b[0mgeom_polygon\u001b[0m\u001b[0;34m\u001b[0m\u001b[0;34m\u001b[0m\u001b[0m\n\u001b[0m\u001b[1;32m     20\u001b[0m \u001b[0;32mfrom\u001b[0m \u001b[0;34m.\u001b[0m\u001b[0mstats\u001b[0m \u001b[0;32mimport\u001b[0m \u001b[0mstat_smooth\u001b[0m\u001b[0;34m,\u001b[0m \u001b[0mstat_density\u001b[0m\u001b[0;34m\u001b[0m\u001b[0;34m\u001b[0m\u001b[0m\n\u001b[1;32m     21\u001b[0m \u001b[0;34m\u001b[0m\u001b[0m\n",
      "\u001b[0;32m~/opt/anaconda3/lib/python3.8/site-packages/ggplot/geoms/__init__.py\u001b[0m in \u001b[0;36m<module>\u001b[0;34m\u001b[0m\n\u001b[0;32m----> 1\u001b[0;31m \u001b[0;32mfrom\u001b[0m \u001b[0;34m.\u001b[0m\u001b[0mgeom_abline\u001b[0m \u001b[0;32mimport\u001b[0m \u001b[0mgeom_abline\u001b[0m\u001b[0;34m\u001b[0m\u001b[0;34m\u001b[0m\u001b[0m\n\u001b[0m\u001b[1;32m      2\u001b[0m \u001b[0;32mfrom\u001b[0m \u001b[0;34m.\u001b[0m\u001b[0mgeom_area\u001b[0m \u001b[0;32mimport\u001b[0m \u001b[0mgeom_area\u001b[0m\u001b[0;34m\u001b[0m\u001b[0;34m\u001b[0m\u001b[0m\n\u001b[1;32m      3\u001b[0m \u001b[0;32mfrom\u001b[0m \u001b[0;34m.\u001b[0m\u001b[0mgeom_bar\u001b[0m \u001b[0;32mimport\u001b[0m \u001b[0mgeom_bar\u001b[0m\u001b[0;34m\u001b[0m\u001b[0;34m\u001b[0m\u001b[0m\n\u001b[1;32m      4\u001b[0m \u001b[0;32mfrom\u001b[0m \u001b[0;34m.\u001b[0m\u001b[0mgeom_bin2d\u001b[0m \u001b[0;32mimport\u001b[0m \u001b[0mgeom_bin2d\u001b[0m\u001b[0;34m\u001b[0m\u001b[0;34m\u001b[0m\u001b[0m\n\u001b[1;32m      5\u001b[0m \u001b[0;32mfrom\u001b[0m \u001b[0;34m.\u001b[0m\u001b[0mgeom_blank\u001b[0m \u001b[0;32mimport\u001b[0m \u001b[0mgeom_blank\u001b[0m\u001b[0;34m\u001b[0m\u001b[0;34m\u001b[0m\u001b[0m\n",
      "\u001b[0;32m~/opt/anaconda3/lib/python3.8/site-packages/ggplot/geoms/geom_abline.py\u001b[0m in \u001b[0;36m<module>\u001b[0;34m\u001b[0m\n\u001b[0;32m----> 1\u001b[0;31m \u001b[0;32mfrom\u001b[0m \u001b[0;34m.\u001b[0m\u001b[0mgeom\u001b[0m \u001b[0;32mimport\u001b[0m \u001b[0mgeom\u001b[0m\u001b[0;34m\u001b[0m\u001b[0;34m\u001b[0m\u001b[0m\n\u001b[0m\u001b[1;32m      2\u001b[0m \u001b[0;34m\u001b[0m\u001b[0m\n\u001b[1;32m      3\u001b[0m \u001b[0;32mclass\u001b[0m \u001b[0mgeom_abline\u001b[0m\u001b[0;34m(\u001b[0m\u001b[0mgeom\u001b[0m\u001b[0;34m)\u001b[0m\u001b[0;34m:\u001b[0m\u001b[0;34m\u001b[0m\u001b[0;34m\u001b[0m\u001b[0m\n\u001b[1;32m      4\u001b[0m     \"\"\"\n\u001b[1;32m      5\u001b[0m     \u001b[0mLine\u001b[0m \u001b[0mspecified\u001b[0m \u001b[0mby\u001b[0m \u001b[0mslope\u001b[0m \u001b[0;32mand\u001b[0m \u001b[0mintercept\u001b[0m\u001b[0;34m\u001b[0m\u001b[0;34m\u001b[0m\u001b[0m\n",
      "\u001b[0;32m~/opt/anaconda3/lib/python3.8/site-packages/ggplot/geoms/geom.py\u001b[0m in \u001b[0;36m<module>\u001b[0;34m\u001b[0m\n\u001b[1;32m      1\u001b[0m from __future__ import (absolute_import, division, print_function,\n\u001b[1;32m      2\u001b[0m                         unicode_literals)\n\u001b[0;32m----> 3\u001b[0;31m \u001b[0;32mfrom\u001b[0m \u001b[0;34m.\u001b[0m\u001b[0;34m.\u001b[0m\u001b[0mggplot\u001b[0m \u001b[0;32mimport\u001b[0m \u001b[0mggplot\u001b[0m\u001b[0;34m\u001b[0m\u001b[0;34m\u001b[0m\u001b[0m\n\u001b[0m\u001b[1;32m      4\u001b[0m \u001b[0;32mfrom\u001b[0m \u001b[0;34m.\u001b[0m\u001b[0;34m.\u001b[0m\u001b[0maes\u001b[0m \u001b[0;32mimport\u001b[0m \u001b[0maes\u001b[0m\u001b[0;34m\u001b[0m\u001b[0;34m\u001b[0m\u001b[0m\n\u001b[1;32m      5\u001b[0m \u001b[0;34m\u001b[0m\u001b[0m\n",
      "\u001b[0;32m~/opt/anaconda3/lib/python3.8/site-packages/ggplot/ggplot.py\u001b[0m in \u001b[0;36m<module>\u001b[0;34m\u001b[0m\n\u001b[1;32m     11\u001b[0m \u001b[0;32mimport\u001b[0m \u001b[0mwarnings\u001b[0m\u001b[0;34m\u001b[0m\u001b[0;34m\u001b[0m\u001b[0m\n\u001b[1;32m     12\u001b[0m \u001b[0;34m\u001b[0m\u001b[0m\n\u001b[0;32m---> 13\u001b[0;31m \u001b[0;32mfrom\u001b[0m \u001b[0;34m.\u001b[0m\u001b[0maes\u001b[0m \u001b[0;32mimport\u001b[0m \u001b[0maes\u001b[0m\u001b[0;34m\u001b[0m\u001b[0;34m\u001b[0m\u001b[0m\n\u001b[0m\u001b[1;32m     14\u001b[0m \u001b[0;32mfrom\u001b[0m \u001b[0;34m.\u001b[0m\u001b[0mlegend\u001b[0m \u001b[0;32mimport\u001b[0m \u001b[0mmake_legend\u001b[0m\u001b[0;34m\u001b[0m\u001b[0;34m\u001b[0m\u001b[0m\n\u001b[1;32m     15\u001b[0m \u001b[0;32mfrom\u001b[0m \u001b[0;34m.\u001b[0m\u001b[0mthemes\u001b[0m \u001b[0;32mimport\u001b[0m \u001b[0mtheme_gray\u001b[0m\u001b[0;34m\u001b[0m\u001b[0;34m\u001b[0m\u001b[0m\n",
      "\u001b[0;32m~/opt/anaconda3/lib/python3.8/site-packages/ggplot/aes.py\u001b[0m in \u001b[0;36m<module>\u001b[0;34m\u001b[0m\n\u001b[1;32m      9\u001b[0m \u001b[0;32mfrom\u001b[0m \u001b[0mpatsy\u001b[0m\u001b[0;34m.\u001b[0m\u001b[0meval\u001b[0m \u001b[0;32mimport\u001b[0m \u001b[0mEvalEnvironment\u001b[0m\u001b[0;34m\u001b[0m\u001b[0;34m\u001b[0m\u001b[0m\n\u001b[1;32m     10\u001b[0m \u001b[0;34m\u001b[0m\u001b[0m\n\u001b[0;32m---> 11\u001b[0;31m \u001b[0;32mfrom\u001b[0m \u001b[0;34m.\u001b[0m \u001b[0;32mimport\u001b[0m \u001b[0mutils\u001b[0m\u001b[0;34m\u001b[0m\u001b[0;34m\u001b[0m\u001b[0m\n\u001b[0m\u001b[1;32m     12\u001b[0m \u001b[0;34m\u001b[0m\u001b[0m\n\u001b[1;32m     13\u001b[0m \u001b[0;32mimport\u001b[0m \u001b[0mnumpy\u001b[0m \u001b[0;32mas\u001b[0m \u001b[0mnp\u001b[0m\u001b[0;34m\u001b[0m\u001b[0;34m\u001b[0m\u001b[0m\n",
      "\u001b[0;32m~/opt/anaconda3/lib/python3.8/site-packages/ggplot/utils.py\u001b[0m in \u001b[0;36m<module>\u001b[0;34m\u001b[0m\n\u001b[1;32m     79\u001b[0m \u001b[0;34m\u001b[0m\u001b[0m\n\u001b[1;32m     80\u001b[0m date_types = (\n\u001b[0;32m---> 81\u001b[0;31m     \u001b[0mpd\u001b[0m\u001b[0;34m.\u001b[0m\u001b[0mtslib\u001b[0m\u001b[0;34m.\u001b[0m\u001b[0mTimestamp\u001b[0m\u001b[0;34m,\u001b[0m\u001b[0;34m\u001b[0m\u001b[0;34m\u001b[0m\u001b[0m\n\u001b[0m\u001b[1;32m     82\u001b[0m     \u001b[0mpd\u001b[0m\u001b[0;34m.\u001b[0m\u001b[0mDatetimeIndex\u001b[0m\u001b[0;34m,\u001b[0m\u001b[0;34m\u001b[0m\u001b[0;34m\u001b[0m\u001b[0m\n\u001b[1;32m     83\u001b[0m     \u001b[0mpd\u001b[0m\u001b[0;34m.\u001b[0m\u001b[0mPeriod\u001b[0m\u001b[0;34m,\u001b[0m\u001b[0;34m\u001b[0m\u001b[0;34m\u001b[0m\u001b[0m\n",
      "\u001b[0;32m~/opt/anaconda3/lib/python3.8/site-packages/pandas/__init__.py\u001b[0m in \u001b[0;36m__getattr__\u001b[0;34m(name)\u001b[0m\n\u001b[1;32m    256\u001b[0m             \u001b[0;32mreturn\u001b[0m \u001b[0m_SparseArray\u001b[0m\u001b[0;34m\u001b[0m\u001b[0;34m\u001b[0m\u001b[0m\n\u001b[1;32m    257\u001b[0m \u001b[0;34m\u001b[0m\u001b[0m\n\u001b[0;32m--> 258\u001b[0;31m         \u001b[0;32mraise\u001b[0m \u001b[0mAttributeError\u001b[0m\u001b[0;34m(\u001b[0m\u001b[0;34mf\"module 'pandas' has no attribute '{name}'\"\u001b[0m\u001b[0;34m)\u001b[0m\u001b[0;34m\u001b[0m\u001b[0;34m\u001b[0m\u001b[0m\n\u001b[0m\u001b[1;32m    259\u001b[0m \u001b[0;34m\u001b[0m\u001b[0m\n\u001b[1;32m    260\u001b[0m \u001b[0;34m\u001b[0m\u001b[0m\n",
      "\u001b[0;31mAttributeError\u001b[0m: module 'pandas' has no attribute 'tslib'"
     ]
    }
   ],
   "source": [
    "from sklearn import metrics\n",
    "from pandas import Timestamp\n",
    "from ggplot import *"
   ]
  },
  {
   "cell_type": "code",
   "execution_count": null,
   "metadata": {},
   "outputs": [],
   "source": [
    "espc_1, sensit, _ = metrics.roc_curve(Y_test, prob)"
   ]
  },
  {
   "cell_type": "code",
   "execution_count": 83,
   "metadata": {},
   "outputs": [
    {
     "ename": "NameError",
     "evalue": "name 'sensit' is not defined",
     "output_type": "error",
     "traceback": [
      "\u001b[0;31m---------------------------------------------------------------------------\u001b[0m",
      "\u001b[0;31mNameError\u001b[0m                                 Traceback (most recent call last)",
      "\u001b[0;32m<ipython-input-83-c003ab85484b>\u001b[0m in \u001b[0;36m<module>\u001b[0;34m\u001b[0m\n\u001b[1;32m      1\u001b[0m df = pd.DataFrame({\n\u001b[1;32m      2\u001b[0m     \u001b[0;34m\"esp\"\u001b[0m\u001b[0;34m:\u001b[0m\u001b[0mespc_1\u001b[0m\u001b[0;34m,\u001b[0m\u001b[0;34m\u001b[0m\u001b[0;34m\u001b[0m\u001b[0m\n\u001b[0;32m----> 3\u001b[0;31m     \u001b[0;34m\"sens\"\u001b[0m\u001b[0;34m:\u001b[0m\u001b[0msensit\u001b[0m\u001b[0;34m\u001b[0m\u001b[0;34m\u001b[0m\u001b[0m\n\u001b[0m\u001b[1;32m      4\u001b[0m })\n",
      "\u001b[0;31mNameError\u001b[0m: name 'sensit' is not defined"
     ]
    }
   ],
   "source": [
    "df = pd.DataFrame({\n",
    "    \"esp\":espc_1,\n",
    "    \"sens\":sensit\n",
    "})"
   ]
  },
  {
   "cell_type": "code",
   "execution_count": 84,
   "metadata": {},
   "outputs": [
    {
     "ename": "NameError",
     "evalue": "name 'df' is not defined",
     "output_type": "error",
     "traceback": [
      "\u001b[0;31m---------------------------------------------------------------------------\u001b[0m",
      "\u001b[0;31mNameError\u001b[0m                                 Traceback (most recent call last)",
      "\u001b[0;32m<ipython-input-84-c42a15b2c7cf>\u001b[0m in \u001b[0;36m<module>\u001b[0;34m\u001b[0m\n\u001b[0;32m----> 1\u001b[0;31m \u001b[0mdf\u001b[0m\u001b[0;34m.\u001b[0m\u001b[0mhead\u001b[0m\u001b[0;34m(\u001b[0m\u001b[0;34m)\u001b[0m\u001b[0;34m\u001b[0m\u001b[0;34m\u001b[0m\u001b[0m\n\u001b[0m",
      "\u001b[0;31mNameError\u001b[0m: name 'df' is not defined"
     ]
    }
   ],
   "source": [
    "df.head()"
   ]
  },
  {
   "cell_type": "code",
   "execution_count": 85,
   "metadata": {},
   "outputs": [
    {
     "ename": "NameError",
     "evalue": "name 'ggplot' is not defined",
     "output_type": "error",
     "traceback": [
      "\u001b[0;31m---------------------------------------------------------------------------\u001b[0m",
      "\u001b[0;31mNameError\u001b[0m                                 Traceback (most recent call last)",
      "\u001b[0;32m<ipython-input-85-e7bec62addb9>\u001b[0m in \u001b[0;36m<module>\u001b[0;34m\u001b[0m\n\u001b[0;32m----> 1\u001b[0;31m \u001b[0mggplot\u001b[0m\u001b[0;34m(\u001b[0m\u001b[0mdf\u001b[0m\u001b[0;34m,\u001b[0m \u001b[0maes\u001b[0m\u001b[0;34m(\u001b[0m\u001b[0mx\u001b[0m\u001b[0;34m=\u001b[0m\u001b[0;34m\"esp\"\u001b[0m\u001b[0;34m,\u001b[0m \u001b[0my\u001b[0m\u001b[0;34m=\u001b[0m\u001b[0;34m\"sens\"\u001b[0m\u001b[0;34m)\u001b[0m\u001b[0;34m)\u001b[0m \u001b[0;34m+\u001b[0m\u001b[0mgeom_line\u001b[0m\u001b[0;34m(\u001b[0m\u001b[0;34m)\u001b[0m \u001b[0;34m+\u001b[0m \u001b[0mgeom_abline\u001b[0m\u001b[0;34m(\u001b[0m\u001b[0mlinetype\u001b[0m\u001b[0;34m=\u001b[0m\u001b[0;34m\"dashed\"\u001b[0m\u001b[0;34m)\u001b[0m\u001b[0;34m+\u001b[0m\u001b[0mxlim\u001b[0m\u001b[0;34m(\u001b[0m\u001b[0;34m-\u001b[0m\u001b[0;36m0.01\u001b[0m\u001b[0;34m,\u001b[0m\u001b[0;36m1.01\u001b[0m\u001b[0;34m)\u001b[0m\u001b[0;34m+\u001b[0m\u001b[0mylim\u001b[0m\u001b[0;34m(\u001b[0m\u001b[0;34m-\u001b[0m\u001b[0;36m0.01\u001b[0m\u001b[0;34m,\u001b[0m\u001b[0;36m1.01\u001b[0m\u001b[0;34m)\u001b[0m\u001b[0;34m+\u001b[0m\u001b[0mxlab\u001b[0m\u001b[0;34m(\u001b[0m\u001b[0;34m\"1-Especifidad\"\u001b[0m\u001b[0;34m)\u001b[0m\u001b[0;34m+\u001b[0m\u001b[0mylab\u001b[0m\u001b[0;34m(\u001b[0m\u001b[0;34m\"Sensibilidad\"\u001b[0m\u001b[0;34m)\u001b[0m\u001b[0;34m\u001b[0m\u001b[0;34m\u001b[0m\u001b[0m\n\u001b[0m",
      "\u001b[0;31mNameError\u001b[0m: name 'ggplot' is not defined"
     ]
    }
   ],
   "source": [
    "ggplot(df, aes(x=\"esp\", y=\"sens\")) +geom_line() + geom_abline(linetype=\"dashed\")+xlim(-0.01,1.01)+ylim(-0.01,1.01)+xlab(\"1-Especifidad\")+ylab(\"Sensibilidad\")"
   ]
  },
  {
   "cell_type": "code",
   "execution_count": 86,
   "metadata": {},
   "outputs": [
    {
     "ename": "NameError",
     "evalue": "name 'sensit' is not defined",
     "output_type": "error",
     "traceback": [
      "\u001b[0;31m---------------------------------------------------------------------------\u001b[0m",
      "\u001b[0;31mNameError\u001b[0m                                 Traceback (most recent call last)",
      "\u001b[0;32m<ipython-input-86-6dcb6a0c7485>\u001b[0m in \u001b[0;36m<module>\u001b[0;34m\u001b[0m\n\u001b[0;32m----> 1\u001b[0;31m \u001b[0mauc\u001b[0m \u001b[0;34m=\u001b[0m \u001b[0mmetrics\u001b[0m\u001b[0;34m.\u001b[0m\u001b[0mauc\u001b[0m\u001b[0;34m(\u001b[0m\u001b[0mespc_1\u001b[0m\u001b[0;34m,\u001b[0m \u001b[0msensit\u001b[0m\u001b[0;34m)\u001b[0m\u001b[0;34m\u001b[0m\u001b[0;34m\u001b[0m\u001b[0m\n\u001b[0m\u001b[1;32m      2\u001b[0m \u001b[0mauc\u001b[0m\u001b[0;34m\u001b[0m\u001b[0;34m\u001b[0m\u001b[0m\n",
      "\u001b[0;31mNameError\u001b[0m: name 'sensit' is not defined"
     ]
    }
   ],
   "source": [
    "auc = metrics.auc(espc_1, sensit)\n",
    "auc"
   ]
  },
  {
   "cell_type": "code",
   "execution_count": 87,
   "metadata": {},
   "outputs": [
    {
     "ename": "NameError",
     "evalue": "name 'ggplot' is not defined",
     "output_type": "error",
     "traceback": [
      "\u001b[0;31m---------------------------------------------------------------------------\u001b[0m",
      "\u001b[0;31mNameError\u001b[0m                                 Traceback (most recent call last)",
      "\u001b[0;32m<ipython-input-87-7259c767e7f4>\u001b[0m in \u001b[0;36m<module>\u001b[0;34m\u001b[0m\n\u001b[0;32m----> 1\u001b[0;31m \u001b[0mggplot\u001b[0m\u001b[0;34m(\u001b[0m\u001b[0mdf\u001b[0m\u001b[0;34m,\u001b[0m \u001b[0maes\u001b[0m\u001b[0;34m(\u001b[0m\u001b[0mx\u001b[0m\u001b[0;34m=\u001b[0m\u001b[0;34m\"esp\"\u001b[0m\u001b[0;34m,\u001b[0m \u001b[0my\u001b[0m\u001b[0;34m=\u001b[0m\u001b[0;34m\"sens\"\u001b[0m\u001b[0;34m)\u001b[0m\u001b[0;34m)\u001b[0m \u001b[0;34m+\u001b[0m \u001b[0mgeom_area\u001b[0m\u001b[0;34m(\u001b[0m\u001b[0malpha\u001b[0m\u001b[0;34m=\u001b[0m\u001b[0;36m0.25\u001b[0m\u001b[0;34m)\u001b[0m\u001b[0;34m+\u001b[0m\u001b[0mgeom_line\u001b[0m\u001b[0;34m(\u001b[0m\u001b[0maes\u001b[0m\u001b[0;34m(\u001b[0m\u001b[0my\u001b[0m\u001b[0;34m=\u001b[0m\u001b[0;34m\"sens\"\u001b[0m\u001b[0;34m)\u001b[0m\u001b[0;34m)\u001b[0m\u001b[0;34m+\u001b[0m\u001b[0mggtitle\u001b[0m\u001b[0;34m(\u001b[0m\u001b[0;34m\"Curva ROC y AUC=%s\"\u001b[0m\u001b[0;34m%\u001b[0m\u001b[0mstr\u001b[0m\u001b[0;34m(\u001b[0m\u001b[0mauc\u001b[0m\u001b[0;34m)\u001b[0m\u001b[0;34m)\u001b[0m\u001b[0;34m\u001b[0m\u001b[0;34m\u001b[0m\u001b[0m\n\u001b[0m",
      "\u001b[0;31mNameError\u001b[0m: name 'ggplot' is not defined"
     ]
    }
   ],
   "source": [
    "ggplot(df, aes(x=\"esp\", y=\"sens\")) + geom_area(alpha=0.25)+geom_line(aes(y=\"sens\"))+ggtitle(\"Curva ROC y AUC=%s\"%str(auc))"
   ]
  },
  {
   "cell_type": "markdown",
   "metadata": {},
   "source": [
    "## RESUMEN DE LA REGRESION LOGISTICA "
   ]
  },
  {
   "cell_type": "markdown",
   "metadata": {},
   "source": [
    "Puede ser utilizada en una gran cantidad de casos donde la variable de lo que queremos predecir es binaria o bien categorica, en particular hemos visto todas las matematicas que hay detras de una regresion logistica y el proceso para implementarlas bien manualmente o bien utilizando sklearn. \\ \n",
    "Con la regresion lineal y la regresion logistica ya tenemos dos herramientas utiles y casi cualquier dataset que tomemos, implementar una regresion logistica o una regresion lineal para predecir valores es lo minimo que pueda hacer un data science. \n",
    "en la proxima seccion, estudiaremos algoritmos no supervisados, algoritmos donde no necesariamente necesitaremos de un data set previo de datos historicos para hacer una prediccion, lo que conocemos como clustering o segmentacion. \n",
    "\n"
   ]
  },
  {
   "cell_type": "code",
   "execution_count": null,
   "metadata": {},
   "outputs": [],
   "source": []
  }
 ],
 "metadata": {
  "kernelspec": {
   "display_name": "Python 3",
   "language": "python",
   "name": "python3"
  },
  "language_info": {
   "codemirror_mode": {
    "name": "ipython",
    "version": 3
   },
   "file_extension": ".py",
   "mimetype": "text/x-python",
   "name": "python",
   "nbconvert_exporter": "python",
   "pygments_lexer": "ipython3",
   "version": "3.8.3"
  }
 },
 "nbformat": 4,
 "nbformat_minor": 2
}
